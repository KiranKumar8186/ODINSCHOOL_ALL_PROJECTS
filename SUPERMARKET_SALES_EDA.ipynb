{
 "cells": [
  {
   "cell_type": "markdown",
   "id": "b54a13cd",
   "metadata": {},
   "source": [
    "# Super Market Sales\n",
    "The dataset consists of historical sales data of a supermarket company from 3 different branches over 3 months from January to March 2019. Following table provides a summary of the variables and the variables description.\n",
    "\n",
    "### Description of Attributes of the Dataset :\n",
    "###### 1. Invoice ID : \n",
    "Computer generated sales slip invoice dentification number\n",
    "###### 2. Branch : \n",
    "Branch of supermarket (3 branches are available identified by A,B and C)\n",
    "###### 3. City : \n",
    "Location of supermarket \n",
    "###### 4. Customer type :\n",
    "Type of customers, recorded by Members for customers using member card and Normal for without member card \n",
    "###### 5. Gender :\n",
    "Gender type of customer(Male/Female)\n",
    "###### 6. Product line :\n",
    "General item categorization groups-Electronic accessories, Fashion accessories, Food and beverages, Health and beauty, Home and lifestyle, Sports and travel\n",
    "###### 7. Unit price : \n",
    "Price of each product in dollar\n",
    "###### 8. Quantity :\n",
    "Number of products purchased by customer\n",
    "###### 9. Tax : \n",
    "5% tax fee for customer buying \n",
    "###### 10. Total : \n",
    "Total price including tax\n",
    "###### 11. Date : \n",
    "Date of purchase (Record available from January 2019 to March 2019)\n",
    "###### 12. Time :\n",
    "Purchase time (10am to 9pm)\n",
    "###### 13. Payment : \n",
    "Payment used by customer for purchase (3 methods are available-Cash,Credit card and E-Wallet)\n",
    "###### 14. COGS : \n",
    "Cost of goods sold\n",
    "###### 15. Gross margin percentage : \n",
    "Gross margin percentage\n",
    "###### 16. Gross income :\n",
    "Gross income from customers i.e. income of supermarket and spend by customers\n",
    "###### 17. Rating : \n",
    "Customer stratification rating on their overall shopping experience (On a scale of 1 to 10, 1 being lowest and 10 being  highest)"
   ]
  },
  {
   "cell_type": "markdown",
   "id": "e3182dc0",
   "metadata": {},
   "source": [
    "# Part-1 : \n",
    "### 1. compete all the basic ezploratory steps."
   ]
  },
  {
   "cell_type": "code",
   "execution_count": 309,
   "id": "5b2f3212",
   "metadata": {},
   "outputs": [],
   "source": [
    "# IMPORTING MAIN LIBRARIES\n",
    "\n",
    "import pandas as pd\n",
    "import numpy as np\n",
    "from matplotlib import pyplot as plt\n",
    "import seaborn as sns\n",
    "import warnings\n",
    "warnings.filterwarnings(\"ignore\")"
   ]
  },
  {
   "cell_type": "code",
   "execution_count": 310,
   "id": "947e9c7d",
   "metadata": {},
   "outputs": [],
   "source": [
    "# IMPORTING THE SUPERMARKET_SAES DATASET \n",
    "\n",
    "Sm_sales = pd.read_csv(\"supermarket_sales (1).csv\")"
   ]
  },
  {
   "cell_type": "code",
   "execution_count": 311,
   "id": "05e9ea1e",
   "metadata": {},
   "outputs": [
    {
     "data": {
      "text/html": [
       "<div>\n",
       "<style scoped>\n",
       "    .dataframe tbody tr th:only-of-type {\n",
       "        vertical-align: middle;\n",
       "    }\n",
       "\n",
       "    .dataframe tbody tr th {\n",
       "        vertical-align: top;\n",
       "    }\n",
       "\n",
       "    .dataframe thead th {\n",
       "        text-align: right;\n",
       "    }\n",
       "</style>\n",
       "<table border=\"1\" class=\"dataframe\">\n",
       "  <thead>\n",
       "    <tr style=\"text-align: right;\">\n",
       "      <th></th>\n",
       "      <th>Invoice ID</th>\n",
       "      <th>Branch</th>\n",
       "      <th>City</th>\n",
       "      <th>Customer type</th>\n",
       "      <th>Gender</th>\n",
       "      <th>Product line</th>\n",
       "      <th>Unit price</th>\n",
       "      <th>Quantity</th>\n",
       "      <th>Tax 5%</th>\n",
       "      <th>Total</th>\n",
       "      <th>Date</th>\n",
       "      <th>Time</th>\n",
       "      <th>Payment</th>\n",
       "      <th>cogs</th>\n",
       "      <th>gross margin percentage</th>\n",
       "      <th>gross income</th>\n",
       "      <th>Rating</th>\n",
       "    </tr>\n",
       "  </thead>\n",
       "  <tbody>\n",
       "    <tr>\n",
       "      <th>0</th>\n",
       "      <td>750-67-8428</td>\n",
       "      <td>A</td>\n",
       "      <td>Yangon</td>\n",
       "      <td>Member</td>\n",
       "      <td>Female</td>\n",
       "      <td>Health and beauty</td>\n",
       "      <td>74.69</td>\n",
       "      <td>7</td>\n",
       "      <td>26.1415</td>\n",
       "      <td>548.9715</td>\n",
       "      <td>1/5/2019</td>\n",
       "      <td>13:08</td>\n",
       "      <td>Ewallet</td>\n",
       "      <td>522.83</td>\n",
       "      <td>4.761905</td>\n",
       "      <td>26.1415</td>\n",
       "      <td>9.1</td>\n",
       "    </tr>\n",
       "    <tr>\n",
       "      <th>1</th>\n",
       "      <td>226-31-3081</td>\n",
       "      <td>C</td>\n",
       "      <td>Naypyitaw</td>\n",
       "      <td>Normal</td>\n",
       "      <td>Female</td>\n",
       "      <td>Electronic accessories</td>\n",
       "      <td>15.28</td>\n",
       "      <td>5</td>\n",
       "      <td>3.8200</td>\n",
       "      <td>80.2200</td>\n",
       "      <td>3/8/2019</td>\n",
       "      <td>10:29</td>\n",
       "      <td>Cash</td>\n",
       "      <td>76.40</td>\n",
       "      <td>4.761905</td>\n",
       "      <td>3.8200</td>\n",
       "      <td>9.6</td>\n",
       "    </tr>\n",
       "    <tr>\n",
       "      <th>2</th>\n",
       "      <td>631-41-3108</td>\n",
       "      <td>A</td>\n",
       "      <td>Yangon</td>\n",
       "      <td>Normal</td>\n",
       "      <td>Male</td>\n",
       "      <td>Home and lifestyle</td>\n",
       "      <td>46.33</td>\n",
       "      <td>7</td>\n",
       "      <td>16.2155</td>\n",
       "      <td>340.5255</td>\n",
       "      <td>3/3/2019</td>\n",
       "      <td>13:23</td>\n",
       "      <td>Credit card</td>\n",
       "      <td>324.31</td>\n",
       "      <td>4.761905</td>\n",
       "      <td>16.2155</td>\n",
       "      <td>7.4</td>\n",
       "    </tr>\n",
       "    <tr>\n",
       "      <th>3</th>\n",
       "      <td>123-19-1176</td>\n",
       "      <td>A</td>\n",
       "      <td>Yangon</td>\n",
       "      <td>Member</td>\n",
       "      <td>Male</td>\n",
       "      <td>Health and beauty</td>\n",
       "      <td>58.22</td>\n",
       "      <td>8</td>\n",
       "      <td>23.2880</td>\n",
       "      <td>489.0480</td>\n",
       "      <td>1/27/2019</td>\n",
       "      <td>20:33</td>\n",
       "      <td>Ewallet</td>\n",
       "      <td>465.76</td>\n",
       "      <td>4.761905</td>\n",
       "      <td>23.2880</td>\n",
       "      <td>8.4</td>\n",
       "    </tr>\n",
       "    <tr>\n",
       "      <th>4</th>\n",
       "      <td>373-73-7910</td>\n",
       "      <td>A</td>\n",
       "      <td>Yangon</td>\n",
       "      <td>Normal</td>\n",
       "      <td>Male</td>\n",
       "      <td>Sports and travel</td>\n",
       "      <td>86.31</td>\n",
       "      <td>7</td>\n",
       "      <td>30.2085</td>\n",
       "      <td>634.3785</td>\n",
       "      <td>2/8/2019</td>\n",
       "      <td>10:37</td>\n",
       "      <td>Ewallet</td>\n",
       "      <td>604.17</td>\n",
       "      <td>4.761905</td>\n",
       "      <td>30.2085</td>\n",
       "      <td>5.3</td>\n",
       "    </tr>\n",
       "  </tbody>\n",
       "</table>\n",
       "</div>"
      ],
      "text/plain": [
       "    Invoice ID Branch       City Customer type  Gender  \\\n",
       "0  750-67-8428      A     Yangon        Member  Female   \n",
       "1  226-31-3081      C  Naypyitaw        Normal  Female   \n",
       "2  631-41-3108      A     Yangon        Normal    Male   \n",
       "3  123-19-1176      A     Yangon        Member    Male   \n",
       "4  373-73-7910      A     Yangon        Normal    Male   \n",
       "\n",
       "             Product line  Unit price  Quantity   Tax 5%     Total       Date  \\\n",
       "0       Health and beauty       74.69         7  26.1415  548.9715   1/5/2019   \n",
       "1  Electronic accessories       15.28         5   3.8200   80.2200   3/8/2019   \n",
       "2      Home and lifestyle       46.33         7  16.2155  340.5255   3/3/2019   \n",
       "3       Health and beauty       58.22         8  23.2880  489.0480  1/27/2019   \n",
       "4       Sports and travel       86.31         7  30.2085  634.3785   2/8/2019   \n",
       "\n",
       "    Time      Payment    cogs  gross margin percentage  gross income  Rating  \n",
       "0  13:08      Ewallet  522.83                 4.761905       26.1415     9.1  \n",
       "1  10:29         Cash   76.40                 4.761905        3.8200     9.6  \n",
       "2  13:23  Credit card  324.31                 4.761905       16.2155     7.4  \n",
       "3  20:33      Ewallet  465.76                 4.761905       23.2880     8.4  \n",
       "4  10:37      Ewallet  604.17                 4.761905       30.2085     5.3  "
      ]
     },
     "execution_count": 311,
     "metadata": {},
     "output_type": "execute_result"
    }
   ],
   "source": [
    "# GETTING FIRST 5 OBSERVATIONS FROM THE DATA\n",
    "\n",
    "Sm_sales.head()"
   ]
  },
  {
   "cell_type": "code",
   "execution_count": 312,
   "id": "2076a5b0",
   "metadata": {},
   "outputs": [
    {
     "data": {
      "text/html": [
       "<div>\n",
       "<style scoped>\n",
       "    .dataframe tbody tr th:only-of-type {\n",
       "        vertical-align: middle;\n",
       "    }\n",
       "\n",
       "    .dataframe tbody tr th {\n",
       "        vertical-align: top;\n",
       "    }\n",
       "\n",
       "    .dataframe thead th {\n",
       "        text-align: right;\n",
       "    }\n",
       "</style>\n",
       "<table border=\"1\" class=\"dataframe\">\n",
       "  <thead>\n",
       "    <tr style=\"text-align: right;\">\n",
       "      <th></th>\n",
       "      <th>Invoice ID</th>\n",
       "      <th>Branch</th>\n",
       "      <th>City</th>\n",
       "      <th>Customer type</th>\n",
       "      <th>Gender</th>\n",
       "      <th>Product line</th>\n",
       "      <th>Unit price</th>\n",
       "      <th>Quantity</th>\n",
       "      <th>Tax 5%</th>\n",
       "      <th>Total</th>\n",
       "      <th>Date</th>\n",
       "      <th>Time</th>\n",
       "      <th>Payment</th>\n",
       "      <th>cogs</th>\n",
       "      <th>gross margin percentage</th>\n",
       "      <th>gross income</th>\n",
       "      <th>Rating</th>\n",
       "    </tr>\n",
       "  </thead>\n",
       "  <tbody>\n",
       "    <tr>\n",
       "      <th>995</th>\n",
       "      <td>233-67-5758</td>\n",
       "      <td>C</td>\n",
       "      <td>Naypyitaw</td>\n",
       "      <td>Normal</td>\n",
       "      <td>Male</td>\n",
       "      <td>Health and beauty</td>\n",
       "      <td>40.35</td>\n",
       "      <td>1</td>\n",
       "      <td>2.0175</td>\n",
       "      <td>42.3675</td>\n",
       "      <td>1/29/2019</td>\n",
       "      <td>13:46</td>\n",
       "      <td>Ewallet</td>\n",
       "      <td>40.35</td>\n",
       "      <td>4.761905</td>\n",
       "      <td>2.0175</td>\n",
       "      <td>6.2</td>\n",
       "    </tr>\n",
       "    <tr>\n",
       "      <th>996</th>\n",
       "      <td>303-96-2227</td>\n",
       "      <td>B</td>\n",
       "      <td>Mandalay</td>\n",
       "      <td>Normal</td>\n",
       "      <td>Female</td>\n",
       "      <td>Home and lifestyle</td>\n",
       "      <td>97.38</td>\n",
       "      <td>10</td>\n",
       "      <td>48.6900</td>\n",
       "      <td>1022.4900</td>\n",
       "      <td>3/2/2019</td>\n",
       "      <td>17:16</td>\n",
       "      <td>Ewallet</td>\n",
       "      <td>973.80</td>\n",
       "      <td>4.761905</td>\n",
       "      <td>48.6900</td>\n",
       "      <td>4.4</td>\n",
       "    </tr>\n",
       "    <tr>\n",
       "      <th>997</th>\n",
       "      <td>727-02-1313</td>\n",
       "      <td>A</td>\n",
       "      <td>Yangon</td>\n",
       "      <td>Member</td>\n",
       "      <td>Male</td>\n",
       "      <td>Food and beverages</td>\n",
       "      <td>31.84</td>\n",
       "      <td>1</td>\n",
       "      <td>1.5920</td>\n",
       "      <td>33.4320</td>\n",
       "      <td>2/9/2019</td>\n",
       "      <td>13:22</td>\n",
       "      <td>Cash</td>\n",
       "      <td>31.84</td>\n",
       "      <td>4.761905</td>\n",
       "      <td>1.5920</td>\n",
       "      <td>7.7</td>\n",
       "    </tr>\n",
       "    <tr>\n",
       "      <th>998</th>\n",
       "      <td>347-56-2442</td>\n",
       "      <td>A</td>\n",
       "      <td>Yangon</td>\n",
       "      <td>Normal</td>\n",
       "      <td>Male</td>\n",
       "      <td>Home and lifestyle</td>\n",
       "      <td>65.82</td>\n",
       "      <td>1</td>\n",
       "      <td>3.2910</td>\n",
       "      <td>69.1110</td>\n",
       "      <td>2/22/2019</td>\n",
       "      <td>15:33</td>\n",
       "      <td>Cash</td>\n",
       "      <td>65.82</td>\n",
       "      <td>4.761905</td>\n",
       "      <td>3.2910</td>\n",
       "      <td>4.1</td>\n",
       "    </tr>\n",
       "    <tr>\n",
       "      <th>999</th>\n",
       "      <td>849-09-3807</td>\n",
       "      <td>A</td>\n",
       "      <td>Yangon</td>\n",
       "      <td>Member</td>\n",
       "      <td>Female</td>\n",
       "      <td>Fashion accessories</td>\n",
       "      <td>88.34</td>\n",
       "      <td>7</td>\n",
       "      <td>30.9190</td>\n",
       "      <td>649.2990</td>\n",
       "      <td>2/18/2019</td>\n",
       "      <td>13:28</td>\n",
       "      <td>Cash</td>\n",
       "      <td>618.38</td>\n",
       "      <td>4.761905</td>\n",
       "      <td>30.9190</td>\n",
       "      <td>6.6</td>\n",
       "    </tr>\n",
       "  </tbody>\n",
       "</table>\n",
       "</div>"
      ],
      "text/plain": [
       "      Invoice ID Branch       City Customer type  Gender         Product line  \\\n",
       "995  233-67-5758      C  Naypyitaw        Normal    Male    Health and beauty   \n",
       "996  303-96-2227      B   Mandalay        Normal  Female   Home and lifestyle   \n",
       "997  727-02-1313      A     Yangon        Member    Male   Food and beverages   \n",
       "998  347-56-2442      A     Yangon        Normal    Male   Home and lifestyle   \n",
       "999  849-09-3807      A     Yangon        Member  Female  Fashion accessories   \n",
       "\n",
       "     Unit price  Quantity   Tax 5%      Total       Date   Time  Payment  \\\n",
       "995       40.35         1   2.0175    42.3675  1/29/2019  13:46  Ewallet   \n",
       "996       97.38        10  48.6900  1022.4900   3/2/2019  17:16  Ewallet   \n",
       "997       31.84         1   1.5920    33.4320   2/9/2019  13:22     Cash   \n",
       "998       65.82         1   3.2910    69.1110  2/22/2019  15:33     Cash   \n",
       "999       88.34         7  30.9190   649.2990  2/18/2019  13:28     Cash   \n",
       "\n",
       "       cogs  gross margin percentage  gross income  Rating  \n",
       "995   40.35                 4.761905        2.0175     6.2  \n",
       "996  973.80                 4.761905       48.6900     4.4  \n",
       "997   31.84                 4.761905        1.5920     7.7  \n",
       "998   65.82                 4.761905        3.2910     4.1  \n",
       "999  618.38                 4.761905       30.9190     6.6  "
      ]
     },
     "execution_count": 312,
     "metadata": {},
     "output_type": "execute_result"
    }
   ],
   "source": [
    "# GETTING LAST 5 OBSERVATIONS FROM THE DATA\n",
    "\n",
    "Sm_sales.tail()"
   ]
  },
  {
   "cell_type": "code",
   "execution_count": 313,
   "id": "f950929b",
   "metadata": {},
   "outputs": [
    {
     "name": "stdout",
     "output_type": "stream",
     "text": [
      "<class 'pandas.core.frame.DataFrame'>\n",
      "RangeIndex: 1000 entries, 0 to 999\n",
      "Data columns (total 17 columns):\n",
      " #   Column                   Non-Null Count  Dtype  \n",
      "---  ------                   --------------  -----  \n",
      " 0   Invoice ID               1000 non-null   object \n",
      " 1   Branch                   1000 non-null   object \n",
      " 2   City                     1000 non-null   object \n",
      " 3   Customer type            1000 non-null   object \n",
      " 4   Gender                   1000 non-null   object \n",
      " 5   Product line             1000 non-null   object \n",
      " 6   Unit price               1000 non-null   float64\n",
      " 7   Quantity                 1000 non-null   int64  \n",
      " 8   Tax 5%                   1000 non-null   float64\n",
      " 9   Total                    1000 non-null   float64\n",
      " 10  Date                     1000 non-null   object \n",
      " 11  Time                     1000 non-null   object \n",
      " 12  Payment                  1000 non-null   object \n",
      " 13  cogs                     1000 non-null   float64\n",
      " 14  gross margin percentage  1000 non-null   float64\n",
      " 15  gross income             1000 non-null   float64\n",
      " 16  Rating                   1000 non-null   float64\n",
      "dtypes: float64(7), int64(1), object(9)\n",
      "memory usage: 132.9+ KB\n"
     ]
    }
   ],
   "source": [
    "# GETTING THE COMPLETE INFORMATION ABOUT THE DATASET\n",
    "\n",
    "Sm_sales.info()"
   ]
  },
  {
   "cell_type": "code",
   "execution_count": 314,
   "id": "a20b4ec6",
   "metadata": {},
   "outputs": [
    {
     "data": {
      "text/plain": [
       "(1000, 17)"
      ]
     },
     "execution_count": 314,
     "metadata": {},
     "output_type": "execute_result"
    }
   ],
   "source": [
    "# CHECKING THE SHAPE OF DATA\n",
    "\n",
    "Sm_sales.shape"
   ]
  },
  {
   "cell_type": "code",
   "execution_count": 315,
   "id": "154206b1",
   "metadata": {},
   "outputs": [
    {
     "data": {
      "text/plain": [
       "17000"
      ]
     },
     "execution_count": 315,
     "metadata": {},
     "output_type": "execute_result"
    }
   ],
   "source": [
    "# CHECKING THE SIZE OF THE DATA\n",
    "\n",
    "Sm_sales.size"
   ]
  },
  {
   "cell_type": "code",
   "execution_count": 316,
   "id": "305e791f",
   "metadata": {},
   "outputs": [
    {
     "data": {
      "text/plain": [
       "Invoice ID                  object\n",
       "Branch                      object\n",
       "City                        object\n",
       "Customer type               object\n",
       "Gender                      object\n",
       "Product line                object\n",
       "Unit price                 float64\n",
       "Quantity                     int64\n",
       "Tax 5%                     float64\n",
       "Total                      float64\n",
       "Date                        object\n",
       "Time                        object\n",
       "Payment                     object\n",
       "cogs                       float64\n",
       "gross margin percentage    float64\n",
       "gross income               float64\n",
       "Rating                     float64\n",
       "dtype: object"
      ]
     },
     "execution_count": 316,
     "metadata": {},
     "output_type": "execute_result"
    }
   ],
   "source": [
    "# CHECKING THE DATATYPE THAT ARE PRESENT IN THE DATA\n",
    "\n",
    "Sm_sales.dtypes"
   ]
  },
  {
   "cell_type": "code",
   "execution_count": 317,
   "id": "ad452a31",
   "metadata": {},
   "outputs": [
    {
     "data": {
      "text/plain": [
       "Invoice ID                 0\n",
       "Branch                     0\n",
       "City                       0\n",
       "Customer type              0\n",
       "Gender                     0\n",
       "Product line               0\n",
       "Unit price                 0\n",
       "Quantity                   0\n",
       "Tax 5%                     0\n",
       "Total                      0\n",
       "Date                       0\n",
       "Time                       0\n",
       "Payment                    0\n",
       "cogs                       0\n",
       "gross margin percentage    0\n",
       "gross income               0\n",
       "Rating                     0\n",
       "dtype: int64"
      ]
     },
     "execution_count": 317,
     "metadata": {},
     "output_type": "execute_result"
    }
   ],
   "source": [
    "# CHECKING NULL VALUES \n",
    "\n",
    "Sm_sales.isna().sum()"
   ]
  },
  {
   "cell_type": "code",
   "execution_count": 318,
   "id": "5380f61f",
   "metadata": {},
   "outputs": [
    {
     "data": {
      "text/plain": [
       "Invoice ID                 1000\n",
       "Branch                        3\n",
       "City                          3\n",
       "Customer type                 2\n",
       "Gender                        2\n",
       "Product line                  6\n",
       "Unit price                  943\n",
       "Quantity                     10\n",
       "Tax 5%                      990\n",
       "Total                       990\n",
       "Date                         89\n",
       "Time                        506\n",
       "Payment                       3\n",
       "cogs                        990\n",
       "gross margin percentage       1\n",
       "gross income                990\n",
       "Rating                       61\n",
       "dtype: int64"
      ]
     },
     "execution_count": 318,
     "metadata": {},
     "output_type": "execute_result"
    }
   ],
   "source": [
    "# CHECKING UNIQUE VALUES \n",
    "\n",
    "Sm_sales.nunique()"
   ]
  },
  {
   "cell_type": "code",
   "execution_count": 319,
   "id": "dcf5bea3",
   "metadata": {},
   "outputs": [
    {
     "data": {
      "text/plain": [
       "0"
      ]
     },
     "execution_count": 319,
     "metadata": {},
     "output_type": "execute_result"
    }
   ],
   "source": [
    "# CHECKING DUPLICATE VALUES \n",
    "\n",
    "Sm_sales.duplicated().sum()"
   ]
  },
  {
   "cell_type": "code",
   "execution_count": 320,
   "id": "42fafe63",
   "metadata": {},
   "outputs": [
    {
     "data": {
      "text/plain": [
       "Index(['Invoice ID', 'Branch', 'City', 'Customer type', 'Gender',\n",
       "       'Product line', 'Unit price', 'Quantity', 'Tax 5%', 'Total', 'Date',\n",
       "       'Time', 'Payment', 'cogs', 'gross margin percentage', 'gross income',\n",
       "       'Rating'],\n",
       "      dtype='object')"
      ]
     },
     "execution_count": 320,
     "metadata": {},
     "output_type": "execute_result"
    }
   ],
   "source": [
    "# CHECKING COLUMNS \n",
    "\n",
    "Sm_sales.columns"
   ]
  },
  {
   "cell_type": "code",
   "execution_count": 321,
   "id": "4b8b4f2a",
   "metadata": {},
   "outputs": [],
   "source": [
    "# CHANGING DATA TYPES OF FEATURES\n",
    "\n",
    "for col in['Branch', 'City', 'Customer type', 'Product line', 'Payment']:\n",
    "   Sm_sales[col] = Sm_sales[col].astype('category')\n",
    "\n",
    "# above mentioned variables are catergorical data, so converting into categorical data"
   ]
  },
  {
   "cell_type": "code",
   "execution_count": 322,
   "id": "82d33425",
   "metadata": {},
   "outputs": [],
   "source": [
    "# CONVERTING DATE INTO DATETIME\n",
    "\n",
    "Sm_sales['Date'] = pd.to_datetime(Sm_sales['Date'])"
   ]
  },
  {
   "cell_type": "code",
   "execution_count": 323,
   "id": "3063af10",
   "metadata": {},
   "outputs": [],
   "source": [
    "# CONVERTING TIME INTO DATETIME\n",
    "\n",
    "Sm_sales['Time'] = pd.to_datetime(Sm_sales['Time'])"
   ]
  },
  {
   "cell_type": "code",
   "execution_count": 324,
   "id": "f78d17c5",
   "metadata": {},
   "outputs": [
    {
     "data": {
      "text/plain": [
       "Invoice ID                         object\n",
       "Branch                           category\n",
       "City                             category\n",
       "Customer type                    category\n",
       "Gender                             object\n",
       "Product line                     category\n",
       "Unit price                        float64\n",
       "Quantity                            int64\n",
       "Tax 5%                            float64\n",
       "Total                             float64\n",
       "Date                       datetime64[ns]\n",
       "Time                       datetime64[ns]\n",
       "Payment                          category\n",
       "cogs                              float64\n",
       "gross margin percentage           float64\n",
       "gross income                      float64\n",
       "Rating                            float64\n",
       "dtype: object"
      ]
     },
     "execution_count": 324,
     "metadata": {},
     "output_type": "execute_result"
    }
   ],
   "source": [
    "# AFTER CONVERTING AGAIN CHECKING THE DATATYPES OF THE DATA\n",
    "\n",
    "Sm_sales.dtypes"
   ]
  },
  {
   "cell_type": "code",
   "execution_count": 325,
   "id": "b82354a2",
   "metadata": {},
   "outputs": [
    {
     "data": {
      "text/html": [
       "<div>\n",
       "<style scoped>\n",
       "    .dataframe tbody tr th:only-of-type {\n",
       "        vertical-align: middle;\n",
       "    }\n",
       "\n",
       "    .dataframe tbody tr th {\n",
       "        vertical-align: top;\n",
       "    }\n",
       "\n",
       "    .dataframe thead th {\n",
       "        text-align: right;\n",
       "    }\n",
       "</style>\n",
       "<table border=\"1\" class=\"dataframe\">\n",
       "  <thead>\n",
       "    <tr style=\"text-align: right;\">\n",
       "      <th></th>\n",
       "      <th>Unit price</th>\n",
       "      <th>Quantity</th>\n",
       "      <th>Tax 5%</th>\n",
       "      <th>Total</th>\n",
       "      <th>cogs</th>\n",
       "      <th>gross margin percentage</th>\n",
       "      <th>gross income</th>\n",
       "      <th>Rating</th>\n",
       "    </tr>\n",
       "  </thead>\n",
       "  <tbody>\n",
       "    <tr>\n",
       "      <th>count</th>\n",
       "      <td>1000.000000</td>\n",
       "      <td>1000.000000</td>\n",
       "      <td>1000.000000</td>\n",
       "      <td>1000.000000</td>\n",
       "      <td>1000.00000</td>\n",
       "      <td>1.000000e+03</td>\n",
       "      <td>1000.000000</td>\n",
       "      <td>1000.00000</td>\n",
       "    </tr>\n",
       "    <tr>\n",
       "      <th>mean</th>\n",
       "      <td>55.672130</td>\n",
       "      <td>5.510000</td>\n",
       "      <td>15.379369</td>\n",
       "      <td>322.966749</td>\n",
       "      <td>307.58738</td>\n",
       "      <td>4.761905e+00</td>\n",
       "      <td>15.379369</td>\n",
       "      <td>6.97270</td>\n",
       "    </tr>\n",
       "    <tr>\n",
       "      <th>std</th>\n",
       "      <td>26.494628</td>\n",
       "      <td>2.923431</td>\n",
       "      <td>11.708825</td>\n",
       "      <td>245.885335</td>\n",
       "      <td>234.17651</td>\n",
       "      <td>6.131498e-14</td>\n",
       "      <td>11.708825</td>\n",
       "      <td>1.71858</td>\n",
       "    </tr>\n",
       "    <tr>\n",
       "      <th>min</th>\n",
       "      <td>10.080000</td>\n",
       "      <td>1.000000</td>\n",
       "      <td>0.508500</td>\n",
       "      <td>10.678500</td>\n",
       "      <td>10.17000</td>\n",
       "      <td>4.761905e+00</td>\n",
       "      <td>0.508500</td>\n",
       "      <td>4.00000</td>\n",
       "    </tr>\n",
       "    <tr>\n",
       "      <th>25%</th>\n",
       "      <td>32.875000</td>\n",
       "      <td>3.000000</td>\n",
       "      <td>5.924875</td>\n",
       "      <td>124.422375</td>\n",
       "      <td>118.49750</td>\n",
       "      <td>4.761905e+00</td>\n",
       "      <td>5.924875</td>\n",
       "      <td>5.50000</td>\n",
       "    </tr>\n",
       "    <tr>\n",
       "      <th>50%</th>\n",
       "      <td>55.230000</td>\n",
       "      <td>5.000000</td>\n",
       "      <td>12.088000</td>\n",
       "      <td>253.848000</td>\n",
       "      <td>241.76000</td>\n",
       "      <td>4.761905e+00</td>\n",
       "      <td>12.088000</td>\n",
       "      <td>7.00000</td>\n",
       "    </tr>\n",
       "    <tr>\n",
       "      <th>75%</th>\n",
       "      <td>77.935000</td>\n",
       "      <td>8.000000</td>\n",
       "      <td>22.445250</td>\n",
       "      <td>471.350250</td>\n",
       "      <td>448.90500</td>\n",
       "      <td>4.761905e+00</td>\n",
       "      <td>22.445250</td>\n",
       "      <td>8.50000</td>\n",
       "    </tr>\n",
       "    <tr>\n",
       "      <th>max</th>\n",
       "      <td>99.960000</td>\n",
       "      <td>10.000000</td>\n",
       "      <td>49.650000</td>\n",
       "      <td>1042.650000</td>\n",
       "      <td>993.00000</td>\n",
       "      <td>4.761905e+00</td>\n",
       "      <td>49.650000</td>\n",
       "      <td>10.00000</td>\n",
       "    </tr>\n",
       "  </tbody>\n",
       "</table>\n",
       "</div>"
      ],
      "text/plain": [
       "        Unit price     Quantity       Tax 5%        Total        cogs  \\\n",
       "count  1000.000000  1000.000000  1000.000000  1000.000000  1000.00000   \n",
       "mean     55.672130     5.510000    15.379369   322.966749   307.58738   \n",
       "std      26.494628     2.923431    11.708825   245.885335   234.17651   \n",
       "min      10.080000     1.000000     0.508500    10.678500    10.17000   \n",
       "25%      32.875000     3.000000     5.924875   124.422375   118.49750   \n",
       "50%      55.230000     5.000000    12.088000   253.848000   241.76000   \n",
       "75%      77.935000     8.000000    22.445250   471.350250   448.90500   \n",
       "max      99.960000    10.000000    49.650000  1042.650000   993.00000   \n",
       "\n",
       "       gross margin percentage  gross income      Rating  \n",
       "count             1.000000e+03   1000.000000  1000.00000  \n",
       "mean              4.761905e+00     15.379369     6.97270  \n",
       "std               6.131498e-14     11.708825     1.71858  \n",
       "min               4.761905e+00      0.508500     4.00000  \n",
       "25%               4.761905e+00      5.924875     5.50000  \n",
       "50%               4.761905e+00     12.088000     7.00000  \n",
       "75%               4.761905e+00     22.445250     8.50000  \n",
       "max               4.761905e+00     49.650000    10.00000  "
      ]
     },
     "execution_count": 325,
     "metadata": {},
     "output_type": "execute_result"
    }
   ],
   "source": [
    "# STATICALSUMMERY OF DATASET\n",
    "\n",
    "Sm_sales.describe()"
   ]
  },
  {
   "cell_type": "code",
   "execution_count": 326,
   "id": "c2a05234",
   "metadata": {},
   "outputs": [
    {
     "data": {
      "text/html": [
       "<div>\n",
       "<style scoped>\n",
       "    .dataframe tbody tr th:only-of-type {\n",
       "        vertical-align: middle;\n",
       "    }\n",
       "\n",
       "    .dataframe tbody tr th {\n",
       "        vertical-align: top;\n",
       "    }\n",
       "\n",
       "    .dataframe thead th {\n",
       "        text-align: right;\n",
       "    }\n",
       "</style>\n",
       "<table border=\"1\" class=\"dataframe\">\n",
       "  <thead>\n",
       "    <tr style=\"text-align: right;\">\n",
       "      <th></th>\n",
       "      <th>Unit price</th>\n",
       "      <th>Quantity</th>\n",
       "      <th>Tax 5%</th>\n",
       "      <th>Total</th>\n",
       "      <th>cogs</th>\n",
       "      <th>gross margin percentage</th>\n",
       "      <th>gross income</th>\n",
       "      <th>Rating</th>\n",
       "    </tr>\n",
       "  </thead>\n",
       "  <tbody>\n",
       "    <tr>\n",
       "      <th>Unit price</th>\n",
       "      <td>1.000000</td>\n",
       "      <td>0.010778</td>\n",
       "      <td>0.633962</td>\n",
       "      <td>0.633962</td>\n",
       "      <td>0.633962</td>\n",
       "      <td>NaN</td>\n",
       "      <td>0.633962</td>\n",
       "      <td>-0.008778</td>\n",
       "    </tr>\n",
       "    <tr>\n",
       "      <th>Quantity</th>\n",
       "      <td>0.010778</td>\n",
       "      <td>1.000000</td>\n",
       "      <td>0.705510</td>\n",
       "      <td>0.705510</td>\n",
       "      <td>0.705510</td>\n",
       "      <td>NaN</td>\n",
       "      <td>0.705510</td>\n",
       "      <td>-0.015815</td>\n",
       "    </tr>\n",
       "    <tr>\n",
       "      <th>Tax 5%</th>\n",
       "      <td>0.633962</td>\n",
       "      <td>0.705510</td>\n",
       "      <td>1.000000</td>\n",
       "      <td>1.000000</td>\n",
       "      <td>1.000000</td>\n",
       "      <td>NaN</td>\n",
       "      <td>1.000000</td>\n",
       "      <td>-0.036442</td>\n",
       "    </tr>\n",
       "    <tr>\n",
       "      <th>Total</th>\n",
       "      <td>0.633962</td>\n",
       "      <td>0.705510</td>\n",
       "      <td>1.000000</td>\n",
       "      <td>1.000000</td>\n",
       "      <td>1.000000</td>\n",
       "      <td>NaN</td>\n",
       "      <td>1.000000</td>\n",
       "      <td>-0.036442</td>\n",
       "    </tr>\n",
       "    <tr>\n",
       "      <th>cogs</th>\n",
       "      <td>0.633962</td>\n",
       "      <td>0.705510</td>\n",
       "      <td>1.000000</td>\n",
       "      <td>1.000000</td>\n",
       "      <td>1.000000</td>\n",
       "      <td>NaN</td>\n",
       "      <td>1.000000</td>\n",
       "      <td>-0.036442</td>\n",
       "    </tr>\n",
       "    <tr>\n",
       "      <th>gross margin percentage</th>\n",
       "      <td>NaN</td>\n",
       "      <td>NaN</td>\n",
       "      <td>NaN</td>\n",
       "      <td>NaN</td>\n",
       "      <td>NaN</td>\n",
       "      <td>NaN</td>\n",
       "      <td>NaN</td>\n",
       "      <td>NaN</td>\n",
       "    </tr>\n",
       "    <tr>\n",
       "      <th>gross income</th>\n",
       "      <td>0.633962</td>\n",
       "      <td>0.705510</td>\n",
       "      <td>1.000000</td>\n",
       "      <td>1.000000</td>\n",
       "      <td>1.000000</td>\n",
       "      <td>NaN</td>\n",
       "      <td>1.000000</td>\n",
       "      <td>-0.036442</td>\n",
       "    </tr>\n",
       "    <tr>\n",
       "      <th>Rating</th>\n",
       "      <td>-0.008778</td>\n",
       "      <td>-0.015815</td>\n",
       "      <td>-0.036442</td>\n",
       "      <td>-0.036442</td>\n",
       "      <td>-0.036442</td>\n",
       "      <td>NaN</td>\n",
       "      <td>-0.036442</td>\n",
       "      <td>1.000000</td>\n",
       "    </tr>\n",
       "  </tbody>\n",
       "</table>\n",
       "</div>"
      ],
      "text/plain": [
       "                         Unit price  Quantity    Tax 5%     Total      cogs  \\\n",
       "Unit price                 1.000000  0.010778  0.633962  0.633962  0.633962   \n",
       "Quantity                   0.010778  1.000000  0.705510  0.705510  0.705510   \n",
       "Tax 5%                     0.633962  0.705510  1.000000  1.000000  1.000000   \n",
       "Total                      0.633962  0.705510  1.000000  1.000000  1.000000   \n",
       "cogs                       0.633962  0.705510  1.000000  1.000000  1.000000   \n",
       "gross margin percentage         NaN       NaN       NaN       NaN       NaN   \n",
       "gross income               0.633962  0.705510  1.000000  1.000000  1.000000   \n",
       "Rating                    -0.008778 -0.015815 -0.036442 -0.036442 -0.036442   \n",
       "\n",
       "                         gross margin percentage  gross income    Rating  \n",
       "Unit price                                   NaN      0.633962 -0.008778  \n",
       "Quantity                                     NaN      0.705510 -0.015815  \n",
       "Tax 5%                                       NaN      1.000000 -0.036442  \n",
       "Total                                        NaN      1.000000 -0.036442  \n",
       "cogs                                         NaN      1.000000 -0.036442  \n",
       "gross margin percentage                      NaN           NaN       NaN  \n",
       "gross income                                 NaN      1.000000 -0.036442  \n",
       "Rating                                       NaN     -0.036442  1.000000  "
      ]
     },
     "execution_count": 326,
     "metadata": {},
     "output_type": "execute_result"
    }
   ],
   "source": [
    "# CHECKING CORRELATIONS \n",
    "\n",
    "Sm_sales.corr()"
   ]
  },
  {
   "cell_type": "markdown",
   "id": "bc8b08e1",
   "metadata": {},
   "source": [
    "# Part-2 :\n",
    "### 1. Is your supermarket more popular with males and females ?\n"
   ]
  },
  {
   "cell_type": "code",
   "execution_count": 327,
   "id": "75f4913f",
   "metadata": {},
   "outputs": [
    {
     "data": {
      "text/plain": [
       "<AxesSubplot:xlabel='Gender', ylabel='count'>"
      ]
     },
     "execution_count": 327,
     "metadata": {},
     "output_type": "execute_result"
    },
    {
     "data": {
      "image/png": "[encoded data removed]",
      "text/plain": [
       "<Figure size 432x288 with 1 Axes>"
      ]
     },
     "metadata": {
      "needs_background": "light"
     },
     "output_type": "display_data"
    }
   ],
   "source": [
    "# CHECKING THAT SUPERMARKET IS MORE POPULAR WITH MALES OR FEMALES\n",
    "# BY USING COUNT PLOT, CHECKING MALE COUNT AND FEMALE COUNT or WE CAN FIND BY USING 'value_counts' function also\n",
    "\n",
    "sns.countplot(x = 'Gender', data = Sm_sales)"
   ]
  },
  {
   "cell_type": "code",
   "execution_count": 328,
   "id": "a8ee204f",
   "metadata": {},
   "outputs": [
    {
     "data": {
      "text/plain": [
       "Gender\n",
       "Female    501\n",
       "Male      499\n",
       "dtype: int64"
      ]
     },
     "execution_count": 328,
     "metadata": {},
     "output_type": "execute_result"
    }
   ],
   "source": [
    "# BY USING value_counts FUNCTION WE CAN GET THE COUNT OF FEMALE CUSTOMERS AND MALE CUSTOMERS \n",
    "\n",
    "Sm_sales.value_counts('Gender')"
   ]
  },
  {
   "cell_type": "markdown",
   "id": "0f175de2",
   "metadata": {},
   "source": [
    "* Female customers count is 501 and Male customers count is 499. There is not much difference in amount of Female and  Male customers visiting the store. The Supermarket is more popular with both Male and Female customers"
   ]
  },
  {
   "cell_type": "markdown",
   "id": "f71bf1d3",
   "metadata": {},
   "source": [
    "### 2. What does the customer rating look like and can you also comment on its skeweness ?"
   ]
  },
  {
   "cell_type": "code",
   "execution_count": 329,
   "id": "92af13e3",
   "metadata": {},
   "outputs": [
    {
     "data": {
      "text/plain": [
       "Text(0.5, 1.0, 'CUSTOMERS RATING')"
      ]
     },
     "execution_count": 329,
     "metadata": {},
     "output_type": "execute_result"
    },
    {
     "data": {
      "image/png": "[encoded data removed]",
      "text/plain": [
       "<Figure size 360x360 with 1 Axes>"
      ]
     },
     "metadata": {
      "needs_background": "light"
     },
     "output_type": "display_data"
    }
   ],
   "source": [
    "# WE CAN DISTRIBUTE THE RATING BY USING \"distplot\" AND WE CAN GET THAT HOW RATING IS DITRIBUTED \n",
    "# BY USING skew FUNCTION WE CAN FIND THE SKEWNESS OF RATING COULMN\n",
    "\n",
    "sns.displot(x = 'Rating', data = Sm_sales , kde= 'true')\n",
    "plt.title(\"CUSTOMERS RATING\")"
   ]
  },
  {
   "cell_type": "code",
   "execution_count": 330,
   "id": "d2d5ddbb",
   "metadata": {},
   "outputs": [
    {
     "data": {
      "text/plain": [
       "0.00900964876573073"
      ]
     },
     "execution_count": 330,
     "metadata": {},
     "output_type": "execute_result"
    }
   ],
   "source": [
    "# CHECKING SKEWNESS VALUES OF RATING USING skew FUNCTION \n",
    "\n",
    "Sm_sales['Rating'].skew()"
   ]
  },
  {
   "cell_type": "markdown",
   "id": "924c2063",
   "metadata": {},
   "source": [
    "* Graph can visualize the customers rating.\n",
    "* The skewness value of rating is 0.009. Skewness is very low. If the skewness value is between  -0.5 and 0.5, and the data is Normally Distributed data. Rating is normally distributed data\n"
   ]
  },
  {
   "cell_type": "markdown",
   "id": "67f4a9b3",
   "metadata": {},
   "source": [
    "### 3. What can you say about the aggregate sales across the branches ?"
   ]
  },
  {
   "cell_type": "code",
   "execution_count": 331,
   "id": "8303993c",
   "metadata": {},
   "outputs": [
    {
     "data": {
      "image/png": "[encoded data removed]",
      "text/plain": [
       "<Figure size 432x288 with 1 Axes>"
      ]
     },
     "metadata": {},
     "output_type": "display_data"
    }
   ],
   "source": [
    "# HERE BRANCH IS CATEGORICAL DATA. SO, I USED PIECHART TO SEE THE AGGREGATE SALES ACROSS THE 3 BRANCHES\n",
    "# AND ALSO USED vale_counts FUNCTIONS FOR COUNTING THE SALES ACROSS 3 DIFFERENT BRANCHES\n",
    "\n",
    "plt.pie(Sm_sales['Branch'].value_counts(), labels = Sm_sales['Branch'].unique(), autopct = '%.f%%')\n",
    "plt.title(\"THE AGGREGATE SALES ACROSS THE BRANCHES\")\n",
    "plt.show()"
   ]
  },
  {
   "cell_type": "markdown",
   "id": "ccb63091",
   "metadata": {},
   "source": [
    "* The Pie chart representing the total sales across the braches A,B and C. All branches look like generating same amount of sales."
   ]
  },
  {
   "cell_type": "markdown",
   "id": "5b417644",
   "metadata": {},
   "source": [
    "### 4. Which is the most popular payment method used by customers ?"
   ]
  },
  {
   "cell_type": "code",
   "execution_count": 332,
   "id": "97703d46",
   "metadata": {},
   "outputs": [
    {
     "data": {
      "text/plain": [
       "<AxesSubplot:title={'center':'POPULAR PAYMENT METHOD USED BY CUSTOMERS'}, xlabel='Payment', ylabel='count'>"
      ]
     },
     "execution_count": 332,
     "metadata": {},
     "output_type": "execute_result"
    },
    {
     "data": {
      "image/png": "[encoded data removed]",
      "text/plain": [
       "<Figure size 360x360 with 1 Axes>"
      ]
     },
     "metadata": {
      "needs_background": "light"
     },
     "output_type": "display_data"
    }
   ],
   "source": [
    "# BY USING COUNT PLOT VISUALIZATION TOOL WE CAN GET WHICH PAYMENT METHOD IS MOST USED \n",
    "\n",
    "plt.figure(figsize = (5,5))\n",
    "plt.title(\"POPULAR PAYMENT METHOD USED BY CUSTOMERS\")\n",
    "sns.countplot(Sm_sales[\"Payment\"])"
   ]
  },
  {
   "cell_type": "code",
   "execution_count": 333,
   "id": "881af88d",
   "metadata": {},
   "outputs": [
    {
     "data": {
      "text/plain": [
       "Ewallet        345\n",
       "Cash           344\n",
       "Credit card    311\n",
       "Name: Payment, dtype: int64"
      ]
     },
     "execution_count": 333,
     "metadata": {},
     "output_type": "execute_result"
    }
   ],
   "source": [
    "# AND ALSO BY USING value_counts FUNCTION WE CAN GET THE COUNT OF PAYMENT METHODS\n",
    "\n",
    "Sm_sales['Payment'].value_counts()"
   ]
  },
  {
   "cell_type": "markdown",
   "id": "efdd97f5",
   "metadata": {},
   "source": [
    "* There are three payment method are used for pay. And in that payment method most used methods are E-wallet and Cash methods."
   ]
  },
  {
   "cell_type": "markdown",
   "id": "6ccc3c3d",
   "metadata": {},
   "source": [
    "# Part-3 :\n",
    "### 1. Does gross income affect customers ratings ? "
   ]
  },
  {
   "cell_type": "code",
   "execution_count": 334,
   "id": "76d7e61a",
   "metadata": {},
   "outputs": [
    {
     "data": {
      "text/plain": [
       "<AxesSubplot:title={'center':\" RELATION BETWEEN 'RATING' AND 'GROSS INCOME' \"}, xlabel='Rating', ylabel='gross income'>"
      ]
     },
     "execution_count": 334,
     "metadata": {},
     "output_type": "execute_result"
    },
    {
     "data": {
      "image/png": "[encoded data removed]",
      "text/plain": [
       "<Figure size 360x360 with 1 Axes>"
      ]
     },
     "metadata": {
      "needs_background": "light"
     },
     "output_type": "display_data"
    }
   ],
   "source": [
    "# BY USING SCATTERPLOT WE CAN GET RELATIONSHIP AND WE CAN FIND THAT CUSTOMERS RATING WILL EFFECT GROSS INCOME OR NOT\n",
    "\n",
    "plt.figure(figsize = (5,5))\n",
    "plt.title(\" RELATION BETWEEN 'RATING' AND 'GROSS INCOME' \")\n",
    "sns.scatterplot(Sm_sales['Rating'], Sm_sales['gross income'])"
   ]
  },
  {
   "cell_type": "code",
   "execution_count": 335,
   "id": "cb84b5de",
   "metadata": {},
   "outputs": [
    {
     "data": {
      "text/plain": [
       "<AxesSubplot:title={'center':\" RELATION BETWEEN 'RATING' AND 'GROSS INCOME' BY USING TRENDLINE\"}, xlabel='Rating', ylabel='gross income'>"
      ]
     },
     "execution_count": 335,
     "metadata": {},
     "output_type": "execute_result"
    },
    {
     "data": {
      "image/png": "[encoded data removed]",
      "text/plain": [
       "<Figure size 360x360 with 1 Axes>"
      ]
     },
     "metadata": {
      "needs_background": "light"
     },
     "output_type": "display_data"
    }
   ],
   "source": [
    "# AND ALSO WE CAN USE THE REGRESSION PLOT THAT HELP TO SHOW THE TREND LINE \n",
    "# WHICH WE CAN FIND THE RELATIONSHIP \n",
    "\n",
    "plt.figure(figsize = (5,5))\n",
    "plt.title(\" RELATION BETWEEN 'RATING' AND 'GROSS INCOME' BY USING TRENDLINE\")\n",
    "sns.regplot(Sm_sales['Rating'], Sm_sales['gross income'])"
   ]
  },
  {
   "cell_type": "markdown",
   "id": "5e00e078",
   "metadata": {},
   "source": [
    "* As we can see here from scatter plot and the trend line which is pretty flat that there is no relationship between gross income and customer rating.\n",
    "* So, Gross income won't be effected by customers rating."
   ]
  },
  {
   "cell_type": "markdown",
   "id": "c8208aad",
   "metadata": {},
   "source": [
    "### 2. Which is the most profitable branch ?\n"
   ]
  },
  {
   "cell_type": "code",
   "execution_count": 336,
   "id": "9e329788",
   "metadata": {},
   "outputs": [
    {
     "data": {
      "text/plain": [
       "<AxesSubplot:title={'center':'MOST PROFITABLE BRANCH'}, xlabel='Branch', ylabel='gross income'>"
      ]
     },
     "execution_count": 336,
     "metadata": {},
     "output_type": "execute_result"
    },
    {
     "data": {
      "image/png": "[encoded data removed]",
      "text/plain": [
       "<Figure size 432x576 with 1 Axes>"
      ]
     },
     "metadata": {
      "needs_background": "light"
     },
     "output_type": "display_data"
    }
   ],
   "source": [
    "# BOX PLOT GIVES US MEAN, IQR AND OUTLIERS \n",
    "# SO, BY USING BOXPLOT WE GET THE MOST PROFITABLE BRANCH\n",
    "\n",
    "plt.figure(figsize = (6,8))\n",
    "plt.title(\"MOST PROFITABLE BRANCH\")\n",
    "sns.boxplot( x = Sm_sales['Branch'], y = Sm_sales['gross income'] )"
   ]
  },
  {
   "cell_type": "markdown",
   "id": "c892481c",
   "metadata": {},
   "source": [
    "* There is not much differrence in gross income by branches. But, Branch C has a slightly higher than A and B. So, most profitable branch is Branch C."
   ]
  },
  {
   "cell_type": "markdown",
   "id": "aafd5132",
   "metadata": {},
   "source": [
    "### 3. How is the relation between Gender and Gross Income ?"
   ]
  },
  {
   "cell_type": "code",
   "execution_count": 337,
   "id": "47b611cf",
   "metadata": {},
   "outputs": [
    {
     "data": {
      "text/plain": [
       "<AxesSubplot:title={'center':'RELATION BETWEEN GENDER AND GROSSINCOME'}, xlabel='Gender', ylabel='gross income'>"
      ]
     },
     "execution_count": 337,
     "metadata": {},
     "output_type": "execute_result"
    },
    {
     "data": {
      "image/png": "[encoded data removed]",
      "text/plain": [
       "<Figure size 360x360 with 1 Axes>"
      ]
     },
     "metadata": {
      "needs_background": "light"
     },
     "output_type": "display_data"
    }
   ],
   "source": [
    "# WE CAN SEE THE RELATIONSHIP FOR GENDER AND GROSS INCOME BY USING BOX PLOT\n",
    "\n",
    "plt.figure(figsize = (5,5))\n",
    "plt.title(\"RELATION BETWEEN GENDER AND GROSSINCOME\")\n",
    "sns.boxplot(x = Sm_sales['Gender'], y = Sm_sales['gross income'])"
   ]
  },
  {
   "cell_type": "markdown",
   "id": "63dbf80a",
   "metadata": {},
   "source": [
    "* Gross income is look like similar for both Male and Female, But there is a slightly higher gross income from Female customers."
   ]
  },
  {
   "cell_type": "markdown",
   "id": "631b826c",
   "metadata": {},
   "source": [
    "### 4. Can you see any time trend in gross income ?\n"
   ]
  },
  {
   "cell_type": "code",
   "execution_count": 338,
   "id": "cc2cede9",
   "metadata": {
    "scrolled": true
   },
   "outputs": [
    {
     "data": {
      "text/plain": [
       "<AxesSubplot:title={'center':'TIME TREND FOR GROSS INCOME'}, xlabel='Date', ylabel='gross income'>"
      ]
     },
     "execution_count": 338,
     "metadata": {},
     "output_type": "execute_result"
    },
    {
     "data": {
      "image/png": "[encoded data removed]",
      "text/plain": [
       "<Figure size 1080x288 with 1 Axes>"
      ]
     },
     "metadata": {
      "needs_background": "light"
     },
     "output_type": "display_data"
    }
   ],
   "source": [
    "plt.figure(figsize = (15,4))\n",
    "plt.title(\"TIME TREND FOR GROSS INCOME\")\n",
    "sns.lineplot(Sm_sales['Date'], Sm_sales['gross income'])"
   ]
  },
  {
   "cell_type": "markdown",
   "id": "ccf670cc",
   "metadata": {},
   "source": [
    "* There is no perticular time trend as we can see in above plot. It maintained at a certain average level. "
   ]
  },
  {
   "cell_type": "markdown",
   "id": "f53bf8a4",
   "metadata": {},
   "source": [
    "### 5. Which product line helps you generate the most income ?"
   ]
  },
  {
   "cell_type": "markdown",
   "id": "8792e81e",
   "metadata": {},
   "source": [
    "* We can get which product line is helps to generate the most income by using Barplot.\n",
    "* But if we visualize barplot using productline and gross income it will show by taking the mean."
   ]
  },
  {
   "cell_type": "code",
   "execution_count": 339,
   "id": "1c28dbc0",
   "metadata": {},
   "outputs": [
    {
     "data": {
      "text/plain": [
       "<AxesSubplot:title={'center':'GROSS INCOME OF PRODUCTLINE BASED ON MEAN'}, xlabel='Product line', ylabel='gross income'>"
      ]
     },
     "execution_count": 339,
     "metadata": {},
     "output_type": "execute_result"
    },
    {
     "data": {
      "image/png": "[encoded data removed]",
      "text/plain": [
       "<Figure size 864x432 with 1 Axes>"
      ]
     },
     "metadata": {
      "needs_background": "light"
     },
     "output_type": "display_data"
    }
   ],
   "source": [
    "# by using Bar plot checking how product line hepls to generate most income\n",
    "\n",
    "plt.figure(figsize = (12,6))\n",
    "plt.title(\"GROSS INCOME OF PRODUCTLINE BASED ON MEAN\")\n",
    "sns.barplot(x = Sm_sales['Product line'], y = Sm_sales['gross income'])"
   ]
  },
  {
   "cell_type": "markdown",
   "id": "45b9890f",
   "metadata": {},
   "source": [
    "* We can see that barplot plot showing by taking of mean from those variables.\n",
    "* So, now creating new dataset as 'Income' \n",
    "* By using groupby function, applying groupby function on product line and taking sum of gross income for each different product line and combing in new dataset"
   ]
  },
  {
   "cell_type": "code",
   "execution_count": 340,
   "id": "1f03bce4",
   "metadata": {},
   "outputs": [
    {
     "data": {
      "text/plain": [
       "<AxesSubplot:title={'center':'TOTAL INCOME OF EACH PRODUCTLINE'}, xlabel='Product line', ylabel='gross income'>"
      ]
     },
     "execution_count": 340,
     "metadata": {},
     "output_type": "execute_result"
    },
    {
     "data": {
      "image/png": "[encoded data removed]",
      "text/plain": [
       "<Figure size 864x360 with 1 Axes>"
      ]
     },
     "metadata": {
      "needs_background": "light"
     },
     "output_type": "display_data"
    }
   ],
   "source": [
    "# CREATING NEW DATASET FOR GROUPING PRODUCT LINE VARIABLE FOR GETTING SUM OF GROSS INCOME\n",
    "# THEN WE CAN GET PROPER VISUALIZATION\n",
    "# NOW BY USING BARPLOT WE CAN GET WHICH PRODUCT LINE IS HELPS TO GENERATE MORE INCOME\n",
    "\n",
    "Income = Sm_sales[['Product line', 'gross income']].groupby(['Product line'], as_index = False).sum().sort_values(by = 'gross income', ascending = False)\n",
    "plt.figure(figsize = (12,5))\n",
    "plt.title(\"TOTAL INCOME OF EACH PRODUCTLINE\")\n",
    "sns.barplot(x = 'Product line', y = 'gross income', data=Income)"
   ]
  },
  {
   "cell_type": "code",
   "execution_count": 341,
   "id": "fb71d314",
   "metadata": {},
   "outputs": [
    {
     "data": {
      "text/plain": [
       "Product line            gross income\n",
       "Electronic accessories  2587.5015       1\n",
       "Fashion accessories     2585.9950       1\n",
       "Food and beverages      2673.5640       1\n",
       "Health and beauty       2342.5590       1\n",
       "Home and lifestyle      2564.8530       1\n",
       "Sports and travel       2624.8965       1\n",
       "dtype: int64"
      ]
     },
     "execution_count": 341,
     "metadata": {},
     "output_type": "execute_result"
    }
   ],
   "source": [
    "# AND WE CAN GET WHICH PRODUCT LINE HELPS TO GENERATE MORE INCOME BY USING value_counts FUNCTION\n",
    "\n",
    "Income.value_counts()"
   ]
  },
  {
   "cell_type": "markdown",
   "id": "2bf78b89",
   "metadata": {},
   "source": [
    "* From above both barplot and value_counts function we can see that 2 products are looking equal.\n",
    "* \"Food and beverages\" and \" Sports and travel\" has the highest income.\n",
    "* These two product lines are helps to generate more income."
   ]
  },
  {
   "cell_type": "markdown",
   "id": "e47f3dc0",
   "metadata": {},
   "source": [
    "### 6. what is the spending pattern of both males and females, meaning in which category do they spend more ?"
   ]
  },
  {
   "cell_type": "code",
   "execution_count": 342,
   "id": "39801fb0",
   "metadata": {},
   "outputs": [
    {
     "data": {
      "text/plain": [
       "<AxesSubplot:title={'center':'TOTAL TRANCTION BY GENDER ON DEFFERENT PRODUCT LINE'}, xlabel='Product line', ylabel='count'>"
      ]
     },
     "execution_count": 342,
     "metadata": {},
     "output_type": "execute_result"
    },
    {
     "data": {
      "image/png": "[encoded data removed]",
      "text/plain": [
       "<Figure size 864x576 with 1 Axes>"
      ]
     },
     "metadata": {
      "needs_background": "light"
     },
     "output_type": "display_data"
    }
   ],
   "source": [
    "# BY USING COUNTPLOT WE CAN GET MALES AND FEMALES SPENDING PATTERN \n",
    "# CHECKING THE COUNT OF PRODUCTLINE FOR GETTING ON WHICH CATEGORY SPENDED MORE\n",
    "\n",
    "plt.figure(figsize = (12,8))\n",
    "plt.title(\"TOTAL TRANCTION BY GENDER ON DEFFERENT PRODUCT LINE\")\n",
    "sns.countplot(Sm_sales['Product line'], hue = Sm_sales.Gender)"
   ]
  },
  {
   "cell_type": "markdown",
   "id": "5557b3cc",
   "metadata": {},
   "source": [
    "* As we can see above Females spend on \"Fashion accessories\" and Males spend on \"Health and beauty\""
   ]
  },
  {
   "cell_type": "markdown",
   "id": "5ce80866",
   "metadata": {},
   "source": [
    "### 7. How many products are bought by customers ?"
   ]
  },
  {
   "cell_type": "code",
   "execution_count": 343,
   "id": "9a7d17b5",
   "metadata": {},
   "outputs": [
    {
     "data": {
      "text/plain": [
       "<AxesSubplot:title={'center':'PRODUCTS QUANTINY CHECKING'}, xlabel='Quantity', ylabel='count'>"
      ]
     },
     "execution_count": 343,
     "metadata": {},
     "output_type": "execute_result"
    },
    {
     "data": {
      "image/png": "[encoded data removed]",
      "text/plain": [
       "<Figure size 864x360 with 1 Axes>"
      ]
     },
     "metadata": {
      "needs_background": "light"
     },
     "output_type": "display_data"
    }
   ],
   "source": [
    "# BY USING COUNTPLOT WE CAN GET THAT THE CUSTOMER BOUGHT PRODUCTS IN HIGHEST QUANTITY\n",
    "\n",
    "plt.figure(figsize = (12,5))\n",
    "plt.title(\"PRODUCTS QUANTINY CHECKING\")\n",
    "sns.countplot(Sm_sales['Quantity'])"
   ]
  },
  {
   "cell_type": "markdown",
   "id": "cdf07d07",
   "metadata": {},
   "source": [
    "* Most of the customers bought 10 Products."
   ]
  },
  {
   "cell_type": "markdown",
   "id": "b2a35c9a",
   "metadata": {},
   "source": [
    "### 8. Which day of the week has max sales ?"
   ]
  },
  {
   "cell_type": "code",
   "execution_count": 344,
   "id": "ea7e9b46",
   "metadata": {},
   "outputs": [
    {
     "data": {
      "text/html": [
       "<div>\n",
       "<style scoped>\n",
       "    .dataframe tbody tr th:only-of-type {\n",
       "        vertical-align: middle;\n",
       "    }\n",
       "\n",
       "    .dataframe tbody tr th {\n",
       "        vertical-align: top;\n",
       "    }\n",
       "\n",
       "    .dataframe thead th {\n",
       "        text-align: right;\n",
       "    }\n",
       "</style>\n",
       "<table border=\"1\" class=\"dataframe\">\n",
       "  <thead>\n",
       "    <tr style=\"text-align: right;\">\n",
       "      <th></th>\n",
       "      <th>Invoice ID</th>\n",
       "      <th>Branch</th>\n",
       "      <th>City</th>\n",
       "      <th>Customer type</th>\n",
       "      <th>Gender</th>\n",
       "      <th>Product line</th>\n",
       "      <th>Unit price</th>\n",
       "      <th>Quantity</th>\n",
       "      <th>Tax 5%</th>\n",
       "      <th>Total</th>\n",
       "      <th>Date</th>\n",
       "      <th>Time</th>\n",
       "      <th>Payment</th>\n",
       "      <th>cogs</th>\n",
       "      <th>gross margin percentage</th>\n",
       "      <th>gross income</th>\n",
       "      <th>Rating</th>\n",
       "      <th>Day</th>\n",
       "    </tr>\n",
       "  </thead>\n",
       "  <tbody>\n",
       "    <tr>\n",
       "      <th>0</th>\n",
       "      <td>750-67-8428</td>\n",
       "      <td>A</td>\n",
       "      <td>Yangon</td>\n",
       "      <td>Member</td>\n",
       "      <td>Female</td>\n",
       "      <td>Health and beauty</td>\n",
       "      <td>74.69</td>\n",
       "      <td>7</td>\n",
       "      <td>26.1415</td>\n",
       "      <td>548.9715</td>\n",
       "      <td>2019-01-05</td>\n",
       "      <td>2022-02-22 13:08:00</td>\n",
       "      <td>Ewallet</td>\n",
       "      <td>522.83</td>\n",
       "      <td>4.761905</td>\n",
       "      <td>26.1415</td>\n",
       "      <td>9.1</td>\n",
       "      <td>Saturday</td>\n",
       "    </tr>\n",
       "    <tr>\n",
       "      <th>1</th>\n",
       "      <td>226-31-3081</td>\n",
       "      <td>C</td>\n",
       "      <td>Naypyitaw</td>\n",
       "      <td>Normal</td>\n",
       "      <td>Female</td>\n",
       "      <td>Electronic accessories</td>\n",
       "      <td>15.28</td>\n",
       "      <td>5</td>\n",
       "      <td>3.8200</td>\n",
       "      <td>80.2200</td>\n",
       "      <td>2019-03-08</td>\n",
       "      <td>2022-02-22 10:29:00</td>\n",
       "      <td>Cash</td>\n",
       "      <td>76.40</td>\n",
       "      <td>4.761905</td>\n",
       "      <td>3.8200</td>\n",
       "      <td>9.6</td>\n",
       "      <td>Friday</td>\n",
       "    </tr>\n",
       "    <tr>\n",
       "      <th>2</th>\n",
       "      <td>631-41-3108</td>\n",
       "      <td>A</td>\n",
       "      <td>Yangon</td>\n",
       "      <td>Normal</td>\n",
       "      <td>Male</td>\n",
       "      <td>Home and lifestyle</td>\n",
       "      <td>46.33</td>\n",
       "      <td>7</td>\n",
       "      <td>16.2155</td>\n",
       "      <td>340.5255</td>\n",
       "      <td>2019-03-03</td>\n",
       "      <td>2022-02-22 13:23:00</td>\n",
       "      <td>Credit card</td>\n",
       "      <td>324.31</td>\n",
       "      <td>4.761905</td>\n",
       "      <td>16.2155</td>\n",
       "      <td>7.4</td>\n",
       "      <td>Sunday</td>\n",
       "    </tr>\n",
       "    <tr>\n",
       "      <th>3</th>\n",
       "      <td>123-19-1176</td>\n",
       "      <td>A</td>\n",
       "      <td>Yangon</td>\n",
       "      <td>Member</td>\n",
       "      <td>Male</td>\n",
       "      <td>Health and beauty</td>\n",
       "      <td>58.22</td>\n",
       "      <td>8</td>\n",
       "      <td>23.2880</td>\n",
       "      <td>489.0480</td>\n",
       "      <td>2019-01-27</td>\n",
       "      <td>2022-02-22 20:33:00</td>\n",
       "      <td>Ewallet</td>\n",
       "      <td>465.76</td>\n",
       "      <td>4.761905</td>\n",
       "      <td>23.2880</td>\n",
       "      <td>8.4</td>\n",
       "      <td>Sunday</td>\n",
       "    </tr>\n",
       "    <tr>\n",
       "      <th>4</th>\n",
       "      <td>373-73-7910</td>\n",
       "      <td>A</td>\n",
       "      <td>Yangon</td>\n",
       "      <td>Normal</td>\n",
       "      <td>Male</td>\n",
       "      <td>Sports and travel</td>\n",
       "      <td>86.31</td>\n",
       "      <td>7</td>\n",
       "      <td>30.2085</td>\n",
       "      <td>634.3785</td>\n",
       "      <td>2019-02-08</td>\n",
       "      <td>2022-02-22 10:37:00</td>\n",
       "      <td>Ewallet</td>\n",
       "      <td>604.17</td>\n",
       "      <td>4.761905</td>\n",
       "      <td>30.2085</td>\n",
       "      <td>5.3</td>\n",
       "      <td>Friday</td>\n",
       "    </tr>\n",
       "  </tbody>\n",
       "</table>\n",
       "</div>"
      ],
      "text/plain": [
       "    Invoice ID Branch       City Customer type  Gender  \\\n",
       "0  750-67-8428      A     Yangon        Member  Female   \n",
       "1  226-31-3081      C  Naypyitaw        Normal  Female   \n",
       "2  631-41-3108      A     Yangon        Normal    Male   \n",
       "3  123-19-1176      A     Yangon        Member    Male   \n",
       "4  373-73-7910      A     Yangon        Normal    Male   \n",
       "\n",
       "             Product line  Unit price  Quantity   Tax 5%     Total       Date  \\\n",
       "0       Health and beauty       74.69         7  26.1415  548.9715 2019-01-05   \n",
       "1  Electronic accessories       15.28         5   3.8200   80.2200 2019-03-08   \n",
       "2      Home and lifestyle       46.33         7  16.2155  340.5255 2019-03-03   \n",
       "3       Health and beauty       58.22         8  23.2880  489.0480 2019-01-27   \n",
       "4       Sports and travel       86.31         7  30.2085  634.3785 2019-02-08   \n",
       "\n",
       "                 Time      Payment    cogs  gross margin percentage  \\\n",
       "0 2022-02-22 13:08:00      Ewallet  522.83                 4.761905   \n",
       "1 2022-02-22 10:29:00         Cash   76.40                 4.761905   \n",
       "2 2022-02-22 13:23:00  Credit card  324.31                 4.761905   \n",
       "3 2022-02-22 20:33:00      Ewallet  465.76                 4.761905   \n",
       "4 2022-02-22 10:37:00      Ewallet  604.17                 4.761905   \n",
       "\n",
       "   gross income  Rating       Day  \n",
       "0       26.1415     9.1  Saturday  \n",
       "1        3.8200     9.6    Friday  \n",
       "2       16.2155     7.4    Sunday  \n",
       "3       23.2880     8.4    Sunday  \n",
       "4       30.2085     5.3    Friday  "
      ]
     },
     "execution_count": 344,
     "metadata": {},
     "output_type": "execute_result"
    }
   ],
   "source": [
    "# From the Supermarket sales data we have to create a new column for day of the week\n",
    "# from Date variable we can get day\n",
    "# By using dt.day_name we can get the each day present in week \n",
    "\n",
    "Sm_sales['Day'] = Sm_sales['Date'].dt.day_name()\n",
    "Sm_sales.head()"
   ]
  },
  {
   "cell_type": "code",
   "execution_count": 345,
   "id": "dd0664bc",
   "metadata": {},
   "outputs": [
    {
     "data": {
      "text/plain": [
       "<AxesSubplot:title={'center':'MAXIMUM SALES IN EACH DAY OF THE WEEK'}, xlabel='Day', ylabel='Total'>"
      ]
     },
     "execution_count": 345,
     "metadata": {},
     "output_type": "execute_result"
    },
    {
     "data": {
      "image/png": "[encoded data removed]",
      "text/plain": [
       "<Figure size 864x360 with 1 Axes>"
      ]
     },
     "metadata": {
      "needs_background": "light"
     },
     "output_type": "display_data"
    }
   ],
   "source": [
    "# BY USING BARPLOT WE CAN GET THAT MAXIMUM SALES HAPPEND IN WHICH DAY \n",
    "\n",
    "plt.figure(figsize = (12,5))\n",
    "plt.title(\"MAXIMUM SALES IN EACH DAY OF THE WEEK\")\n",
    "sns.barplot(x = \"Day\", y = \"Total\", data = Sm_sales, estimator = sum)"
   ]
  },
  {
   "cell_type": "markdown",
   "id": "2904ed0b",
   "metadata": {},
   "source": [
    "* Sales is highest on Saturday and Lowest on Monday"
   ]
  },
  {
   "cell_type": "markdown",
   "id": "aa6c710a",
   "metadata": {},
   "source": [
    "### 9. Which hour of the day is busiest ?"
   ]
  },
  {
   "cell_type": "code",
   "execution_count": 346,
   "id": "a8853b12",
   "metadata": {},
   "outputs": [
    {
     "data": {
      "text/html": [
       "<div>\n",
       "<style scoped>\n",
       "    .dataframe tbody tr th:only-of-type {\n",
       "        vertical-align: middle;\n",
       "    }\n",
       "\n",
       "    .dataframe tbody tr th {\n",
       "        vertical-align: top;\n",
       "    }\n",
       "\n",
       "    .dataframe thead th {\n",
       "        text-align: right;\n",
       "    }\n",
       "</style>\n",
       "<table border=\"1\" class=\"dataframe\">\n",
       "  <thead>\n",
       "    <tr style=\"text-align: right;\">\n",
       "      <th></th>\n",
       "      <th>Invoice ID</th>\n",
       "      <th>Branch</th>\n",
       "      <th>City</th>\n",
       "      <th>Customer type</th>\n",
       "      <th>Gender</th>\n",
       "      <th>Product line</th>\n",
       "      <th>Unit price</th>\n",
       "      <th>Quantity</th>\n",
       "      <th>Tax 5%</th>\n",
       "      <th>Total</th>\n",
       "      <th>Date</th>\n",
       "      <th>Time</th>\n",
       "      <th>Payment</th>\n",
       "      <th>cogs</th>\n",
       "      <th>gross margin percentage</th>\n",
       "      <th>gross income</th>\n",
       "      <th>Rating</th>\n",
       "      <th>Day</th>\n",
       "      <th>Hour</th>\n",
       "    </tr>\n",
       "  </thead>\n",
       "  <tbody>\n",
       "    <tr>\n",
       "      <th>0</th>\n",
       "      <td>750-67-8428</td>\n",
       "      <td>A</td>\n",
       "      <td>Yangon</td>\n",
       "      <td>Member</td>\n",
       "      <td>Female</td>\n",
       "      <td>Health and beauty</td>\n",
       "      <td>74.69</td>\n",
       "      <td>7</td>\n",
       "      <td>26.1415</td>\n",
       "      <td>548.9715</td>\n",
       "      <td>2019-01-05</td>\n",
       "      <td>2022-02-22 13:08:00</td>\n",
       "      <td>Ewallet</td>\n",
       "      <td>522.83</td>\n",
       "      <td>4.761905</td>\n",
       "      <td>26.1415</td>\n",
       "      <td>9.1</td>\n",
       "      <td>Saturday</td>\n",
       "      <td>13</td>\n",
       "    </tr>\n",
       "    <tr>\n",
       "      <th>1</th>\n",
       "      <td>226-31-3081</td>\n",
       "      <td>C</td>\n",
       "      <td>Naypyitaw</td>\n",
       "      <td>Normal</td>\n",
       "      <td>Female</td>\n",
       "      <td>Electronic accessories</td>\n",
       "      <td>15.28</td>\n",
       "      <td>5</td>\n",
       "      <td>3.8200</td>\n",
       "      <td>80.2200</td>\n",
       "      <td>2019-03-08</td>\n",
       "      <td>2022-02-22 10:29:00</td>\n",
       "      <td>Cash</td>\n",
       "      <td>76.40</td>\n",
       "      <td>4.761905</td>\n",
       "      <td>3.8200</td>\n",
       "      <td>9.6</td>\n",
       "      <td>Friday</td>\n",
       "      <td>10</td>\n",
       "    </tr>\n",
       "    <tr>\n",
       "      <th>2</th>\n",
       "      <td>631-41-3108</td>\n",
       "      <td>A</td>\n",
       "      <td>Yangon</td>\n",
       "      <td>Normal</td>\n",
       "      <td>Male</td>\n",
       "      <td>Home and lifestyle</td>\n",
       "      <td>46.33</td>\n",
       "      <td>7</td>\n",
       "      <td>16.2155</td>\n",
       "      <td>340.5255</td>\n",
       "      <td>2019-03-03</td>\n",
       "      <td>2022-02-22 13:23:00</td>\n",
       "      <td>Credit card</td>\n",
       "      <td>324.31</td>\n",
       "      <td>4.761905</td>\n",
       "      <td>16.2155</td>\n",
       "      <td>7.4</td>\n",
       "      <td>Sunday</td>\n",
       "      <td>13</td>\n",
       "    </tr>\n",
       "    <tr>\n",
       "      <th>3</th>\n",
       "      <td>123-19-1176</td>\n",
       "      <td>A</td>\n",
       "      <td>Yangon</td>\n",
       "      <td>Member</td>\n",
       "      <td>Male</td>\n",
       "      <td>Health and beauty</td>\n",
       "      <td>58.22</td>\n",
       "      <td>8</td>\n",
       "      <td>23.2880</td>\n",
       "      <td>489.0480</td>\n",
       "      <td>2019-01-27</td>\n",
       "      <td>2022-02-22 20:33:00</td>\n",
       "      <td>Ewallet</td>\n",
       "      <td>465.76</td>\n",
       "      <td>4.761905</td>\n",
       "      <td>23.2880</td>\n",
       "      <td>8.4</td>\n",
       "      <td>Sunday</td>\n",
       "      <td>20</td>\n",
       "    </tr>\n",
       "    <tr>\n",
       "      <th>4</th>\n",
       "      <td>373-73-7910</td>\n",
       "      <td>A</td>\n",
       "      <td>Yangon</td>\n",
       "      <td>Normal</td>\n",
       "      <td>Male</td>\n",
       "      <td>Sports and travel</td>\n",
       "      <td>86.31</td>\n",
       "      <td>7</td>\n",
       "      <td>30.2085</td>\n",
       "      <td>634.3785</td>\n",
       "      <td>2019-02-08</td>\n",
       "      <td>2022-02-22 10:37:00</td>\n",
       "      <td>Ewallet</td>\n",
       "      <td>604.17</td>\n",
       "      <td>4.761905</td>\n",
       "      <td>30.2085</td>\n",
       "      <td>5.3</td>\n",
       "      <td>Friday</td>\n",
       "      <td>10</td>\n",
       "    </tr>\n",
       "  </tbody>\n",
       "</table>\n",
       "</div>"
      ],
      "text/plain": [
       "    Invoice ID Branch       City Customer type  Gender  \\\n",
       "0  750-67-8428      A     Yangon        Member  Female   \n",
       "1  226-31-3081      C  Naypyitaw        Normal  Female   \n",
       "2  631-41-3108      A     Yangon        Normal    Male   \n",
       "3  123-19-1176      A     Yangon        Member    Male   \n",
       "4  373-73-7910      A     Yangon        Normal    Male   \n",
       "\n",
       "             Product line  Unit price  Quantity   Tax 5%     Total       Date  \\\n",
       "0       Health and beauty       74.69         7  26.1415  548.9715 2019-01-05   \n",
       "1  Electronic accessories       15.28         5   3.8200   80.2200 2019-03-08   \n",
       "2      Home and lifestyle       46.33         7  16.2155  340.5255 2019-03-03   \n",
       "3       Health and beauty       58.22         8  23.2880  489.0480 2019-01-27   \n",
       "4       Sports and travel       86.31         7  30.2085  634.3785 2019-02-08   \n",
       "\n",
       "                 Time      Payment    cogs  gross margin percentage  \\\n",
       "0 2022-02-22 13:08:00      Ewallet  522.83                 4.761905   \n",
       "1 2022-02-22 10:29:00         Cash   76.40                 4.761905   \n",
       "2 2022-02-22 13:23:00  Credit card  324.31                 4.761905   \n",
       "3 2022-02-22 20:33:00      Ewallet  465.76                 4.761905   \n",
       "4 2022-02-22 10:37:00      Ewallet  604.17                 4.761905   \n",
       "\n",
       "   gross income  Rating       Day  Hour  \n",
       "0       26.1415     9.1  Saturday    13  \n",
       "1        3.8200     9.6    Friday    10  \n",
       "2       16.2155     7.4    Sunday    13  \n",
       "3       23.2880     8.4    Sunday    20  \n",
       "4       30.2085     5.3    Friday    10  "
      ]
     },
     "execution_count": 346,
     "metadata": {},
     "output_type": "execute_result"
    }
   ],
   "source": [
    "# Creating a new column as Hour and getting each customer at store in which Hour \n",
    "\n",
    "Sm_sales['Hour'] = Sm_sales['Time'].dt.hour\n",
    "Sm_sales.head()"
   ]
  },
  {
   "cell_type": "code",
   "execution_count": 352,
   "id": "5cc8fd54",
   "metadata": {},
   "outputs": [
    {
     "data": {
      "text/plain": [
       "<AxesSubplot:title={'center':'HOURLY SALE'}, xlabel='Hour', ylabel='count'>"
      ]
     },
     "execution_count": 352,
     "metadata": {},
     "output_type": "execute_result"
    },
    {
     "data": {
      "image/png": "[encoded data removed]",
      "text/plain": [
       "<Figure size 864x360 with 1 Axes>"
      ]
     },
     "metadata": {
      "needs_background": "light"
     },
     "output_type": "display_data"
    }
   ],
   "source": [
    "# BY USING COUNTPLOT WE CAN GET THAT IN WHICH HOUR STORE IS BUSY\n",
    "plt.figure(figsize = (12,5))\n",
    "plt.title(\"HOURLY SALE\")\n",
    "sns.countplot(Sm_sales['Hour'])"
   ]
  },
  {
   "cell_type": "code",
   "execution_count": 349,
   "id": "6e6b091c",
   "metadata": {},
   "outputs": [
    {
     "data": {
      "text/plain": [
       "19    113\n",
       "13    103\n",
       "15    102\n",
       "10    101\n",
       "18     93\n",
       "11     90\n",
       "12     89\n",
       "14     83\n",
       "16     77\n",
       "20     75\n",
       "17     74\n",
       "Name: Hour, dtype: int64"
      ]
     },
     "execution_count": 349,
     "metadata": {},
     "output_type": "execute_result"
    }
   ],
   "source": [
    "# BY USING value_counts FUNCTION ALSO WE CAN THE COUNT OF CUSTOMERS PRESENT IN HOUR\n",
    "Sm_sales['Hour'].value_counts()"
   ]
  },
  {
   "cell_type": "markdown",
   "id": "fddae9a5",
   "metadata": {},
   "source": [
    "* As we can see in above plot 19th hour is busy in the store."
   ]
  },
  {
   "cell_type": "markdown",
   "id": "14df9293",
   "metadata": {},
   "source": [
    "### 10. Which product line should your supermarket focus on ?"
   ]
  },
  {
   "cell_type": "code",
   "execution_count": 355,
   "id": "1dc743af",
   "metadata": {},
   "outputs": [
    {
     "data": {
      "text/plain": [
       "<AxesSubplot:title={'center':'QUANTITY SOLD PER PRODUCTLINE'}, xlabel='Product line', ylabel='Quantity'>"
      ]
     },
     "execution_count": 355,
     "metadata": {},
     "output_type": "execute_result"
    },
    {
     "data": {
      "image/png": "[encoded data removed]",
      "text/plain": [
       "<Figure size 864x360 with 1 Axes>"
      ]
     },
     "metadata": {
      "needs_background": "light"
     },
     "output_type": "display_data"
    }
   ],
   "source": [
    "# BY USING BARPLOT WE CAN GET THAT HOW MUCH QUANTITY SOLD FOR DIFFERENT PRODUCTLINE\n",
    "\n",
    "plt.figure(figsize = (12,5))\n",
    "plt.title(\"QUANTITY SOLD PER PRODUCTLINE\")\n",
    "sns.barplot(x = 'Product line', y = 'Quantity', data = Sm_sales, estimator = sum)"
   ]
  },
  {
   "cell_type": "markdown",
   "id": "93f6a07c",
   "metadata": {},
   "source": [
    "* As per quantity sold for different productlines 'Electronic accessories' and 'Food and beverages' sale is high. And 'Health and beauty' and 'Fashion accessories' sale is low. So supermarket need to focus on these to increase the sale. "
   ]
  },
  {
   "cell_type": "markdown",
   "id": "68411434",
   "metadata": {},
   "source": [
    "### 11. Which city should be chosen for expansion and what products should be focused on ?"
   ]
  },
  {
   "cell_type": "code",
   "execution_count": 363,
   "id": "c4254803",
   "metadata": {},
   "outputs": [
    {
     "data": {
      "text/plain": [
       "<AxesSubplot:title={'center':'GROSS INCOME ACROSS CITIES'}, xlabel='City', ylabel='gross income'>"
      ]
     },
     "execution_count": 363,
     "metadata": {},
     "output_type": "execute_result"
    },
    {
     "data": {
      "image/png": "[encoded data removed]",
      "text/plain": [
       "<Figure size 360x432 with 1 Axes>"
      ]
     },
     "metadata": {
      "needs_background": "light"
     },
     "output_type": "display_data"
    }
   ],
   "source": [
    "# BY UUSING BARPLOT WE CAN SEE THAT WHICH CITY HAS HIGHET GROSS INCOME\n",
    "# BASED ON THAT WE CAN DESIDE THAT WHICH CITY BE CHOOSEN FOR EXPANSION\n",
    "\n",
    "plt.figure(figsize = (5,6))\n",
    "plt.title(\"GROSS INCOME ACROSS CITIES\")\n",
    "sns.barplot(x = 'City', y = 'gross income', data = Sm_sales, estimator = sum)"
   ]
  },
  {
   "cell_type": "markdown",
   "id": "2cdeb5a0",
   "metadata": {},
   "source": [
    "* Here 'Naypyitaw' city the most profitable city. We should plan for expansion of branches in this city. "
   ]
  },
  {
   "cell_type": "code",
   "execution_count": 372,
   "id": "d55882e7",
   "metadata": {},
   "outputs": [
    {
     "data": {
      "text/plain": [
       "<AxesSubplot:title={'center':' PRODUCT LINE IN DIFFERENT CITIES'}, xlabel='Product line', ylabel='count'>"
      ]
     },
     "execution_count": 372,
     "metadata": {},
     "output_type": "execute_result"
    },
    {
     "data": {
      "image/png": "[encoded data removed]",
      "text/plain": [
       "<Figure size 1080x720 with 1 Axes>"
      ]
     },
     "metadata": {
      "needs_background": "light"
     },
     "output_type": "display_data"
    }
   ],
   "source": [
    "# USING COUNTPLOT GET THAT WHICH PRODUCT IS MOST SOLD AND WHICH CITY\n",
    "\n",
    "plt.figure(figsize = (15,10))\n",
    "plt.title(\" PRODUCT LINE IN DIFFERENT CITIES\")\n",
    "sns.countplot(x = 'Product line', data = Sm_sales, hue = \"City\")"
   ]
  },
  {
   "cell_type": "markdown",
   "id": "2e65db7a",
   "metadata": {},
   "source": [
    "* In 'Naypyitaw' city most sold products are 'Fashion accessories' and 'Food and beverages'. And these products should be focused on."
   ]
  }
 ],
 "metadata": {
  "kernelspec": {
   "display_name": "Python 3 (ipykernel)",
   "language": "python",
   "name": "python3"
  },
  "language_info": {
   "codemirror_mode": {
    "name": "ipython",
    "version": 3
   },
   "file_extension": ".py",
   "mimetype": "text/x-python",
   "name": "python",
   "nbconvert_exporter": "python",
   "pygments_lexer": "ipython3",
   "version": "3.9.7"
  }
 },
 "nbformat": 4,
 "nbformat_minor": 5
}
