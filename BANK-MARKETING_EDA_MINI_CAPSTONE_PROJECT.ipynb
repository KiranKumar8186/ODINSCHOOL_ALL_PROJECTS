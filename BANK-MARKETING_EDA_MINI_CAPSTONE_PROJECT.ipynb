{
 "cells": [
  {
   "cell_type": "markdown",
   "id": "70301121",
   "metadata": {},
   "source": [
    "# Bank Marketing\n",
    "\n",
    "\n",
    "## Introduction :\n",
    "\n",
    "#### This dataset is based on the bank maketing uci dataset\n",
    "\n",
    "#### It contains information about the marketing campain impact of a bank specially through telemarketing. It includes 20 independent variables of which 5 are the nationwide socio - economic factors pertaining to the bank's operating country.\n",
    "\n",
    "#### The classification goal is to predict if the client will subscribe a term deposit variable \"y\"\n",
    "\n",
    "## Variables Information :\n",
    "\n",
    "#### bank client data:\n",
    "\n",
    "######  1 - age (numeric):\n",
    "Age of the client\n",
    "######  2 - job : \n",
    "type of job (categorical:\"admin.\",\"unknown\",\"unemployed\",\"management\",\"housemaid\",\"entrepreneur\",\"student\",\"blue-collar\",\"self-employed\",\"retired\",\"technician\",\"services\") \n",
    "######  3 - marital : \n",
    "marital status (categorical: \"married\",\"divorced\",\"single\"; note: \"divorced\" means divorced or widowed)\n",
    "######  4 - education :\n",
    "(categorical: \"unknown\",\"secondary\",\"primary\",\"tertiary\")\n",
    "######  5 - default: \n",
    "has credit in default? (binary: \"yes\",\"no\")\n",
    "######  6 - balance: \n",
    "average yearly balance, in euros (numeric) \n",
    "######  7 - housing: \n",
    "has housing loan? (binary: \"yes\",\"no\")\n",
    "######  8 - loan: \n",
    "has personal loan? (binary: \"yes\",\"no\")\n",
    "\n",
    "### related with the last contact of the current campaign:\n",
    "\n",
    "######  9 - contact: \n",
    "contact communication type (categorical: \"unknown\",\"telephone\",\"cellular\") \n",
    "######  10 - day: \n",
    "last contact day of the month (numeric)\n",
    "######  11 - month: \n",
    "last contact month of year (categorical: \"jan\", \"feb\", \"mar\", ..., \"nov\", \"dec\")\n",
    "######  12 - duration: \n",
    "last contact duration, in seconds (numeric)\n",
    "\n",
    "### other attributes:\n",
    "\n",
    "######  13 - campaign: \n",
    "number of contacts performed during this campaign and for this client (numeric, includes last contact)\n",
    "######  14 - pdays: \n",
    "number of days that passed by after the client was last contacted from a previous campaign (numeric, -1 means client was not previously contacted)\n",
    "######  15 - previous: \n",
    "number of contacts performed before this campaign and for this client (numeric)\n",
    "######  16 - poutcome: \n",
    "outcome of the previous marketing campaign (categorical: \"unknown\",\"other\",\"failure\",\"success\")\n",
    "\n",
    "### Output variable (desired target):\n",
    "\n",
    "######  17 - y :\n",
    "has the client subscribed a term deposit? (binary: \"yes\",\"no\")"
   ]
  },
  {
   "cell_type": "code",
   "execution_count": 1,
   "id": "63ff6bb3",
   "metadata": {},
   "outputs": [],
   "source": [
    "## IMPORTING REQUIRED LIBRARIES \n",
    "import pandas as pd\n",
    "import numpy as np\n",
    "## LIBRARIES FOR DATA VISUALIZATION\n",
    "import matplotlib.pyplot as plt\n",
    "import seaborn as sns\n",
    "## ALLOWS TO HANDLE THE WARNINGS\n",
    "import warnings \n",
    "warnings.filterwarnings(\"ignore\")\n",
    "from scipy import stats\n",
    "from scipy.stats import boxcox\n",
    "import missingno as msno"
   ]
  },
  {
   "cell_type": "code",
   "execution_count": 2,
   "id": "bdb20b57",
   "metadata": {},
   "outputs": [],
   "source": [
    "## READING THE DATA SET BY USING PANDAS \n",
    "## IMPORTING TEST & TRAIN DATAS\n",
    "\n",
    "bankloan1 = pd.read_csv(\"train.csv\", sep = \";\")\n",
    "bankloan2 = pd.read_csv(\"test.csv\", sep = \";\")\n",
    "\n",
    "pd.pandas.set_option('display.max_columns',None)"
   ]
  },
  {
   "cell_type": "code",
   "execution_count": 3,
   "id": "76180e1a",
   "metadata": {},
   "outputs": [
    {
     "data": {
      "text/html": [
       "<div>\n",
       "<style scoped>\n",
       "    .dataframe tbody tr th:only-of-type {\n",
       "        vertical-align: middle;\n",
       "    }\n",
       "\n",
       "    .dataframe tbody tr th {\n",
       "        vertical-align: top;\n",
       "    }\n",
       "\n",
       "    .dataframe thead th {\n",
       "        text-align: right;\n",
       "    }\n",
       "</style>\n",
       "<table border=\"1\" class=\"dataframe\">\n",
       "  <thead>\n",
       "    <tr style=\"text-align: right;\">\n",
       "      <th></th>\n",
       "      <th>age</th>\n",
       "      <th>job</th>\n",
       "      <th>marital</th>\n",
       "      <th>education</th>\n",
       "      <th>default</th>\n",
       "      <th>balance</th>\n",
       "      <th>housing</th>\n",
       "      <th>loan</th>\n",
       "      <th>contact</th>\n",
       "      <th>day</th>\n",
       "      <th>month</th>\n",
       "      <th>duration</th>\n",
       "      <th>campaign</th>\n",
       "      <th>pdays</th>\n",
       "      <th>previous</th>\n",
       "      <th>poutcome</th>\n",
       "      <th>y</th>\n",
       "    </tr>\n",
       "  </thead>\n",
       "  <tbody>\n",
       "    <tr>\n",
       "      <th>0</th>\n",
       "      <td>58</td>\n",
       "      <td>management</td>\n",
       "      <td>married</td>\n",
       "      <td>tertiary</td>\n",
       "      <td>no</td>\n",
       "      <td>2143</td>\n",
       "      <td>yes</td>\n",
       "      <td>no</td>\n",
       "      <td>unknown</td>\n",
       "      <td>5</td>\n",
       "      <td>may</td>\n",
       "      <td>261</td>\n",
       "      <td>1</td>\n",
       "      <td>-1</td>\n",
       "      <td>0</td>\n",
       "      <td>unknown</td>\n",
       "      <td>no</td>\n",
       "    </tr>\n",
       "    <tr>\n",
       "      <th>1</th>\n",
       "      <td>44</td>\n",
       "      <td>technician</td>\n",
       "      <td>single</td>\n",
       "      <td>secondary</td>\n",
       "      <td>no</td>\n",
       "      <td>29</td>\n",
       "      <td>yes</td>\n",
       "      <td>no</td>\n",
       "      <td>unknown</td>\n",
       "      <td>5</td>\n",
       "      <td>may</td>\n",
       "      <td>151</td>\n",
       "      <td>1</td>\n",
       "      <td>-1</td>\n",
       "      <td>0</td>\n",
       "      <td>unknown</td>\n",
       "      <td>no</td>\n",
       "    </tr>\n",
       "    <tr>\n",
       "      <th>2</th>\n",
       "      <td>33</td>\n",
       "      <td>entrepreneur</td>\n",
       "      <td>married</td>\n",
       "      <td>secondary</td>\n",
       "      <td>no</td>\n",
       "      <td>2</td>\n",
       "      <td>yes</td>\n",
       "      <td>yes</td>\n",
       "      <td>unknown</td>\n",
       "      <td>5</td>\n",
       "      <td>may</td>\n",
       "      <td>76</td>\n",
       "      <td>1</td>\n",
       "      <td>-1</td>\n",
       "      <td>0</td>\n",
       "      <td>unknown</td>\n",
       "      <td>no</td>\n",
       "    </tr>\n",
       "    <tr>\n",
       "      <th>3</th>\n",
       "      <td>47</td>\n",
       "      <td>blue-collar</td>\n",
       "      <td>married</td>\n",
       "      <td>unknown</td>\n",
       "      <td>no</td>\n",
       "      <td>1506</td>\n",
       "      <td>yes</td>\n",
       "      <td>no</td>\n",
       "      <td>unknown</td>\n",
       "      <td>5</td>\n",
       "      <td>may</td>\n",
       "      <td>92</td>\n",
       "      <td>1</td>\n",
       "      <td>-1</td>\n",
       "      <td>0</td>\n",
       "      <td>unknown</td>\n",
       "      <td>no</td>\n",
       "    </tr>\n",
       "    <tr>\n",
       "      <th>4</th>\n",
       "      <td>33</td>\n",
       "      <td>unknown</td>\n",
       "      <td>single</td>\n",
       "      <td>unknown</td>\n",
       "      <td>no</td>\n",
       "      <td>1</td>\n",
       "      <td>no</td>\n",
       "      <td>no</td>\n",
       "      <td>unknown</td>\n",
       "      <td>5</td>\n",
       "      <td>may</td>\n",
       "      <td>198</td>\n",
       "      <td>1</td>\n",
       "      <td>-1</td>\n",
       "      <td>0</td>\n",
       "      <td>unknown</td>\n",
       "      <td>no</td>\n",
       "    </tr>\n",
       "    <tr>\n",
       "      <th>...</th>\n",
       "      <td>...</td>\n",
       "      <td>...</td>\n",
       "      <td>...</td>\n",
       "      <td>...</td>\n",
       "      <td>...</td>\n",
       "      <td>...</td>\n",
       "      <td>...</td>\n",
       "      <td>...</td>\n",
       "      <td>...</td>\n",
       "      <td>...</td>\n",
       "      <td>...</td>\n",
       "      <td>...</td>\n",
       "      <td>...</td>\n",
       "      <td>...</td>\n",
       "      <td>...</td>\n",
       "      <td>...</td>\n",
       "      <td>...</td>\n",
       "    </tr>\n",
       "    <tr>\n",
       "      <th>45206</th>\n",
       "      <td>51</td>\n",
       "      <td>technician</td>\n",
       "      <td>married</td>\n",
       "      <td>tertiary</td>\n",
       "      <td>no</td>\n",
       "      <td>825</td>\n",
       "      <td>no</td>\n",
       "      <td>no</td>\n",
       "      <td>cellular</td>\n",
       "      <td>17</td>\n",
       "      <td>nov</td>\n",
       "      <td>977</td>\n",
       "      <td>3</td>\n",
       "      <td>-1</td>\n",
       "      <td>0</td>\n",
       "      <td>unknown</td>\n",
       "      <td>yes</td>\n",
       "    </tr>\n",
       "    <tr>\n",
       "      <th>45207</th>\n",
       "      <td>71</td>\n",
       "      <td>retired</td>\n",
       "      <td>divorced</td>\n",
       "      <td>primary</td>\n",
       "      <td>no</td>\n",
       "      <td>1729</td>\n",
       "      <td>no</td>\n",
       "      <td>no</td>\n",
       "      <td>cellular</td>\n",
       "      <td>17</td>\n",
       "      <td>nov</td>\n",
       "      <td>456</td>\n",
       "      <td>2</td>\n",
       "      <td>-1</td>\n",
       "      <td>0</td>\n",
       "      <td>unknown</td>\n",
       "      <td>yes</td>\n",
       "    </tr>\n",
       "    <tr>\n",
       "      <th>45208</th>\n",
       "      <td>72</td>\n",
       "      <td>retired</td>\n",
       "      <td>married</td>\n",
       "      <td>secondary</td>\n",
       "      <td>no</td>\n",
       "      <td>5715</td>\n",
       "      <td>no</td>\n",
       "      <td>no</td>\n",
       "      <td>cellular</td>\n",
       "      <td>17</td>\n",
       "      <td>nov</td>\n",
       "      <td>1127</td>\n",
       "      <td>5</td>\n",
       "      <td>184</td>\n",
       "      <td>3</td>\n",
       "      <td>success</td>\n",
       "      <td>yes</td>\n",
       "    </tr>\n",
       "    <tr>\n",
       "      <th>45209</th>\n",
       "      <td>57</td>\n",
       "      <td>blue-collar</td>\n",
       "      <td>married</td>\n",
       "      <td>secondary</td>\n",
       "      <td>no</td>\n",
       "      <td>668</td>\n",
       "      <td>no</td>\n",
       "      <td>no</td>\n",
       "      <td>telephone</td>\n",
       "      <td>17</td>\n",
       "      <td>nov</td>\n",
       "      <td>508</td>\n",
       "      <td>4</td>\n",
       "      <td>-1</td>\n",
       "      <td>0</td>\n",
       "      <td>unknown</td>\n",
       "      <td>no</td>\n",
       "    </tr>\n",
       "    <tr>\n",
       "      <th>45210</th>\n",
       "      <td>37</td>\n",
       "      <td>entrepreneur</td>\n",
       "      <td>married</td>\n",
       "      <td>secondary</td>\n",
       "      <td>no</td>\n",
       "      <td>2971</td>\n",
       "      <td>no</td>\n",
       "      <td>no</td>\n",
       "      <td>cellular</td>\n",
       "      <td>17</td>\n",
       "      <td>nov</td>\n",
       "      <td>361</td>\n",
       "      <td>2</td>\n",
       "      <td>188</td>\n",
       "      <td>11</td>\n",
       "      <td>other</td>\n",
       "      <td>no</td>\n",
       "    </tr>\n",
       "  </tbody>\n",
       "</table>\n",
       "<p>45211 rows × 17 columns</p>\n",
       "</div>"
      ],
      "text/plain": [
       "       age           job   marital  education default  balance housing loan  \\\n",
       "0       58    management   married   tertiary      no     2143     yes   no   \n",
       "1       44    technician    single  secondary      no       29     yes   no   \n",
       "2       33  entrepreneur   married  secondary      no        2     yes  yes   \n",
       "3       47   blue-collar   married    unknown      no     1506     yes   no   \n",
       "4       33       unknown    single    unknown      no        1      no   no   \n",
       "...    ...           ...       ...        ...     ...      ...     ...  ...   \n",
       "45206   51    technician   married   tertiary      no      825      no   no   \n",
       "45207   71       retired  divorced    primary      no     1729      no   no   \n",
       "45208   72       retired   married  secondary      no     5715      no   no   \n",
       "45209   57   blue-collar   married  secondary      no      668      no   no   \n",
       "45210   37  entrepreneur   married  secondary      no     2971      no   no   \n",
       "\n",
       "         contact  day month  duration  campaign  pdays  previous poutcome    y  \n",
       "0        unknown    5   may       261         1     -1         0  unknown   no  \n",
       "1        unknown    5   may       151         1     -1         0  unknown   no  \n",
       "2        unknown    5   may        76         1     -1         0  unknown   no  \n",
       "3        unknown    5   may        92         1     -1         0  unknown   no  \n",
       "4        unknown    5   may       198         1     -1         0  unknown   no  \n",
       "...          ...  ...   ...       ...       ...    ...       ...      ...  ...  \n",
       "45206   cellular   17   nov       977         3     -1         0  unknown  yes  \n",
       "45207   cellular   17   nov       456         2     -1         0  unknown  yes  \n",
       "45208   cellular   17   nov      1127         5    184         3  success  yes  \n",
       "45209  telephone   17   nov       508         4     -1         0  unknown   no  \n",
       "45210   cellular   17   nov       361         2    188        11    other   no  \n",
       "\n",
       "[45211 rows x 17 columns]"
      ]
     },
     "execution_count": 3,
     "metadata": {},
     "output_type": "execute_result"
    }
   ],
   "source": [
    "##  READING THE FILE\n",
    "bankloan1"
   ]
  },
  {
   "cell_type": "code",
   "execution_count": 800,
   "id": "3a957044",
   "metadata": {},
   "outputs": [
    {
     "data": {
      "text/html": [
       "<div>\n",
       "<style scoped>\n",
       "    .dataframe tbody tr th:only-of-type {\n",
       "        vertical-align: middle;\n",
       "    }\n",
       "\n",
       "    .dataframe tbody tr th {\n",
       "        vertical-align: top;\n",
       "    }\n",
       "\n",
       "    .dataframe thead th {\n",
       "        text-align: right;\n",
       "    }\n",
       "</style>\n",
       "<table border=\"1\" class=\"dataframe\">\n",
       "  <thead>\n",
       "    <tr style=\"text-align: right;\">\n",
       "      <th></th>\n",
       "      <th>age</th>\n",
       "      <th>job</th>\n",
       "      <th>marital</th>\n",
       "      <th>education</th>\n",
       "      <th>default</th>\n",
       "      <th>balance</th>\n",
       "      <th>housing</th>\n",
       "      <th>loan</th>\n",
       "      <th>contact</th>\n",
       "      <th>day</th>\n",
       "      <th>month</th>\n",
       "      <th>duration</th>\n",
       "      <th>campaign</th>\n",
       "      <th>pdays</th>\n",
       "      <th>previous</th>\n",
       "      <th>poutcome</th>\n",
       "      <th>y</th>\n",
       "    </tr>\n",
       "  </thead>\n",
       "  <tbody>\n",
       "    <tr>\n",
       "      <th>0</th>\n",
       "      <td>30</td>\n",
       "      <td>unemployed</td>\n",
       "      <td>married</td>\n",
       "      <td>primary</td>\n",
       "      <td>no</td>\n",
       "      <td>1787</td>\n",
       "      <td>no</td>\n",
       "      <td>no</td>\n",
       "      <td>cellular</td>\n",
       "      <td>19</td>\n",
       "      <td>oct</td>\n",
       "      <td>79</td>\n",
       "      <td>1</td>\n",
       "      <td>-1</td>\n",
       "      <td>0</td>\n",
       "      <td>unknown</td>\n",
       "      <td>no</td>\n",
       "    </tr>\n",
       "    <tr>\n",
       "      <th>1</th>\n",
       "      <td>33</td>\n",
       "      <td>services</td>\n",
       "      <td>married</td>\n",
       "      <td>secondary</td>\n",
       "      <td>no</td>\n",
       "      <td>4789</td>\n",
       "      <td>yes</td>\n",
       "      <td>yes</td>\n",
       "      <td>cellular</td>\n",
       "      <td>11</td>\n",
       "      <td>may</td>\n",
       "      <td>220</td>\n",
       "      <td>1</td>\n",
       "      <td>339</td>\n",
       "      <td>4</td>\n",
       "      <td>failure</td>\n",
       "      <td>no</td>\n",
       "    </tr>\n",
       "    <tr>\n",
       "      <th>2</th>\n",
       "      <td>35</td>\n",
       "      <td>management</td>\n",
       "      <td>single</td>\n",
       "      <td>tertiary</td>\n",
       "      <td>no</td>\n",
       "      <td>1350</td>\n",
       "      <td>yes</td>\n",
       "      <td>no</td>\n",
       "      <td>cellular</td>\n",
       "      <td>16</td>\n",
       "      <td>apr</td>\n",
       "      <td>185</td>\n",
       "      <td>1</td>\n",
       "      <td>330</td>\n",
       "      <td>1</td>\n",
       "      <td>failure</td>\n",
       "      <td>no</td>\n",
       "    </tr>\n",
       "    <tr>\n",
       "      <th>3</th>\n",
       "      <td>30</td>\n",
       "      <td>management</td>\n",
       "      <td>married</td>\n",
       "      <td>tertiary</td>\n",
       "      <td>no</td>\n",
       "      <td>1476</td>\n",
       "      <td>yes</td>\n",
       "      <td>yes</td>\n",
       "      <td>unknown</td>\n",
       "      <td>3</td>\n",
       "      <td>jun</td>\n",
       "      <td>199</td>\n",
       "      <td>4</td>\n",
       "      <td>-1</td>\n",
       "      <td>0</td>\n",
       "      <td>unknown</td>\n",
       "      <td>no</td>\n",
       "    </tr>\n",
       "    <tr>\n",
       "      <th>4</th>\n",
       "      <td>59</td>\n",
       "      <td>blue-collar</td>\n",
       "      <td>married</td>\n",
       "      <td>secondary</td>\n",
       "      <td>no</td>\n",
       "      <td>0</td>\n",
       "      <td>yes</td>\n",
       "      <td>no</td>\n",
       "      <td>unknown</td>\n",
       "      <td>5</td>\n",
       "      <td>may</td>\n",
       "      <td>226</td>\n",
       "      <td>1</td>\n",
       "      <td>-1</td>\n",
       "      <td>0</td>\n",
       "      <td>unknown</td>\n",
       "      <td>no</td>\n",
       "    </tr>\n",
       "    <tr>\n",
       "      <th>...</th>\n",
       "      <td>...</td>\n",
       "      <td>...</td>\n",
       "      <td>...</td>\n",
       "      <td>...</td>\n",
       "      <td>...</td>\n",
       "      <td>...</td>\n",
       "      <td>...</td>\n",
       "      <td>...</td>\n",
       "      <td>...</td>\n",
       "      <td>...</td>\n",
       "      <td>...</td>\n",
       "      <td>...</td>\n",
       "      <td>...</td>\n",
       "      <td>...</td>\n",
       "      <td>...</td>\n",
       "      <td>...</td>\n",
       "      <td>...</td>\n",
       "    </tr>\n",
       "    <tr>\n",
       "      <th>4516</th>\n",
       "      <td>33</td>\n",
       "      <td>services</td>\n",
       "      <td>married</td>\n",
       "      <td>secondary</td>\n",
       "      <td>no</td>\n",
       "      <td>-333</td>\n",
       "      <td>yes</td>\n",
       "      <td>no</td>\n",
       "      <td>cellular</td>\n",
       "      <td>30</td>\n",
       "      <td>jul</td>\n",
       "      <td>329</td>\n",
       "      <td>5</td>\n",
       "      <td>-1</td>\n",
       "      <td>0</td>\n",
       "      <td>unknown</td>\n",
       "      <td>no</td>\n",
       "    </tr>\n",
       "    <tr>\n",
       "      <th>4517</th>\n",
       "      <td>57</td>\n",
       "      <td>self-employed</td>\n",
       "      <td>married</td>\n",
       "      <td>tertiary</td>\n",
       "      <td>yes</td>\n",
       "      <td>-3313</td>\n",
       "      <td>yes</td>\n",
       "      <td>yes</td>\n",
       "      <td>unknown</td>\n",
       "      <td>9</td>\n",
       "      <td>may</td>\n",
       "      <td>153</td>\n",
       "      <td>1</td>\n",
       "      <td>-1</td>\n",
       "      <td>0</td>\n",
       "      <td>unknown</td>\n",
       "      <td>no</td>\n",
       "    </tr>\n",
       "    <tr>\n",
       "      <th>4518</th>\n",
       "      <td>57</td>\n",
       "      <td>technician</td>\n",
       "      <td>married</td>\n",
       "      <td>secondary</td>\n",
       "      <td>no</td>\n",
       "      <td>295</td>\n",
       "      <td>no</td>\n",
       "      <td>no</td>\n",
       "      <td>cellular</td>\n",
       "      <td>19</td>\n",
       "      <td>aug</td>\n",
       "      <td>151</td>\n",
       "      <td>11</td>\n",
       "      <td>-1</td>\n",
       "      <td>0</td>\n",
       "      <td>unknown</td>\n",
       "      <td>no</td>\n",
       "    </tr>\n",
       "    <tr>\n",
       "      <th>4519</th>\n",
       "      <td>28</td>\n",
       "      <td>blue-collar</td>\n",
       "      <td>married</td>\n",
       "      <td>secondary</td>\n",
       "      <td>no</td>\n",
       "      <td>1137</td>\n",
       "      <td>no</td>\n",
       "      <td>no</td>\n",
       "      <td>cellular</td>\n",
       "      <td>6</td>\n",
       "      <td>feb</td>\n",
       "      <td>129</td>\n",
       "      <td>4</td>\n",
       "      <td>211</td>\n",
       "      <td>3</td>\n",
       "      <td>other</td>\n",
       "      <td>no</td>\n",
       "    </tr>\n",
       "    <tr>\n",
       "      <th>4520</th>\n",
       "      <td>44</td>\n",
       "      <td>entrepreneur</td>\n",
       "      <td>single</td>\n",
       "      <td>tertiary</td>\n",
       "      <td>no</td>\n",
       "      <td>1136</td>\n",
       "      <td>yes</td>\n",
       "      <td>yes</td>\n",
       "      <td>cellular</td>\n",
       "      <td>3</td>\n",
       "      <td>apr</td>\n",
       "      <td>345</td>\n",
       "      <td>2</td>\n",
       "      <td>249</td>\n",
       "      <td>7</td>\n",
       "      <td>other</td>\n",
       "      <td>no</td>\n",
       "    </tr>\n",
       "  </tbody>\n",
       "</table>\n",
       "<p>4521 rows × 17 columns</p>\n",
       "</div>"
      ],
      "text/plain": [
       "      age            job  marital  education default  balance housing loan  \\\n",
       "0      30     unemployed  married    primary      no     1787      no   no   \n",
       "1      33       services  married  secondary      no     4789     yes  yes   \n",
       "2      35     management   single   tertiary      no     1350     yes   no   \n",
       "3      30     management  married   tertiary      no     1476     yes  yes   \n",
       "4      59    blue-collar  married  secondary      no        0     yes   no   \n",
       "...   ...            ...      ...        ...     ...      ...     ...  ...   \n",
       "4516   33       services  married  secondary      no     -333     yes   no   \n",
       "4517   57  self-employed  married   tertiary     yes    -3313     yes  yes   \n",
       "4518   57     technician  married  secondary      no      295      no   no   \n",
       "4519   28    blue-collar  married  secondary      no     1137      no   no   \n",
       "4520   44   entrepreneur   single   tertiary      no     1136     yes  yes   \n",
       "\n",
       "       contact  day month  duration  campaign  pdays  previous poutcome   y  \n",
       "0     cellular   19   oct        79         1     -1         0  unknown  no  \n",
       "1     cellular   11   may       220         1    339         4  failure  no  \n",
       "2     cellular   16   apr       185         1    330         1  failure  no  \n",
       "3      unknown    3   jun       199         4     -1         0  unknown  no  \n",
       "4      unknown    5   may       226         1     -1         0  unknown  no  \n",
       "...        ...  ...   ...       ...       ...    ...       ...      ...  ..  \n",
       "4516  cellular   30   jul       329         5     -1         0  unknown  no  \n",
       "4517   unknown    9   may       153         1     -1         0  unknown  no  \n",
       "4518  cellular   19   aug       151        11     -1         0  unknown  no  \n",
       "4519  cellular    6   feb       129         4    211         3    other  no  \n",
       "4520  cellular    3   apr       345         2    249         7    other  no  \n",
       "\n",
       "[4521 rows x 17 columns]"
      ]
     },
     "execution_count": 800,
     "metadata": {},
     "output_type": "execute_result"
    }
   ],
   "source": [
    "## READING THE FILE\n",
    "bankloan2"
   ]
  },
  {
   "cell_type": "code",
   "execution_count": 801,
   "id": "388cabac",
   "metadata": {},
   "outputs": [
    {
     "data": {
      "text/html": [
       "<div>\n",
       "<style scoped>\n",
       "    .dataframe tbody tr th:only-of-type {\n",
       "        vertical-align: middle;\n",
       "    }\n",
       "\n",
       "    .dataframe tbody tr th {\n",
       "        vertical-align: top;\n",
       "    }\n",
       "\n",
       "    .dataframe thead th {\n",
       "        text-align: right;\n",
       "    }\n",
       "</style>\n",
       "<table border=\"1\" class=\"dataframe\">\n",
       "  <thead>\n",
       "    <tr style=\"text-align: right;\">\n",
       "      <th></th>\n",
       "      <th>age</th>\n",
       "      <th>job</th>\n",
       "      <th>marital</th>\n",
       "      <th>education</th>\n",
       "      <th>default</th>\n",
       "      <th>balance</th>\n",
       "      <th>housing</th>\n",
       "      <th>loan</th>\n",
       "      <th>contact</th>\n",
       "      <th>day</th>\n",
       "      <th>month</th>\n",
       "      <th>duration</th>\n",
       "      <th>campaign</th>\n",
       "      <th>pdays</th>\n",
       "      <th>previous</th>\n",
       "      <th>poutcome</th>\n",
       "      <th>y</th>\n",
       "    </tr>\n",
       "  </thead>\n",
       "  <tbody>\n",
       "    <tr>\n",
       "      <th>0</th>\n",
       "      <td>58</td>\n",
       "      <td>management</td>\n",
       "      <td>married</td>\n",
       "      <td>tertiary</td>\n",
       "      <td>no</td>\n",
       "      <td>2143</td>\n",
       "      <td>yes</td>\n",
       "      <td>no</td>\n",
       "      <td>unknown</td>\n",
       "      <td>5</td>\n",
       "      <td>may</td>\n",
       "      <td>261</td>\n",
       "      <td>1</td>\n",
       "      <td>-1</td>\n",
       "      <td>0</td>\n",
       "      <td>unknown</td>\n",
       "      <td>no</td>\n",
       "    </tr>\n",
       "    <tr>\n",
       "      <th>1</th>\n",
       "      <td>44</td>\n",
       "      <td>technician</td>\n",
       "      <td>single</td>\n",
       "      <td>secondary</td>\n",
       "      <td>no</td>\n",
       "      <td>29</td>\n",
       "      <td>yes</td>\n",
       "      <td>no</td>\n",
       "      <td>unknown</td>\n",
       "      <td>5</td>\n",
       "      <td>may</td>\n",
       "      <td>151</td>\n",
       "      <td>1</td>\n",
       "      <td>-1</td>\n",
       "      <td>0</td>\n",
       "      <td>unknown</td>\n",
       "      <td>no</td>\n",
       "    </tr>\n",
       "    <tr>\n",
       "      <th>2</th>\n",
       "      <td>33</td>\n",
       "      <td>entrepreneur</td>\n",
       "      <td>married</td>\n",
       "      <td>secondary</td>\n",
       "      <td>no</td>\n",
       "      <td>2</td>\n",
       "      <td>yes</td>\n",
       "      <td>yes</td>\n",
       "      <td>unknown</td>\n",
       "      <td>5</td>\n",
       "      <td>may</td>\n",
       "      <td>76</td>\n",
       "      <td>1</td>\n",
       "      <td>-1</td>\n",
       "      <td>0</td>\n",
       "      <td>unknown</td>\n",
       "      <td>no</td>\n",
       "    </tr>\n",
       "    <tr>\n",
       "      <th>3</th>\n",
       "      <td>47</td>\n",
       "      <td>blue-collar</td>\n",
       "      <td>married</td>\n",
       "      <td>unknown</td>\n",
       "      <td>no</td>\n",
       "      <td>1506</td>\n",
       "      <td>yes</td>\n",
       "      <td>no</td>\n",
       "      <td>unknown</td>\n",
       "      <td>5</td>\n",
       "      <td>may</td>\n",
       "      <td>92</td>\n",
       "      <td>1</td>\n",
       "      <td>-1</td>\n",
       "      <td>0</td>\n",
       "      <td>unknown</td>\n",
       "      <td>no</td>\n",
       "    </tr>\n",
       "    <tr>\n",
       "      <th>4</th>\n",
       "      <td>33</td>\n",
       "      <td>unknown</td>\n",
       "      <td>single</td>\n",
       "      <td>unknown</td>\n",
       "      <td>no</td>\n",
       "      <td>1</td>\n",
       "      <td>no</td>\n",
       "      <td>no</td>\n",
       "      <td>unknown</td>\n",
       "      <td>5</td>\n",
       "      <td>may</td>\n",
       "      <td>198</td>\n",
       "      <td>1</td>\n",
       "      <td>-1</td>\n",
       "      <td>0</td>\n",
       "      <td>unknown</td>\n",
       "      <td>no</td>\n",
       "    </tr>\n",
       "  </tbody>\n",
       "</table>\n",
       "</div>"
      ],
      "text/plain": [
       "   age           job  marital  education default  balance housing loan  \\\n",
       "0   58    management  married   tertiary      no     2143     yes   no   \n",
       "1   44    technician   single  secondary      no       29     yes   no   \n",
       "2   33  entrepreneur  married  secondary      no        2     yes  yes   \n",
       "3   47   blue-collar  married    unknown      no     1506     yes   no   \n",
       "4   33       unknown   single    unknown      no        1      no   no   \n",
       "\n",
       "   contact  day month  duration  campaign  pdays  previous poutcome   y  \n",
       "0  unknown    5   may       261         1     -1         0  unknown  no  \n",
       "1  unknown    5   may       151         1     -1         0  unknown  no  \n",
       "2  unknown    5   may        76         1     -1         0  unknown  no  \n",
       "3  unknown    5   may        92         1     -1         0  unknown  no  \n",
       "4  unknown    5   may       198         1     -1         0  unknown  no  "
      ]
     },
     "execution_count": 801,
     "metadata": {},
     "output_type": "execute_result"
    }
   ],
   "source": [
    "## COMBINING 2 DATASETS IN ONE BY USING CONCAT FUNCTION\n",
    "## GETTING 1ST 5 OBSERVATIONS FROM DATA SET \n",
    "\n",
    "bank_loan = pd.concat([bankloan1,bankloan2], ignore_index = True)\n",
    "bank_loan.head()"
   ]
  },
  {
   "cell_type": "code",
   "execution_count": 802,
   "id": "e9bbe99f",
   "metadata": {},
   "outputs": [
    {
     "data": {
      "text/html": [
       "<div>\n",
       "<style scoped>\n",
       "    .dataframe tbody tr th:only-of-type {\n",
       "        vertical-align: middle;\n",
       "    }\n",
       "\n",
       "    .dataframe tbody tr th {\n",
       "        vertical-align: top;\n",
       "    }\n",
       "\n",
       "    .dataframe thead th {\n",
       "        text-align: right;\n",
       "    }\n",
       "</style>\n",
       "<table border=\"1\" class=\"dataframe\">\n",
       "  <thead>\n",
       "    <tr style=\"text-align: right;\">\n",
       "      <th></th>\n",
       "      <th>age</th>\n",
       "      <th>job</th>\n",
       "      <th>marital</th>\n",
       "      <th>education</th>\n",
       "      <th>default</th>\n",
       "      <th>balance</th>\n",
       "      <th>housing</th>\n",
       "      <th>loan</th>\n",
       "      <th>contact</th>\n",
       "      <th>day</th>\n",
       "      <th>month</th>\n",
       "      <th>duration</th>\n",
       "      <th>campaign</th>\n",
       "      <th>pdays</th>\n",
       "      <th>previous</th>\n",
       "      <th>poutcome</th>\n",
       "      <th>y</th>\n",
       "    </tr>\n",
       "  </thead>\n",
       "  <tbody>\n",
       "    <tr>\n",
       "      <th>49727</th>\n",
       "      <td>33</td>\n",
       "      <td>services</td>\n",
       "      <td>married</td>\n",
       "      <td>secondary</td>\n",
       "      <td>no</td>\n",
       "      <td>-333</td>\n",
       "      <td>yes</td>\n",
       "      <td>no</td>\n",
       "      <td>cellular</td>\n",
       "      <td>30</td>\n",
       "      <td>jul</td>\n",
       "      <td>329</td>\n",
       "      <td>5</td>\n",
       "      <td>-1</td>\n",
       "      <td>0</td>\n",
       "      <td>unknown</td>\n",
       "      <td>no</td>\n",
       "    </tr>\n",
       "    <tr>\n",
       "      <th>49728</th>\n",
       "      <td>57</td>\n",
       "      <td>self-employed</td>\n",
       "      <td>married</td>\n",
       "      <td>tertiary</td>\n",
       "      <td>yes</td>\n",
       "      <td>-3313</td>\n",
       "      <td>yes</td>\n",
       "      <td>yes</td>\n",
       "      <td>unknown</td>\n",
       "      <td>9</td>\n",
       "      <td>may</td>\n",
       "      <td>153</td>\n",
       "      <td>1</td>\n",
       "      <td>-1</td>\n",
       "      <td>0</td>\n",
       "      <td>unknown</td>\n",
       "      <td>no</td>\n",
       "    </tr>\n",
       "    <tr>\n",
       "      <th>49729</th>\n",
       "      <td>57</td>\n",
       "      <td>technician</td>\n",
       "      <td>married</td>\n",
       "      <td>secondary</td>\n",
       "      <td>no</td>\n",
       "      <td>295</td>\n",
       "      <td>no</td>\n",
       "      <td>no</td>\n",
       "      <td>cellular</td>\n",
       "      <td>19</td>\n",
       "      <td>aug</td>\n",
       "      <td>151</td>\n",
       "      <td>11</td>\n",
       "      <td>-1</td>\n",
       "      <td>0</td>\n",
       "      <td>unknown</td>\n",
       "      <td>no</td>\n",
       "    </tr>\n",
       "    <tr>\n",
       "      <th>49730</th>\n",
       "      <td>28</td>\n",
       "      <td>blue-collar</td>\n",
       "      <td>married</td>\n",
       "      <td>secondary</td>\n",
       "      <td>no</td>\n",
       "      <td>1137</td>\n",
       "      <td>no</td>\n",
       "      <td>no</td>\n",
       "      <td>cellular</td>\n",
       "      <td>6</td>\n",
       "      <td>feb</td>\n",
       "      <td>129</td>\n",
       "      <td>4</td>\n",
       "      <td>211</td>\n",
       "      <td>3</td>\n",
       "      <td>other</td>\n",
       "      <td>no</td>\n",
       "    </tr>\n",
       "    <tr>\n",
       "      <th>49731</th>\n",
       "      <td>44</td>\n",
       "      <td>entrepreneur</td>\n",
       "      <td>single</td>\n",
       "      <td>tertiary</td>\n",
       "      <td>no</td>\n",
       "      <td>1136</td>\n",
       "      <td>yes</td>\n",
       "      <td>yes</td>\n",
       "      <td>cellular</td>\n",
       "      <td>3</td>\n",
       "      <td>apr</td>\n",
       "      <td>345</td>\n",
       "      <td>2</td>\n",
       "      <td>249</td>\n",
       "      <td>7</td>\n",
       "      <td>other</td>\n",
       "      <td>no</td>\n",
       "    </tr>\n",
       "  </tbody>\n",
       "</table>\n",
       "</div>"
      ],
      "text/plain": [
       "       age            job  marital  education default  balance housing loan  \\\n",
       "49727   33       services  married  secondary      no     -333     yes   no   \n",
       "49728   57  self-employed  married   tertiary     yes    -3313     yes  yes   \n",
       "49729   57     technician  married  secondary      no      295      no   no   \n",
       "49730   28    blue-collar  married  secondary      no     1137      no   no   \n",
       "49731   44   entrepreneur   single   tertiary      no     1136     yes  yes   \n",
       "\n",
       "        contact  day month  duration  campaign  pdays  previous poutcome   y  \n",
       "49727  cellular   30   jul       329         5     -1         0  unknown  no  \n",
       "49728   unknown    9   may       153         1     -1         0  unknown  no  \n",
       "49729  cellular   19   aug       151        11     -1         0  unknown  no  \n",
       "49730  cellular    6   feb       129         4    211         3    other  no  \n",
       "49731  cellular    3   apr       345         2    249         7    other  no  "
      ]
     },
     "execution_count": 802,
     "metadata": {},
     "output_type": "execute_result"
    }
   ],
   "source": [
    "## GETTING LAST 5 OBSERVATIONS FROM DATA SET \n",
    "\n",
    "bank_loan.tail()"
   ]
  },
  {
   "cell_type": "code",
   "execution_count": 803,
   "id": "c5202347",
   "metadata": {},
   "outputs": [
    {
     "data": {
      "text/plain": [
       "(49732, 17)"
      ]
     },
     "execution_count": 803,
     "metadata": {},
     "output_type": "execute_result"
    }
   ],
   "source": [
    "## LOOKING AT THE SHAPE OF THE DATA WHICH WILL HELP \n",
    "## TO GET NUMBER OF ROWS AND COLUMNS PRESENT IN THE DATA\n",
    "\n",
    "bank_loan.shape"
   ]
  },
  {
   "cell_type": "code",
   "execution_count": 804,
   "id": "609b24d7",
   "metadata": {},
   "outputs": [
    {
     "data": {
      "text/plain": [
       "845444"
      ]
     },
     "execution_count": 804,
     "metadata": {},
     "output_type": "execute_result"
    }
   ],
   "source": [
    "## CHECKING THE TOTAL SIZE OF THE DATA\n",
    "\n",
    "bank_loan.size"
   ]
  },
  {
   "cell_type": "code",
   "execution_count": 805,
   "id": "3ea64f7a",
   "metadata": {},
   "outputs": [
    {
     "name": "stdout",
     "output_type": "stream",
     "text": [
      "<class 'pandas.core.frame.DataFrame'>\n",
      "RangeIndex: 49732 entries, 0 to 49731\n",
      "Data columns (total 17 columns):\n",
      " #   Column     Non-Null Count  Dtype \n",
      "---  ------     --------------  ----- \n",
      " 0   age        49732 non-null  int64 \n",
      " 1   job        49732 non-null  object\n",
      " 2   marital    49732 non-null  object\n",
      " 3   education  49732 non-null  object\n",
      " 4   default    49732 non-null  object\n",
      " 5   balance    49732 non-null  int64 \n",
      " 6   housing    49732 non-null  object\n",
      " 7   loan       49732 non-null  object\n",
      " 8   contact    49732 non-null  object\n",
      " 9   day        49732 non-null  int64 \n",
      " 10  month      49732 non-null  object\n",
      " 11  duration   49732 non-null  int64 \n",
      " 12  campaign   49732 non-null  int64 \n",
      " 13  pdays      49732 non-null  int64 \n",
      " 14  previous   49732 non-null  int64 \n",
      " 15  poutcome   49732 non-null  object\n",
      " 16  y          49732 non-null  object\n",
      "dtypes: int64(7), object(10)\n",
      "memory usage: 6.5+ MB\n"
     ]
    }
   ],
   "source": [
    "## GETTING THE TOTAL INFORMATION ABOUT THE DATA INCLUDING DATATYPE, COUNT OF ROWS PRESENT AND NULL VALUES COUNT \n",
    "\n",
    "bank_loan.info()"
   ]
  },
  {
   "cell_type": "code",
   "execution_count": 806,
   "id": "f405afe8",
   "metadata": {},
   "outputs": [
    {
     "name": "stdout",
     "output_type": "stream",
     "text": [
      "<class 'pandas.core.frame.DataFrame'>\n",
      "RangeIndex: 49732 entries, 0 to 49731\n",
      "Data columns (total 17 columns):\n",
      " #   Column     Non-Null Count  Dtype   \n",
      "---  ------     --------------  -----   \n",
      " 0   age        49732 non-null  int64   \n",
      " 1   job        49732 non-null  category\n",
      " 2   marital    49732 non-null  category\n",
      " 3   education  49732 non-null  category\n",
      " 4   default    49732 non-null  category\n",
      " 5   balance    49732 non-null  int64   \n",
      " 6   housing    49732 non-null  category\n",
      " 7   loan       49732 non-null  category\n",
      " 8   contact    49732 non-null  category\n",
      " 9   day        49732 non-null  int64   \n",
      " 10  month      49732 non-null  category\n",
      " 11  duration   49732 non-null  int64   \n",
      " 12  campaign   49732 non-null  int64   \n",
      " 13  pdays      49732 non-null  int64   \n",
      " 14  previous   49732 non-null  int64   \n",
      " 15  poutcome   49732 non-null  category\n",
      " 16  y          49732 non-null  category\n",
      "dtypes: category(10), int64(7)\n",
      "memory usage: 3.1 MB\n"
     ]
    }
   ],
   "source": [
    "## CONVERTING OBJECT TYPE DATA INTO CATEGORICAL DATA\n",
    "\n",
    "cat_cols = ['job', 'marital', 'education', 'default', 'housing', 'loan', 'contact', 'month', 'poutcome', 'y']\n",
    "bank_loan[cat_cols] = bank_loan[cat_cols].astype('category')\n",
    "bank_loan.info()"
   ]
  },
  {
   "cell_type": "code",
   "execution_count": 807,
   "id": "11937f85",
   "metadata": {},
   "outputs": [],
   "source": [
    "## TAKING THE NUMERICAL VARIABLES\n",
    "num_cols = ['age', 'balance', 'day', 'duration', 'campaign', 'pdays', 'previous']"
   ]
  },
  {
   "cell_type": "code",
   "execution_count": 808,
   "id": "d5911282",
   "metadata": {},
   "outputs": [
    {
     "data": {
      "text/html": [
       "<div>\n",
       "<style scoped>\n",
       "    .dataframe tbody tr th:only-of-type {\n",
       "        vertical-align: middle;\n",
       "    }\n",
       "\n",
       "    .dataframe tbody tr th {\n",
       "        vertical-align: top;\n",
       "    }\n",
       "\n",
       "    .dataframe thead th {\n",
       "        text-align: right;\n",
       "    }\n",
       "</style>\n",
       "<table border=\"1\" class=\"dataframe\">\n",
       "  <thead>\n",
       "    <tr style=\"text-align: right;\">\n",
       "      <th></th>\n",
       "      <th>count</th>\n",
       "      <th>unique</th>\n",
       "      <th>top</th>\n",
       "      <th>freq</th>\n",
       "      <th>mean</th>\n",
       "      <th>std</th>\n",
       "      <th>min</th>\n",
       "      <th>25%</th>\n",
       "      <th>50%</th>\n",
       "      <th>75%</th>\n",
       "      <th>max</th>\n",
       "    </tr>\n",
       "  </thead>\n",
       "  <tbody>\n",
       "    <tr>\n",
       "      <th>age</th>\n",
       "      <td>49732.0</td>\n",
       "      <td>NaN</td>\n",
       "      <td>NaN</td>\n",
       "      <td>NaN</td>\n",
       "      <td>40.957472</td>\n",
       "      <td>10.615008</td>\n",
       "      <td>18.0</td>\n",
       "      <td>33.0</td>\n",
       "      <td>39.0</td>\n",
       "      <td>48.0</td>\n",
       "      <td>95.0</td>\n",
       "    </tr>\n",
       "    <tr>\n",
       "      <th>job</th>\n",
       "      <td>49732</td>\n",
       "      <td>12</td>\n",
       "      <td>blue-collar</td>\n",
       "      <td>10678</td>\n",
       "      <td>NaN</td>\n",
       "      <td>NaN</td>\n",
       "      <td>NaN</td>\n",
       "      <td>NaN</td>\n",
       "      <td>NaN</td>\n",
       "      <td>NaN</td>\n",
       "      <td>NaN</td>\n",
       "    </tr>\n",
       "    <tr>\n",
       "      <th>marital</th>\n",
       "      <td>49732</td>\n",
       "      <td>3</td>\n",
       "      <td>married</td>\n",
       "      <td>30011</td>\n",
       "      <td>NaN</td>\n",
       "      <td>NaN</td>\n",
       "      <td>NaN</td>\n",
       "      <td>NaN</td>\n",
       "      <td>NaN</td>\n",
       "      <td>NaN</td>\n",
       "      <td>NaN</td>\n",
       "    </tr>\n",
       "    <tr>\n",
       "      <th>education</th>\n",
       "      <td>49732</td>\n",
       "      <td>4</td>\n",
       "      <td>secondary</td>\n",
       "      <td>25508</td>\n",
       "      <td>NaN</td>\n",
       "      <td>NaN</td>\n",
       "      <td>NaN</td>\n",
       "      <td>NaN</td>\n",
       "      <td>NaN</td>\n",
       "      <td>NaN</td>\n",
       "      <td>NaN</td>\n",
       "    </tr>\n",
       "    <tr>\n",
       "      <th>default</th>\n",
       "      <td>49732</td>\n",
       "      <td>2</td>\n",
       "      <td>no</td>\n",
       "      <td>48841</td>\n",
       "      <td>NaN</td>\n",
       "      <td>NaN</td>\n",
       "      <td>NaN</td>\n",
       "      <td>NaN</td>\n",
       "      <td>NaN</td>\n",
       "      <td>NaN</td>\n",
       "      <td>NaN</td>\n",
       "    </tr>\n",
       "    <tr>\n",
       "      <th>balance</th>\n",
       "      <td>49732.0</td>\n",
       "      <td>NaN</td>\n",
       "      <td>NaN</td>\n",
       "      <td>NaN</td>\n",
       "      <td>1367.761562</td>\n",
       "      <td>3041.608766</td>\n",
       "      <td>-8019.0</td>\n",
       "      <td>72.0</td>\n",
       "      <td>448.0</td>\n",
       "      <td>1431.0</td>\n",
       "      <td>102127.0</td>\n",
       "    </tr>\n",
       "    <tr>\n",
       "      <th>housing</th>\n",
       "      <td>49732</td>\n",
       "      <td>2</td>\n",
       "      <td>yes</td>\n",
       "      <td>27689</td>\n",
       "      <td>NaN</td>\n",
       "      <td>NaN</td>\n",
       "      <td>NaN</td>\n",
       "      <td>NaN</td>\n",
       "      <td>NaN</td>\n",
       "      <td>NaN</td>\n",
       "      <td>NaN</td>\n",
       "    </tr>\n",
       "    <tr>\n",
       "      <th>loan</th>\n",
       "      <td>49732</td>\n",
       "      <td>2</td>\n",
       "      <td>no</td>\n",
       "      <td>41797</td>\n",
       "      <td>NaN</td>\n",
       "      <td>NaN</td>\n",
       "      <td>NaN</td>\n",
       "      <td>NaN</td>\n",
       "      <td>NaN</td>\n",
       "      <td>NaN</td>\n",
       "      <td>NaN</td>\n",
       "    </tr>\n",
       "    <tr>\n",
       "      <th>contact</th>\n",
       "      <td>49732</td>\n",
       "      <td>3</td>\n",
       "      <td>cellular</td>\n",
       "      <td>32181</td>\n",
       "      <td>NaN</td>\n",
       "      <td>NaN</td>\n",
       "      <td>NaN</td>\n",
       "      <td>NaN</td>\n",
       "      <td>NaN</td>\n",
       "      <td>NaN</td>\n",
       "      <td>NaN</td>\n",
       "    </tr>\n",
       "    <tr>\n",
       "      <th>day</th>\n",
       "      <td>49732.0</td>\n",
       "      <td>NaN</td>\n",
       "      <td>NaN</td>\n",
       "      <td>NaN</td>\n",
       "      <td>15.816315</td>\n",
       "      <td>8.31568</td>\n",
       "      <td>1.0</td>\n",
       "      <td>8.0</td>\n",
       "      <td>16.0</td>\n",
       "      <td>21.0</td>\n",
       "      <td>31.0</td>\n",
       "    </tr>\n",
       "    <tr>\n",
       "      <th>month</th>\n",
       "      <td>49732</td>\n",
       "      <td>12</td>\n",
       "      <td>may</td>\n",
       "      <td>15164</td>\n",
       "      <td>NaN</td>\n",
       "      <td>NaN</td>\n",
       "      <td>NaN</td>\n",
       "      <td>NaN</td>\n",
       "      <td>NaN</td>\n",
       "      <td>NaN</td>\n",
       "      <td>NaN</td>\n",
       "    </tr>\n",
       "    <tr>\n",
       "      <th>duration</th>\n",
       "      <td>49732.0</td>\n",
       "      <td>NaN</td>\n",
       "      <td>NaN</td>\n",
       "      <td>NaN</td>\n",
       "      <td>258.690179</td>\n",
       "      <td>257.743149</td>\n",
       "      <td>0.0</td>\n",
       "      <td>103.0</td>\n",
       "      <td>180.0</td>\n",
       "      <td>320.0</td>\n",
       "      <td>4918.0</td>\n",
       "    </tr>\n",
       "    <tr>\n",
       "      <th>campaign</th>\n",
       "      <td>49732.0</td>\n",
       "      <td>NaN</td>\n",
       "      <td>NaN</td>\n",
       "      <td>NaN</td>\n",
       "      <td>2.766549</td>\n",
       "      <td>3.099075</td>\n",
       "      <td>1.0</td>\n",
       "      <td>1.0</td>\n",
       "      <td>2.0</td>\n",
       "      <td>3.0</td>\n",
       "      <td>63.0</td>\n",
       "    </tr>\n",
       "    <tr>\n",
       "      <th>pdays</th>\n",
       "      <td>49732.0</td>\n",
       "      <td>NaN</td>\n",
       "      <td>NaN</td>\n",
       "      <td>NaN</td>\n",
       "      <td>40.15863</td>\n",
       "      <td>100.127123</td>\n",
       "      <td>-1.0</td>\n",
       "      <td>-1.0</td>\n",
       "      <td>-1.0</td>\n",
       "      <td>-1.0</td>\n",
       "      <td>871.0</td>\n",
       "    </tr>\n",
       "    <tr>\n",
       "      <th>previous</th>\n",
       "      <td>49732.0</td>\n",
       "      <td>NaN</td>\n",
       "      <td>NaN</td>\n",
       "      <td>NaN</td>\n",
       "      <td>0.576892</td>\n",
       "      <td>2.254838</td>\n",
       "      <td>0.0</td>\n",
       "      <td>0.0</td>\n",
       "      <td>0.0</td>\n",
       "      <td>0.0</td>\n",
       "      <td>275.0</td>\n",
       "    </tr>\n",
       "    <tr>\n",
       "      <th>poutcome</th>\n",
       "      <td>49732</td>\n",
       "      <td>4</td>\n",
       "      <td>unknown</td>\n",
       "      <td>40664</td>\n",
       "      <td>NaN</td>\n",
       "      <td>NaN</td>\n",
       "      <td>NaN</td>\n",
       "      <td>NaN</td>\n",
       "      <td>NaN</td>\n",
       "      <td>NaN</td>\n",
       "      <td>NaN</td>\n",
       "    </tr>\n",
       "    <tr>\n",
       "      <th>y</th>\n",
       "      <td>49732</td>\n",
       "      <td>2</td>\n",
       "      <td>no</td>\n",
       "      <td>43922</td>\n",
       "      <td>NaN</td>\n",
       "      <td>NaN</td>\n",
       "      <td>NaN</td>\n",
       "      <td>NaN</td>\n",
       "      <td>NaN</td>\n",
       "      <td>NaN</td>\n",
       "      <td>NaN</td>\n",
       "    </tr>\n",
       "  </tbody>\n",
       "</table>\n",
       "</div>"
      ],
      "text/plain": [
       "             count unique          top   freq         mean          std  \\\n",
       "age        49732.0    NaN          NaN    NaN    40.957472    10.615008   \n",
       "job          49732     12  blue-collar  10678          NaN          NaN   \n",
       "marital      49732      3      married  30011          NaN          NaN   \n",
       "education    49732      4    secondary  25508          NaN          NaN   \n",
       "default      49732      2           no  48841          NaN          NaN   \n",
       "balance    49732.0    NaN          NaN    NaN  1367.761562  3041.608766   \n",
       "housing      49732      2          yes  27689          NaN          NaN   \n",
       "loan         49732      2           no  41797          NaN          NaN   \n",
       "contact      49732      3     cellular  32181          NaN          NaN   \n",
       "day        49732.0    NaN          NaN    NaN    15.816315      8.31568   \n",
       "month        49732     12          may  15164          NaN          NaN   \n",
       "duration   49732.0    NaN          NaN    NaN   258.690179   257.743149   \n",
       "campaign   49732.0    NaN          NaN    NaN     2.766549     3.099075   \n",
       "pdays      49732.0    NaN          NaN    NaN     40.15863   100.127123   \n",
       "previous   49732.0    NaN          NaN    NaN     0.576892     2.254838   \n",
       "poutcome     49732      4      unknown  40664          NaN          NaN   \n",
       "y            49732      2           no  43922          NaN          NaN   \n",
       "\n",
       "              min    25%    50%     75%       max  \n",
       "age          18.0   33.0   39.0    48.0      95.0  \n",
       "job           NaN    NaN    NaN     NaN       NaN  \n",
       "marital       NaN    NaN    NaN     NaN       NaN  \n",
       "education     NaN    NaN    NaN     NaN       NaN  \n",
       "default       NaN    NaN    NaN     NaN       NaN  \n",
       "balance   -8019.0   72.0  448.0  1431.0  102127.0  \n",
       "housing       NaN    NaN    NaN     NaN       NaN  \n",
       "loan          NaN    NaN    NaN     NaN       NaN  \n",
       "contact       NaN    NaN    NaN     NaN       NaN  \n",
       "day           1.0    8.0   16.0    21.0      31.0  \n",
       "month         NaN    NaN    NaN     NaN       NaN  \n",
       "duration      0.0  103.0  180.0   320.0    4918.0  \n",
       "campaign      1.0    1.0    2.0     3.0      63.0  \n",
       "pdays        -1.0   -1.0   -1.0    -1.0     871.0  \n",
       "previous      0.0    0.0    0.0     0.0     275.0  \n",
       "poutcome      NaN    NaN    NaN     NaN       NaN  \n",
       "y             NaN    NaN    NaN     NaN       NaN  "
      ]
     },
     "execution_count": 808,
     "metadata": {},
     "output_type": "execute_result"
    }
   ],
   "source": [
    "## STATICALSUMMERY OF DATASET\n",
    "\n",
    "bank_loan.describe(include = 'all').T"
   ]
  },
  {
   "cell_type": "code",
   "execution_count": 809,
   "id": "7b79f5c5",
   "metadata": {},
   "outputs": [
    {
     "data": {
      "text/plain": [
       "age          0\n",
       "job          0\n",
       "marital      0\n",
       "education    0\n",
       "default      0\n",
       "balance      0\n",
       "housing      0\n",
       "loan         0\n",
       "contact      0\n",
       "day          0\n",
       "month        0\n",
       "duration     0\n",
       "campaign     0\n",
       "pdays        0\n",
       "previous     0\n",
       "poutcome     0\n",
       "y            0\n",
       "dtype: int64"
      ]
     },
     "execution_count": 809,
     "metadata": {},
     "output_type": "execute_result"
    }
   ],
   "source": [
    "##  CHECKING FOR NULL VALUES\n",
    "\n",
    "bank_loan.isnull().sum()"
   ]
  },
  {
   "cell_type": "code",
   "execution_count": 810,
   "id": "5e1db274",
   "metadata": {},
   "outputs": [
    {
     "data": {
      "text/plain": [
       "age            77\n",
       "job            12\n",
       "marital         3\n",
       "education       4\n",
       "default         2\n",
       "balance      7168\n",
       "housing         2\n",
       "loan            2\n",
       "contact         3\n",
       "day            31\n",
       "month          12\n",
       "duration     1573\n",
       "campaign       48\n",
       "pdays         559\n",
       "previous       41\n",
       "poutcome        4\n",
       "y               2\n",
       "dtype: int64"
      ]
     },
     "execution_count": 810,
     "metadata": {},
     "output_type": "execute_result"
    }
   ],
   "source": [
    "## CHECKING FOR UNIQUE VALUES\n",
    "\n",
    "bank_loan.nunique()"
   ]
  },
  {
   "cell_type": "code",
   "execution_count": 811,
   "id": "22708b77",
   "metadata": {
    "scrolled": true
   },
   "outputs": [
    {
     "data": {
      "image/png": "[encoded data removed]",
      "text/plain": [
       "<Figure size 1728x720 with 3 Axes>"
      ]
     },
     "metadata": {},
     "output_type": "display_data"
    }
   ],
   "source": [
    "## BY USING MISSINGNO BAR PLOT CHECKING NULL VALUES COUNT\n",
    "\n",
    "msno.bar(bank_loan, color = 'purple')\n",
    "plt.show()"
   ]
  },
  {
   "attachments": {},
   "cell_type": "markdown",
   "id": "c915ce7c",
   "metadata": {},
   "source": [
    "###### There are no null values or missing values in the given data"
   ]
  },
  {
   "cell_type": "code",
   "execution_count": 812,
   "id": "0382f43a",
   "metadata": {},
   "outputs": [
    {
     "data": {
      "text/plain": [
       "job          12\n",
       "marital       3\n",
       "education     4\n",
       "default       2\n",
       "housing       2\n",
       "loan          2\n",
       "contact       3\n",
       "month        12\n",
       "poutcome      4\n",
       "y             2\n",
       "dtype: int64"
      ]
     },
     "execution_count": 812,
     "metadata": {},
     "output_type": "execute_result"
    }
   ],
   "source": [
    "## CHECKING CATEGORICAL VARIABLES UNIQUE VALUES \n",
    "\n",
    "bank_loan[cat_cols].nunique()"
   ]
  },
  {
   "cell_type": "code",
   "execution_count": 813,
   "id": "574bdaf8",
   "metadata": {},
   "outputs": [
    {
     "data": {
      "text/plain": [
       "age           77\n",
       "balance     7168\n",
       "day           31\n",
       "duration    1573\n",
       "campaign      48\n",
       "pdays        559\n",
       "previous      41\n",
       "dtype: int64"
      ]
     },
     "execution_count": 813,
     "metadata": {},
     "output_type": "execute_result"
    }
   ],
   "source": [
    "## CHECKING NUMERICAL VARIABLES UNIQUE VALUES \n",
    "\n",
    "bank_loan[num_cols].nunique()"
   ]
  },
  {
   "cell_type": "code",
   "execution_count": 814,
   "id": "c952d0da",
   "metadata": {},
   "outputs": [],
   "source": [
    "## CHANGING DATA SET NAME\n",
    "\n",
    "bankloan = bank_loan"
   ]
  },
  {
   "cell_type": "markdown",
   "id": "ec74a757",
   "metadata": {},
   "source": [
    "### Now lets look at some distribution of categorical variables."
   ]
  },
  {
   "cell_type": "markdown",
   "id": "4a180f45",
   "metadata": {},
   "source": [
    "#### Job : From the visual below, we can conclude that people with blue-collar and management jobs took part the most in the campaign."
   ]
  },
  {
   "cell_type": "code",
   "execution_count": 815,
   "id": "3f9438c3",
   "metadata": {},
   "outputs": [
    {
     "name": "stdout",
     "output_type": "stream",
     "text": [
      "blue-collar      10678\n",
      "management       10427\n",
      "technician        8365\n",
      "admin.            5649\n",
      "services          4571\n",
      "retired           2494\n",
      "self-employed     1762\n",
      "entrepreneur      1655\n",
      "unemployed        1431\n",
      "housemaid         1352\n",
      "student           1022\n",
      "unknown            326\n",
      "Name: job, dtype: int64\n"
     ]
    },
    {
     "data": {
      "text/plain": [
       "<AxesSubplot:xlabel='job', ylabel='count'>"
      ]
     },
     "execution_count": 815,
     "metadata": {},
     "output_type": "execute_result"
    },
    {
     "data": {
      "image/png": "[encoded data removed]",
      "text/plain": [
       "<Figure size 1080x504 with 1 Axes>"
      ]
     },
     "metadata": {},
     "output_type": "display_data"
    }
   ],
   "source": [
    "## BY USING COUNTPLOT CHECKING THE COUNT AND DISTRIBUTION OF SOME CATEGORICAL VARIABLES\n",
    "## BY USING VALUECOUNTS FUNCTION GETTING THE COUNT OF THE VARIABLE\n",
    "print(bankloan['job'].value_counts())\n",
    "sns.set_style('whitegrid')\n",
    "plt.figure(figsize = (15,7))\n",
    "sns.countplot(x = 'job', data = bankloan, hue = 'y')"
   ]
  },
  {
   "cell_type": "markdown",
   "id": "c6af6fe4",
   "metadata": {},
   "source": [
    "#### marital : there are more married people who took part in the campaign than single people and divorced people."
   ]
  },
  {
   "cell_type": "code",
   "execution_count": 816,
   "id": "eeaca5c5",
   "metadata": {
    "scrolled": true
   },
   "outputs": [
    {
     "name": "stdout",
     "output_type": "stream",
     "text": [
      "married     30011\n",
      "single      13986\n",
      "divorced     5735\n",
      "Name: marital, dtype: int64\n"
     ]
    },
    {
     "data": {
      "text/plain": [
       "<AxesSubplot:xlabel='marital', ylabel='count'>"
      ]
     },
     "execution_count": 816,
     "metadata": {},
     "output_type": "execute_result"
    },
    {
     "data": {
      "image/png": "[encoded data removed]",
      "text/plain": [
       "<Figure size 360x360 with 1 Axes>"
      ]
     },
     "metadata": {},
     "output_type": "display_data"
    }
   ],
   "source": [
    "## BY USING COUNTPLOT CHECKING THE COUNT AND DISTRIBUTION OF SOME CATEGORICAL VARIABLES\n",
    "## BY USING VALUECOUNTS FUNCTION GETTING THE COUNT OF THE VARIABLE\n",
    "print(bankloan['marital'].value_counts())\n",
    "sns.set_style('whitegrid')\n",
    "plt.figure(figsize = (5,5))\n",
    "sns.countplot(x ='marital', data = bankloan, hue = 'y')"
   ]
  },
  {
   "cell_type": "markdown",
   "id": "b74a1da5",
   "metadata": {},
   "source": [
    "#### Education : there are more clients who had a secondary education who had taken part in the campaign."
   ]
  },
  {
   "cell_type": "code",
   "execution_count": 817,
   "id": "05ea012e",
   "metadata": {},
   "outputs": [
    {
     "name": "stdout",
     "output_type": "stream",
     "text": [
      "secondary    25508\n",
      "tertiary     14651\n",
      "primary       7529\n",
      "unknown       2044\n",
      "Name: education, dtype: int64\n"
     ]
    },
    {
     "data": {
      "text/plain": [
       "<AxesSubplot:xlabel='education', ylabel='count'>"
      ]
     },
     "execution_count": 817,
     "metadata": {},
     "output_type": "execute_result"
    },
    {
     "data": {
      "image/png": "[encoded data removed]",
      "text/plain": [
       "<Figure size 720x360 with 1 Axes>"
      ]
     },
     "metadata": {},
     "output_type": "display_data"
    }
   ],
   "source": [
    "## BY USING COUNTPLOT CHECKING THE COUNT AND DISTRIBUTION OF SOME CATEGORICAL VARIABLES\n",
    "## BY USING VALUECOUNTS FUNCTION GETTING THE COUNT OF THreE VARIABLE\n",
    "print(bankloan['education'].value_counts())\n",
    "sns.set_style('whitegrid')\n",
    "plt.figure(figsize = (10,5))\n",
    "sns.countplot(x ='education', data = bankloan, hue = 'y')"
   ]
  },
  {
   "cell_type": "markdown",
   "id": "40305d07",
   "metadata": {},
   "source": [
    "#### Housing : most of the clients having house loan."
   ]
  },
  {
   "cell_type": "code",
   "execution_count": 818,
   "id": "52be96b6",
   "metadata": {},
   "outputs": [
    {
     "name": "stdout",
     "output_type": "stream",
     "text": [
      "yes    27689\n",
      "no     22043\n",
      "Name: housing, dtype: int64\n"
     ]
    },
    {
     "data": {
      "text/plain": [
       "<AxesSubplot:xlabel='housing', ylabel='count'>"
      ]
     },
     "execution_count": 818,
     "metadata": {},
     "output_type": "execute_result"
    },
    {
     "data": {
      "image/png": "[encoded data removed]",
      "text/plain": [
       "<Figure size 216x360 with 1 Axes>"
      ]
     },
     "metadata": {},
     "output_type": "display_data"
    }
   ],
   "source": [
    "## BY USING COUNTPLOT CHECKING THE COUNT AND DISTRIBUTION OF SOME CATEGORICAL VARIABLES\n",
    "## BY USING VALUECOUNTS FUNCTION GETTING THE COUNT OF THE VARIABLE\n",
    "print(bankloan['housing'].value_counts())\n",
    "sns.set_style('whitegrid')\n",
    "plt.figure(figsize = (3,5))\n",
    "sns.countplot(bankloan['housing'])"
   ]
  },
  {
   "cell_type": "markdown",
   "id": "0bbef74c",
   "metadata": {},
   "source": [
    "### Loan : most clients had not taken a personal loan. "
   ]
  },
  {
   "cell_type": "code",
   "execution_count": 819,
   "id": "1fc1e2bf",
   "metadata": {},
   "outputs": [
    {
     "name": "stdout",
     "output_type": "stream",
     "text": [
      "no     41797\n",
      "yes     7935\n",
      "Name: loan, dtype: int64\n"
     ]
    },
    {
     "data": {
      "text/plain": [
       "<AxesSubplot:xlabel='loan', ylabel='count'>"
      ]
     },
     "execution_count": 819,
     "metadata": {},
     "output_type": "execute_result"
    },
    {
     "data": {
      "image/png": "[encoded data removed]",
      "text/plain": [
       "<Figure size 216x360 with 1 Axes>"
      ]
     },
     "metadata": {},
     "output_type": "display_data"
    }
   ],
   "source": [
    "## BY USING COUNTPLOT CHECKING THE COUNT AND DISTRIBUTION OF SOME CATEGORICAL VARIABLES\n",
    "## BY USING VALUECOUNTS FUNCTION GETTING THE COUNT OF THE VARIABLE\n",
    "print(bankloan['loan'].value_counts())\n",
    "sns.set_style('whitegrid')\n",
    "plt.figure(figsize = (3,5))\n",
    "sns.countplot(bankloan['loan'])"
   ]
  },
  {
   "cell_type": "markdown",
   "id": "5eb10fec",
   "metadata": {},
   "source": [
    "#### Target variable \"y\" : Out of 49732 records, there were 5810 subscrtions to term depsoit. And 43922 clients did not subscribed."
   ]
  },
  {
   "cell_type": "code",
   "execution_count": 820,
   "id": "aa087b55",
   "metadata": {
    "scrolled": false
   },
   "outputs": [
    {
     "name": "stdout",
     "output_type": "stream",
     "text": [
      "no     43922\n",
      "yes     5810\n",
      "Name: y, dtype: int64\n"
     ]
    },
    {
     "data": {
      "text/plain": [
       "<AxesSubplot:xlabel='y', ylabel='count'>"
      ]
     },
     "execution_count": 820,
     "metadata": {},
     "output_type": "execute_result"
    },
    {
     "data": {
      "image/png": "[encoded data removed]",
      "text/plain": [
       "<Figure size 216x360 with 1 Axes>"
      ]
     },
     "metadata": {},
     "output_type": "display_data"
    }
   ],
   "source": [
    "## BY USING COUNTPLOT CHECKING THE COUNT AND DISTRIBUTION OF SOME CATEGORICAL VARIABLES\n",
    "## BY USING VALUECOUNTS FUNCTION GETTING THE COUNT OF THE VARIABLE\n",
    "print(bankloan['y'].value_counts())\n",
    "sns.set_style('whitegrid')\n",
    "plt.figure(figsize = (3,5))\n",
    "sns.countplot(bankloan['y'])"
   ]
  },
  {
   "cell_type": "code",
   "execution_count": null,
   "id": "27902011",
   "metadata": {},
   "outputs": [],
   "source": []
  },
  {
   "cell_type": "markdown",
   "id": "85772361",
   "metadata": {},
   "source": [
    "### Distribution of numerical variable :"
   ]
  },
  {
   "cell_type": "code",
   "execution_count": 827,
   "id": "b29d585b",
   "metadata": {},
   "outputs": [
    {
     "data": {
      "text/plain": [
       "<function matplotlib.pyplot.show(close=None, block=None)>"
      ]
     },
     "execution_count": 827,
     "metadata": {},
     "output_type": "execute_result"
    },
    {
     "data": {
      "image/png": "[encoded data removed]",
      "text/plain": [
       "<Figure size 576x360 with 1 Axes>"
      ]
     },
     "metadata": {},
     "output_type": "display_data"
    },
    {
     "data": {
      "image/png": "[encoded data removed]",
      "text/plain": [
       "<Figure size 576x360 with 1 Axes>"
      ]
     },
     "metadata": {},
     "output_type": "display_data"
    },
    {
     "data": {
      "image/png": "[encoded data removed]",
      "text/plain": [
       "<Figure size 576x360 with 1 Axes>"
      ]
     },
     "metadata": {},
     "output_type": "display_data"
    },
    {
     "data": {
      "image/png": "[encoded data removed]",
      "text/plain": [
       "<Figure size 576x360 with 1 Axes>"
      ]
     },
     "metadata": {},
     "output_type": "display_data"
    },
    {
     "data": {
      "image/png": "[encoded data removed]",
      "text/plain": [
       "<Figure size 360x288 with 1 Axes>"
      ]
     },
     "metadata": {},
     "output_type": "display_data"
    },
    {
     "data": {
      "image/png": "[encoded data removed]",
      "text/plain": [
       "<Figure size 576x360 with 1 Axes>"
      ]
     },
     "metadata": {},
     "output_type": "display_data"
    },
    {
     "data": {
      "image/png": "[encoded data removed]",
      "text/plain": [
       "<Figure size 576x360 with 1 Axes>"
      ]
     },
     "metadata": {},
     "output_type": "display_data"
    }
   ],
   "source": [
    "## CHECKING THE DISTRIBUTION OF ALL NUMERICAL DATA BY USING 'DISTPLOT'\n",
    "\n",
    "## GIVING FIGURE SIZE\n",
    "plt.figure(figsize = (8,5))   \n",
    "\n",
    "## CHECKING NUMERICAL DATA DISTRIBUTION BY USING DISTRIBUTION PLOT \n",
    "sns.distplot(bankloan['age'],bins = 20, kde = True)\n",
    "\n",
    "## GIVING TITLE TO PLOT \n",
    "plt.title('distribution of age',fontsize=20)   \n",
    "\n",
    "## GIVING MEAN AND MEDIAN LINES ALONG WITH DISTRIBUTION\n",
    "plt.axvline(x=bankloan['age'].mean(),ls='--',lw=2.5,color='blue',label=\"mean\")  # fixing 'mean' line and its characteristics.\n",
    "plt.axvline(x=bankloan['age'].median(),color='blue',label=\"median\") # fixing 'median' line and its characteristics.\n",
    "plt.show\n",
    "\n",
    "## GIVING FIGURE SIZE\n",
    "plt.figure(figsize = (8,5))\n",
    "\n",
    "## CHECKING NUMERICAL DATA DISTRIBUTION BY USING DISTRIBUTION PLOT \n",
    "sns.distplot(bankloan['balance'],bins = 20, kde = True)\n",
    "\n",
    "## GIVING TITLE TO PLOT \n",
    "plt.title('distribution of balance',fontsize=20)\n",
    "\n",
    "## GIVING MEAN AND MEDIAN LINES ALONG WITH DISTRIBUTION\n",
    "plt.axvline(x=bankloan['balance'].mean(),ls='--',lw=2.5,color='blue',label=\"mean\")  # fixing 'mean' line and its characteristics.\n",
    "plt.axvline(x=bankloan['balance'].median(),color='blue',label=\"median\") # fixing 'median' line and its characteristics.\n",
    "plt.show\n",
    "\n",
    "## GIVING FIGURE SIZE\n",
    "plt.figure(figsize = (8,5))\n",
    "\n",
    "## CHECKING NUMERICAL DATA DISTRIBUTION BY USING DISTRIBUTION PLOT \n",
    "sns.distplot(bankloan['day'],bins = 20, kde = True)\n",
    "\n",
    "## GIVING TITLE TO PLOT \n",
    "plt.title('distribution of day',fontsize=20)\n",
    "\n",
    "## GIVING MEAN AND MEDIAN LINES ALONG WITH DISTRIBUTION\n",
    "plt.axvline(x=bankloan['day'].mean(),ls='--',lw=2.5,color='blue',label=\"mean\")  # fixing 'mean' line and its characteristics.\n",
    "plt.axvline(x=bankloan['day'].median(),color='blue',label=\"median\") # fixing 'median' line and its characteristics.\n",
    "plt.show\n",
    "\n",
    "## GIVING FIGURE SIZE\n",
    "plt.figure(figsize = (8,5))\n",
    "\n",
    "## CHECKING NUMERICAL DATA DISTRIBUTION BY USING DISTRIBUTION PLOT \n",
    "sns.distplot(bankloan['duration'],bins = 20, kde = True)\n",
    "\n",
    "## GIVING TITLE TO PLOT \n",
    "plt.title('distribution of duration',fontsize=20)\n",
    "\n",
    "## GIVING MEAN AND MEDIAN LINES ALONG WITH DISTRIBUTION\n",
    "plt.axvline(x=bankloan['duration'].mean(),ls='--',lw=2.5,color='blue',label=\"mean\")  # fixing 'mean' line and its characteristics.\n",
    "plt.axvline(x=bankloan['duration'].median(),color='blue',label=\"median\") # fixing 'median' line and its characteristics.\n",
    "plt.show\n",
    "\n",
    "## GIVING FIGURE SIZE\n",
    "plt.figure(figsize = (5,4))\n",
    "\n",
    "## CHECKING NUMERICAL DATA DISTRIBUTION BY USING DISTRIBUTION PLOT \n",
    "sns.distplot(bankloan['campaign'],bins = 20, kde = True)\n",
    "\n",
    "## GIVING TITLE TO PLOT \n",
    "plt.title('distribution of campaign',fontsize=20)\n",
    "\n",
    "## GIVING MEAN AND MEDIAN LINES ALONG WITH DISTRIBUTION\n",
    "plt.axvline(x=bankloan['campaign'].mean(),ls='--',lw=2.5,color='blue',label=\"mean\")  # fixing 'mean' line and its characteristics.\n",
    "plt.axvline(x=bankloan['campaign'].median(),color='blue',label=\"median\") # fixing 'median' line and its characteristics.\n",
    "plt.show\n",
    "\n",
    "## GIVING FIGURE SIZE\n",
    "plt.figure(figsize = (8,5))\n",
    "\n",
    "## CHECKING NUMERICAL DATA DISTRIBUTION BY USING DISTRIBUTION PLOT \n",
    "sns.distplot(bankloan['pdays'],bins = 20, kde = True)\n",
    "\n",
    "## GIVING TITLE TO PLOT \n",
    "plt.title('distribution of pdays',fontsize=20)\n",
    "\n",
    "## GIVING MEAN AND MEDIAN LINES ALONG WITH DISTRIBUTION\n",
    "plt.axvline(x=bankloan['pdays'].mean(),ls='--',lw=2.5,color='blue',label=\"mean\")  # fixing 'mean' line and its characteristics.\n",
    "plt.axvline(x=bankloan['pdays'].median(),color='blue',label=\"median\") # fixing 'median' line and its characteristics.\n",
    "plt.show\n",
    "\n",
    "## GIVING FIGURE SIZE\n",
    "plt.figure(figsize = (8,5))\n",
    "\n",
    "## CHECKING NUMERICAL DATA DISTRIBUTION BY USING DISTRIBUTION PLOT \n",
    "sns.distplot(bankloan['previous'],bins = 20, kde = True)\n",
    "\n",
    "## GIVING TITLE TO PLOT \n",
    "plt.title('distribution of previous',fontsize=20)\n",
    "\n",
    "## GIVING MEAN AND MEDIAN LINES ALONG WITH DISTRIBUTION\n",
    "plt.axvline(x=bankloan['previous'].mean(),ls='--',lw=2.5,color='blue',label=\"mean\")  # fixing 'mean' line and its characteristics.\n",
    "plt.axvline(x=bankloan['previous'].median(),color='blue',label=\"median\") # fixing 'median' line and its characteristics.\n",
    "plt.show"
   ]
  },
  {
   "attachments": {},
   "cell_type": "markdown",
   "id": "6a11c3a8",
   "metadata": {},
   "source": [
    "###### Distribution of ‘Age’ variable seems normal distributed but sightly towards right side.\n",
    "###### Distribution of ‘balance’ variable is completely right skewed.Variable ‘day’ is normally distributed.\n",
    "###### Distribution of ‘duration’ variable is completely right skewed.\n",
    "###### Distribution of ‘campaign’ variable is completely right skewed.\n",
    "###### Distribution of ‘pdays’ and ‘previous’ variables are also completely right skewed."
   ]
  },
  {
   "cell_type": "markdown",
   "id": "7c91cbff",
   "metadata": {},
   "source": [
    "### Checking for outliers :"
   ]
  },
  {
   "cell_type": "code",
   "execution_count": 829,
   "id": "2856deab",
   "metadata": {},
   "outputs": [
    {
     "data": {
      "text/plain": [
       "Text(0.5, 1.0, 'outliers in age')"
      ]
     },
     "execution_count": 829,
     "metadata": {},
     "output_type": "execute_result"
    },
    {
     "data": {
      "image/png": "[encoded data removed]",
      "text/plain": [
       "<Figure size 720x360 with 1 Axes>"
      ]
     },
     "metadata": {},
     "output_type": "display_data"
    }
   ],
   "source": [
    "plt.figure(figsize=(10,5))                         # fixing graph size.\n",
    "sns.set_style(\"whitegrid\")                         # fixing graph background.\n",
    "sns.boxplot(x='age',data=bankloan,showmeans=True)    # plotting boxplot,using both mean and median.\n",
    "plt.title('outliers in age')                      # giving title to the graph."
   ]
  },
  {
   "cell_type": "markdown",
   "id": "6a4a2e26",
   "metadata": {},
   "source": [
    "######  'age' variable has outliers and is also right skewed"
   ]
  },
  {
   "cell_type": "code",
   "execution_count": 830,
   "id": "d1ada852",
   "metadata": {},
   "outputs": [
    {
     "data": {
      "text/plain": [
       "Text(0.5, 1.0, 'outliers in balance')"
      ]
     },
     "execution_count": 830,
     "metadata": {},
     "output_type": "execute_result"
    },
    {
     "data": {
      "image/png": "[encoded data removed]",
      "text/plain": [
       "<Figure size 720x360 with 1 Axes>"
      ]
     },
     "metadata": {},
     "output_type": "display_data"
    }
   ],
   "source": [
    "plt.figure(figsize=(10,5))                         # fixing graph size.\n",
    "sns.set_style(\"whitegrid\")                         # fixing graph background.\n",
    "sns.boxplot(x='balance',data=bankloan,showmeans=True)    # plotting boxplot,using both mean and median.\n",
    "plt.title('outliers in balance')                      # giving title to the graph."
   ]
  },
  {
   "cell_type": "markdown",
   "id": "c45ae987",
   "metadata": {},
   "source": [
    "######  'balance' variable has many outliers and highly right skewed"
   ]
  },
  {
   "cell_type": "code",
   "execution_count": 831,
   "id": "680c359f",
   "metadata": {},
   "outputs": [
    {
     "data": {
      "text/plain": [
       "Text(0.5, 1.0, 'outliers in day')"
      ]
     },
     "execution_count": 831,
     "metadata": {},
     "output_type": "execute_result"
    },
    {
     "data": {
      "image/png": "[encoded data removed]",
      "text/plain": [
       "<Figure size 720x360 with 1 Axes>"
      ]
     },
     "metadata": {},
     "output_type": "display_data"
    }
   ],
   "source": [
    "plt.figure(figsize=(10,5))                         # fixing graph size.\n",
    "sns.set_style(\"whitegrid\")                         # fixing graph background.\n",
    "sns.boxplot(x='day',data=bankloan,showmeans=True)    # plotting boxplot,using both mean and median.\n",
    "plt.title('outliers in day')                      # giving title to the graph."
   ]
  },
  {
   "cell_type": "markdown",
   "id": "c81fa606",
   "metadata": {},
   "source": [
    "######  'day' variable has no outliers"
   ]
  },
  {
   "cell_type": "code",
   "execution_count": 832,
   "id": "ff428773",
   "metadata": {},
   "outputs": [
    {
     "data": {
      "text/plain": [
       "Text(0.5, 1.0, 'outliers in duration')"
      ]
     },
     "execution_count": 832,
     "metadata": {},
     "output_type": "execute_result"
    },
    {
     "data": {
      "image/png": "[encoded data removed]",
      "text/plain": [
       "<Figure size 720x360 with 1 Axes>"
      ]
     },
     "metadata": {},
     "output_type": "display_data"
    }
   ],
   "source": [
    "plt.figure(figsize=(10,5))                         # fixing graph size.\n",
    "sns.set_style(\"whitegrid\")                         # fixing graph background.\n",
    "sns.boxplot(x='duration',data=bankloan,showmeans=True)    # plotting boxplot,using both mean and median.\n",
    "plt.title('outliers in duration')                      # giving title to the graph."
   ]
  },
  {
   "cell_type": "markdown",
   "id": "54f6449f",
   "metadata": {},
   "source": [
    "######  'duration' varible has many outliers and highly right skewed "
   ]
  },
  {
   "cell_type": "code",
   "execution_count": 833,
   "id": "36559036",
   "metadata": {},
   "outputs": [
    {
     "data": {
      "text/plain": [
       "Text(0.5, 1.0, 'outliers in campaign')"
      ]
     },
     "execution_count": 833,
     "metadata": {},
     "output_type": "execute_result"
    },
    {
     "data": {
      "image/png": "[encoded data removed]",
      "text/plain": [
       "<Figure size 720x360 with 1 Axes>"
      ]
     },
     "metadata": {},
     "output_type": "display_data"
    }
   ],
   "source": [
    "plt.figure(figsize=(10,5))                         # fixing graph size.\n",
    "sns.set_style(\"whitegrid\")                         # fixing graph background.\n",
    "sns.boxplot(x='campaign',data=bankloan,showmeans=True)    # plotting boxplot,using both mean and median.\n",
    "plt.title('outliers in campaign')                      # giving title to the graph."
   ]
  },
  {
   "cell_type": "markdown",
   "id": "02f9f2b4",
   "metadata": {},
   "source": [
    "######  'campaign' variable has outliers and is highly right skewed."
   ]
  },
  {
   "cell_type": "code",
   "execution_count": 834,
   "id": "56228e37",
   "metadata": {},
   "outputs": [
    {
     "data": {
      "text/plain": [
       "Text(0.5, 1.0, 'outliers in pdays')"
      ]
     },
     "execution_count": 834,
     "metadata": {},
     "output_type": "execute_result"
    },
    {
     "data": {
      "image/png": "[encoded data removed]",
      "text/plain": [
       "<Figure size 720x360 with 1 Axes>"
      ]
     },
     "metadata": {},
     "output_type": "display_data"
    }
   ],
   "source": [
    "plt.figure(figsize=(10,5))                         # fixing graph size.\n",
    "sns.set_style(\"whitegrid\")                         # fixing graph background.\n",
    "sns.boxplot(x='pdays',data=bankloan,showmeans=True)    # plotting boxplot,using both mean and median.\n",
    "plt.title('outliers in pdays')                      # giving title to the graph."
   ]
  },
  {
   "cell_type": "markdown",
   "id": "e8d600de",
   "metadata": {},
   "source": [
    "######  'pdays' variable has so many outliers and is highly right skewed."
   ]
  },
  {
   "cell_type": "code",
   "execution_count": 835,
   "id": "d35d3906",
   "metadata": {},
   "outputs": [
    {
     "data": {
      "text/plain": [
       "Text(0.5, 1.0, 'outliers in previous')"
      ]
     },
     "execution_count": 835,
     "metadata": {},
     "output_type": "execute_result"
    },
    {
     "data": {
      "image/png": "[encoded data removed]",
      "text/plain": [
       "<Figure size 720x360 with 1 Axes>"
      ]
     },
     "metadata": {},
     "output_type": "display_data"
    }
   ],
   "source": [
    "plt.figure(figsize=(10,5))                         # fixing graph size.\n",
    "sns.set_style(\"whitegrid\")                         # fixing graph background.\n",
    "sns.boxplot(x='previous',data=bankloan,showmeans=True)    # plotting boxplot,using both mean and median.\n",
    "plt.title('outliers in previous')                      # giving title to the graph."
   ]
  },
  {
   "cell_type": "markdown",
   "id": "419e353b",
   "metadata": {},
   "source": [
    "* 'previous' variable has outliers and is highly right skewed. "
   ]
  },
  {
   "cell_type": "markdown",
   "id": "896ae97b",
   "metadata": {},
   "source": [
    "### Squareroot transformation for skewed numerical variables :-"
   ]
  },
  {
   "cell_type": "code",
   "execution_count": 836,
   "id": "ef526c5d",
   "metadata": {},
   "outputs": [],
   "source": [
    "bankloan['age'] = np.sqrt(bankloan.age)       # using log transformation\n",
    "bankloan['balance'] = np.sqrt(bankloan.balance)   # using log transformation\n",
    "bankloan['duration'] = np.sqrt(bankloan.duration)  # using log transformation\n",
    "bankloan['campaign'] = np.sqrt(bankloan.campaign)  # using log transformation\n",
    "bankloan['pdays'] = np.sqrt(bankloan.pdays)     # using log transformation\n",
    "bankloan['previous'] = np.sqrt(bankloan.previous)  # using log transformation"
   ]
  },
  {
   "cell_type": "markdown",
   "id": "4d10c789",
   "metadata": {},
   "source": [
    "### Checking for Outliers After Square root transformation :- \n",
    "\n",
    "* Remove outliers cause loss of data. \n",
    "* So, transformation is preferred.\n",
    "* Here I choosed squareroot transformation, because log transformation not working properly, and box-cox can't be used on zero/negative values.\n",
    "* After squareroot transforming the skewed variables, still there are some outliers, but there skeweness is treated."
   ]
  },
  {
   "cell_type": "code",
   "execution_count": 838,
   "id": "61fd4007",
   "metadata": {},
   "outputs": [
    {
     "data": {
      "text/plain": [
       "Text(0.5, 1.0, 'age after log transformation')"
      ]
     },
     "execution_count": 838,
     "metadata": {},
     "output_type": "execute_result"
    },
    {
     "data": {
      "image/png": "[encoded data removed]",
      "text/plain": [
       "<Figure size 432x288 with 1 Axes>"
      ]
     },
     "metadata": {},
     "output_type": "display_data"
    }
   ],
   "source": [
    "# checking for outliers after transformation using boxplot \n",
    "# using box plot to check the outliers \n",
    "sns.boxplot(x = 'age', data = bankloan, showmeans = True)\n",
    "# giving title to plot\n",
    "plt.title('age after log transformation') \n"
   ]
  },
  {
   "cell_type": "markdown",
   "id": "181f57ea",
   "metadata": {},
   "source": [
    "* Still having some outliers in variable 'age', but it seems better."
   ]
  },
  {
   "cell_type": "code",
   "execution_count": 839,
   "id": "6ab5b508",
   "metadata": {},
   "outputs": [
    {
     "data": {
      "text/plain": [
       "Text(0.5, 1.0, 'balance after log transformation')"
      ]
     },
     "execution_count": 839,
     "metadata": {},
     "output_type": "execute_result"
    },
    {
     "data": {
      "image/png": "[encoded data removed]",
      "text/plain": [
       "<Figure size 432x288 with 1 Axes>"
      ]
     },
     "metadata": {},
     "output_type": "display_data"
    }
   ],
   "source": [
    "# checking for outliers after transformation using boxplot \n",
    "# using box plot to check the outliers \n",
    "sns.boxplot(x = 'balance', data = bankloan, showmeans = True)\n",
    "## GIVING TITLE TO PLOT\n",
    "plt.title('balance after log transformation')"
   ]
  },
  {
   "cell_type": "markdown",
   "id": "63e993b6",
   "metadata": {},
   "source": [
    "* 'balance' variable having some outliers."
   ]
  },
  {
   "cell_type": "code",
   "execution_count": 840,
   "id": "a0801d35",
   "metadata": {},
   "outputs": [
    {
     "data": {
      "text/plain": [
       "Text(0.5, 1.0, 'duration after log transformation')"
      ]
     },
     "execution_count": 840,
     "metadata": {},
     "output_type": "execute_result"
    },
    {
     "data": {
      "image/png": "[encoded data removed]",
      "text/plain": [
       "<Figure size 432x288 with 1 Axes>"
      ]
     },
     "metadata": {},
     "output_type": "display_data"
    }
   ],
   "source": [
    "# checking for outliers after transformation using boxplot \n",
    "# using box plot to check the outliers \n",
    "sns.boxplot(x = 'duration', data = bankloan, showmeans = True)\n",
    "## GIVING TITLE TO PLOT\n",
    "plt.title('duration after log transformation')"
   ]
  },
  {
   "cell_type": "markdown",
   "id": "c42cf392",
   "metadata": {},
   "source": [
    "* 'Duration' variable having outliers"
   ]
  },
  {
   "cell_type": "code",
   "execution_count": 841,
   "id": "417a8cae",
   "metadata": {},
   "outputs": [
    {
     "data": {
      "text/plain": [
       "Text(0.5, 1.0, 'campaign after log transformation')"
      ]
     },
     "execution_count": 841,
     "metadata": {},
     "output_type": "execute_result"
    },
    {
     "data": {
      "image/png": "[encoded data removed]",
      "text/plain": [
       "<Figure size 432x288 with 1 Axes>"
      ]
     },
     "metadata": {},
     "output_type": "display_data"
    }
   ],
   "source": [
    "# checking for outliers after transformation using boxplot \n",
    "# using box plot to check the outliers \n",
    "sns.boxplot(x = 'campaign', data = bankloan, showmeans = True)\n",
    "## giving title to plot\n",
    "plt.title('campaign after log transformation')"
   ]
  },
  {
   "cell_type": "markdown",
   "id": "a04e7e90",
   "metadata": {},
   "source": [
    "* 'campaign' variable having outliers."
   ]
  },
  {
   "cell_type": "code",
   "execution_count": 842,
   "id": "417dca81",
   "metadata": {},
   "outputs": [
    {
     "data": {
      "text/plain": [
       "Text(0.5, 1.0, 'pdays after log transformation')"
      ]
     },
     "execution_count": 842,
     "metadata": {},
     "output_type": "execute_result"
    },
    {
     "data": {
      "image/png": "[encoded data removed]",
      "text/plain": [
       "<Figure size 432x288 with 1 Axes>"
      ]
     },
     "metadata": {},
     "output_type": "display_data"
    }
   ],
   "source": [
    "# checking for outliers after transformation using boxplot \n",
    "# using box plot to check the outliers \n",
    "sns.boxplot(x = 'pdays', data = bankloan, showmeans = True)\n",
    "## giving title to plot \n",
    "plt.title('pdays after log transformation')"
   ]
  },
  {
   "cell_type": "markdown",
   "id": "382916dc",
   "metadata": {},
   "source": [
    "* 'pdays' variable having few outliers. "
   ]
  },
  {
   "cell_type": "code",
   "execution_count": 843,
   "id": "89d670d4",
   "metadata": {},
   "outputs": [
    {
     "data": {
      "text/plain": [
       "Text(0.5, 1.0, 'previous after log transformation')"
      ]
     },
     "execution_count": 843,
     "metadata": {},
     "output_type": "execute_result"
    },
    {
     "data": {
      "image/png": "[encoded data removed]",
      "text/plain": [
       "<Figure size 432x288 with 1 Axes>"
      ]
     },
     "metadata": {},
     "output_type": "display_data"
    }
   ],
   "source": [
    "# checking for outliers after transformation using boxplot \n",
    "# using box plot to check the outliers \n",
    "sns.boxplot(x = 'previous', data = bankloan)\n",
    "## giving title to plot\n",
    "plt.title('previous after log transformation')"
   ]
  },
  {
   "cell_type": "markdown",
   "id": "567e7f15",
   "metadata": {},
   "source": [
    "* 'previous' has still more outliers. "
   ]
  },
  {
   "cell_type": "markdown",
   "id": "58150bdc",
   "metadata": {},
   "source": [
    "#### After Squareroot transformation also there are outliers. So we can treat them by using IQR method."
   ]
  },
  {
   "cell_type": "markdown",
   "id": "a12a862d",
   "metadata": {},
   "source": [
    "### IQR method for which variable is having still outliers :"
   ]
  },
  {
   "cell_type": "code",
   "execution_count": 844,
   "id": "2f702e07",
   "metadata": {},
   "outputs": [
    {
     "data": {
      "text/plain": [
       "<AxesSubplot:xlabel='age'>"
      ]
     },
     "execution_count": 844,
     "metadata": {},
     "output_type": "execute_result"
    },
    {
     "data": {
      "image/png": "[encoded data removed]",
      "text/plain": [
       "<Figure size 432x288 with 1 Axes>"
      ]
     },
     "metadata": {},
     "output_type": "display_data"
    }
   ],
   "source": [
    "# first finding IQR value\n",
    "# after that getting lower_whisker and Upper_whisker values\n",
    "# by using these treating the outliers\n",
    "# and againg using boxplot checking for outliers\n",
    "\n",
    "Q1 = np.percentile(bankloan['age'], 25, interpolation = \"midpoint\")\n",
    "Q2 = np.percentile(bankloan['age'], 50, interpolation = \"midpoint\")\n",
    "Q3 = np.percentile(bankloan['age'], 75, interpolation = \"midpoint\")\n",
    "IQR = Q3-Q1\n",
    "lower_whisker = Q1 - 1.5 * IQR\n",
    "upper_whisker = Q3 + 1.5 * IQR\n",
    "bankloan['age'] = np.where(bankloan['age']>upper_whisker, upper_whisker, bankloan['age'])\n",
    "sns.boxplot(bankloan['age'])"
   ]
  },
  {
   "cell_type": "markdown",
   "id": "c72e07c2",
   "metadata": {},
   "source": [
    "* Now, there are no outliers in \"age\" variable."
   ]
  },
  {
   "cell_type": "code",
   "execution_count": 845,
   "id": "c43e694a",
   "metadata": {},
   "outputs": [
    {
     "data": {
      "text/plain": [
       "<AxesSubplot:xlabel='balance'>"
      ]
     },
     "execution_count": 845,
     "metadata": {},
     "output_type": "execute_result"
    },
    {
     "data": {
      "image/png": "[encoded data removed]",
      "text/plain": [
       "<Figure size 432x288 with 1 Axes>"
      ]
     },
     "metadata": {},
     "output_type": "display_data"
    }
   ],
   "source": [
    "# first finding IQR value\n",
    "# after that getting lower_whisker and Upper_whisker values\n",
    "# by using these treating the outliers\n",
    "# and againg using boxplot checking for outliers\n",
    "\n",
    "Q1 = np.percentile(bankloan['balance'], 25, interpolation = \"midpoint\")\n",
    "Q2 = np.percentile(bankloan['balance'], 50, interpolation = \"midpoint\")\n",
    "Q3 = np.percentile(bankloan['balance'], 75, interpolation = \"midpoint\")\n",
    "IQR = Q3-Q1\n",
    "lower_whisker = Q1 - 1.5 * IQR\n",
    "upper_whisker = Q3 + 1.5 * IQR\n",
    "bankloan['balance'] = np.where(bankloan['balance']>upper_whisker, upper_whisker, bankloan['balance'])\n",
    "sns.boxplot(bankloan['balance'])"
   ]
  },
  {
   "cell_type": "markdown",
   "id": "e56d96ba",
   "metadata": {},
   "source": [
    "* \"balance\" variable has outliers."
   ]
  },
  {
   "cell_type": "code",
   "execution_count": 846,
   "id": "3233040b",
   "metadata": {},
   "outputs": [
    {
     "data": {
      "text/plain": [
       "<AxesSubplot:xlabel='duration'>"
      ]
     },
     "execution_count": 846,
     "metadata": {},
     "output_type": "execute_result"
    },
    {
     "data": {
      "image/png": "[encoded data removed]",
      "text/plain": [
       "<Figure size 432x288 with 1 Axes>"
      ]
     },
     "metadata": {},
     "output_type": "display_data"
    }
   ],
   "source": [
    "# first finding IQR value\n",
    "# after that getting lower_whisker and Upper_whisker values\n",
    "# by using these treating the outliers\n",
    "# and againg using boxplot checking for outliers\n",
    "\n",
    "Q1 = np.percentile(bankloan['duration'], 25, interpolation = \"midpoint\")\n",
    "Q2 = np.percentile(bankloan['duration'], 50, interpolation = \"midpoint\")\n",
    "Q3 = np.percentile(bankloan['duration'], 75, interpolation = \"midpoint\")\n",
    "IQR = Q3-Q1\n",
    "lower_whisker = Q1 - 1.5 * IQR\n",
    "upper_whisker = Q3 + 1.5 * IQR\n",
    "bankloan['duration'] = np.where(bankloan['duration']>upper_whisker, upper_whisker, bankloan['duration'])\n",
    "sns.boxplot(bankloan['duration'])"
   ]
  },
  {
   "cell_type": "markdown",
   "id": "8da88c72",
   "metadata": {},
   "source": [
    "* 'Duration' variable has no outliers."
   ]
  },
  {
   "cell_type": "code",
   "execution_count": 847,
   "id": "946ed406",
   "metadata": {},
   "outputs": [
    {
     "data": {
      "text/plain": [
       "<AxesSubplot:xlabel='campaign'>"
      ]
     },
     "execution_count": 847,
     "metadata": {},
     "output_type": "execute_result"
    },
    {
     "data": {
      "image/png": "[encoded data removed]",
      "text/plain": [
       "<Figure size 432x288 with 1 Axes>"
      ]
     },
     "metadata": {},
     "output_type": "display_data"
    }
   ],
   "source": [
    "# first finding IQR value\n",
    "# after that getting lower_whisker and Upper_whisker values\n",
    "# by using these treating the outliers\n",
    "# and againg using boxplot checking for outliers\n",
    "\n",
    "Q1 = np.percentile(bankloan['campaign'], 25, interpolation = \"midpoint\")\n",
    "Q2 = np.percentile(bankloan['campaign'], 50, interpolation = \"midpoint\")\n",
    "Q3 = np.percentile(bankloan['campaign'], 75, interpolation = \"midpoint\")\n",
    "IQR = Q3-Q1\n",
    "lower_whisker = Q1 - 1.5 * IQR\n",
    "upper_whisker = Q3 + 1.5 * IQR\n",
    "bankloan['campaign'] = np.where(bankloan['campaign']>upper_whisker, upper_whisker, bankloan['campaign'])\n",
    "sns.boxplot(bankloan['campaign'])"
   ]
  },
  {
   "cell_type": "markdown",
   "id": "9c820f64",
   "metadata": {},
   "source": [
    "* 'campaign' variable has no outliers."
   ]
  },
  {
   "cell_type": "markdown",
   "id": "b82535a9",
   "metadata": {},
   "source": [
    "* we still have some outliers in 'pdays' and 'previous' variables."
   ]
  },
  {
   "cell_type": "markdown",
   "id": "dceb272e",
   "metadata": {},
   "source": [
    "### Bivariate analysis :"
   ]
  },
  {
   "cell_type": "code",
   "execution_count": 849,
   "id": "f532146c",
   "metadata": {},
   "outputs": [
    {
     "data": {
      "text/plain": [
       "<AxesSubplot:xlabel='y', ylabel='age'>"
      ]
     },
     "execution_count": 849,
     "metadata": {},
     "output_type": "execute_result"
    },
    {
     "data": {
      "image/png": "[encoded data removed]",
      "text/plain": [
       "<Figure size 432x288 with 1 Axes>"
      ]
     },
     "metadata": {},
     "output_type": "display_data"
    }
   ],
   "source": [
    "## bivariate analysis with categorical and numerical variable\n",
    "## by using box plot checking retion to categorical and numerical variable\n",
    "sns.boxplot(x = 'y', y = 'age', data = bankloan) # plotting box between two variables"
   ]
  },
  {
   "cell_type": "code",
   "execution_count": 850,
   "id": "666ea1db",
   "metadata": {},
   "outputs": [
    {
     "data": {
      "text/plain": [
       "<AxesSubplot:xlabel='y', ylabel='balance'>"
      ]
     },
     "execution_count": 850,
     "metadata": {},
     "output_type": "execute_result"
    },
    {
     "data": {
      "image/png": "[encoded data removed]",
      "text/plain": [
       "<Figure size 432x288 with 1 Axes>"
      ]
     },
     "metadata": {},
     "output_type": "display_data"
    }
   ],
   "source": [
    "## bivariate analysis with categorical and numerical variable\n",
    "## by using box plot checking relation to categorical and numerical variable\n",
    "sns.boxplot(x = 'y', y = 'balance', data = bankloan) # plotting box between two variables"
   ]
  },
  {
   "cell_type": "code",
   "execution_count": 851,
   "id": "0f923add",
   "metadata": {},
   "outputs": [
    {
     "data": {
      "text/plain": [
       "<AxesSubplot:xlabel='y', ylabel='campaign'>"
      ]
     },
     "execution_count": 851,
     "metadata": {},
     "output_type": "execute_result"
    },
    {
     "data": {
      "image/png": "[encoded data removed]",
      "text/plain": [
       "<Figure size 432x288 with 1 Axes>"
      ]
     },
     "metadata": {},
     "output_type": "display_data"
    }
   ],
   "source": [
    "## bivariate analysis with categorical and numerical variable\n",
    "## by using box plot checking retion to categorical and numerical variable\n",
    "sns.boxplot(x = 'y', y = 'campaign', data = bankloan) # plotting box between two variables"
   ]
  },
  {
   "cell_type": "code",
   "execution_count": 852,
   "id": "965a7e4d",
   "metadata": {},
   "outputs": [
    {
     "data": {
      "text/plain": [
       "<AxesSubplot:xlabel='loan', ylabel='age'>"
      ]
     },
     "execution_count": 852,
     "metadata": {},
     "output_type": "execute_result"
    },
    {
     "data": {
      "image/png": "[encoded data removed]",
      "text/plain": [
       "<Figure size 432x288 with 1 Axes>"
      ]
     },
     "metadata": {},
     "output_type": "display_data"
    }
   ],
   "source": [
    "## bivariate analysis with categorical and numerical variable\n",
    "## by using box plot checking retion to categorical and numerical variable\n",
    "sns.boxplot(x = 'loan', y = 'age', data = bankloan)"
   ]
  },
  {
   "cell_type": "code",
   "execution_count": 853,
   "id": "6e035d25",
   "metadata": {},
   "outputs": [
    {
     "data": {
      "text/plain": [
       "<AxesSubplot:xlabel='loan', ylabel='campaign'>"
      ]
     },
     "execution_count": 853,
     "metadata": {},
     "output_type": "execute_result"
    },
    {
     "data": {
      "image/png": "[encoded data removed]",
      "text/plain": [
       "<Figure size 432x288 with 1 Axes>"
      ]
     },
     "metadata": {},
     "output_type": "display_data"
    }
   ],
   "source": [
    "## bivariate analysis with categorical and numerical variable\n",
    "## by using box plot checking retion to categorical and numerical variable\n",
    "sns.boxplot(x = 'loan', y = 'campaign', data = bankloan)"
   ]
  },
  {
   "cell_type": "markdown",
   "id": "24becf0c",
   "metadata": {},
   "source": [
    "#### Multivariate analysis :"
   ]
  },
  {
   "cell_type": "code",
   "execution_count": 854,
   "id": "88763d17",
   "metadata": {},
   "outputs": [
    {
     "data": {
      "image/png": "[encoded data removed]",
      "text/plain": [
       "<Figure size 432x288 with 2 Axes>"
      ]
     },
     "metadata": {},
     "output_type": "display_data"
    }
   ],
   "source": [
    "# spearman-rank correlation heatmap \n",
    "bankloan.corr(method = 'spearman')\n",
    "heatmap = sns.heatmap(bankloan.corr (method = 'spearman'). round(3), vmin = -1, vmax = 1, annot=True)\n",
    "## giving title to plot\n",
    "plt.title('spearman rank correlation')\n",
    "plt.show()"
   ]
  },
  {
   "cell_type": "code",
   "execution_count": 855,
   "id": "cf54dde6",
   "metadata": {},
   "outputs": [
    {
     "data": {
      "text/html": [
       "<div>\n",
       "<style scoped>\n",
       "    .dataframe tbody tr th:only-of-type {\n",
       "        vertical-align: middle;\n",
       "    }\n",
       "\n",
       "    .dataframe tbody tr th {\n",
       "        vertical-align: top;\n",
       "    }\n",
       "\n",
       "    .dataframe thead th {\n",
       "        text-align: right;\n",
       "    }\n",
       "</style>\n",
       "<table border=\"1\" class=\"dataframe\">\n",
       "  <thead>\n",
       "    <tr style=\"text-align: right;\">\n",
       "      <th></th>\n",
       "      <th>age</th>\n",
       "      <th>balance</th>\n",
       "      <th>day</th>\n",
       "      <th>duration</th>\n",
       "      <th>campaign</th>\n",
       "      <th>pdays</th>\n",
       "      <th>previous</th>\n",
       "    </tr>\n",
       "  </thead>\n",
       "  <tbody>\n",
       "    <tr>\n",
       "      <th>age</th>\n",
       "      <td>1.000000</td>\n",
       "      <td>0.107986</td>\n",
       "      <td>-0.009076</td>\n",
       "      <td>-0.014352</td>\n",
       "      <td>0.027013</td>\n",
       "      <td>-0.095399</td>\n",
       "      <td>-0.000063</td>\n",
       "    </tr>\n",
       "    <tr>\n",
       "      <th>balance</th>\n",
       "      <td>0.107986</td>\n",
       "      <td>1.000000</td>\n",
       "      <td>0.011478</td>\n",
       "      <td>0.039312</td>\n",
       "      <td>-0.026666</td>\n",
       "      <td>-0.114346</td>\n",
       "      <td>0.048509</td>\n",
       "    </tr>\n",
       "    <tr>\n",
       "      <th>day</th>\n",
       "      <td>-0.009076</td>\n",
       "      <td>0.011478</td>\n",
       "      <td>1.000000</td>\n",
       "      <td>-0.046895</td>\n",
       "      <td>0.157668</td>\n",
       "      <td>-0.089008</td>\n",
       "      <td>-0.079157</td>\n",
       "    </tr>\n",
       "    <tr>\n",
       "      <th>duration</th>\n",
       "      <td>-0.014352</td>\n",
       "      <td>0.039312</td>\n",
       "      <td>-0.046895</td>\n",
       "      <td>1.000000</td>\n",
       "      <td>-0.123555</td>\n",
       "      <td>-0.041321</td>\n",
       "      <td>0.015957</td>\n",
       "    </tr>\n",
       "    <tr>\n",
       "      <th>campaign</th>\n",
       "      <td>0.027013</td>\n",
       "      <td>-0.026666</td>\n",
       "      <td>0.157668</td>\n",
       "      <td>-0.123555</td>\n",
       "      <td>1.000000</td>\n",
       "      <td>0.060956</td>\n",
       "      <td>-0.080778</td>\n",
       "    </tr>\n",
       "    <tr>\n",
       "      <th>pdays</th>\n",
       "      <td>-0.095399</td>\n",
       "      <td>-0.114346</td>\n",
       "      <td>-0.089008</td>\n",
       "      <td>-0.041321</td>\n",
       "      <td>0.060956</td>\n",
       "      <td>1.000000</td>\n",
       "      <td>-0.059253</td>\n",
       "    </tr>\n",
       "    <tr>\n",
       "      <th>previous</th>\n",
       "      <td>-0.000063</td>\n",
       "      <td>0.048509</td>\n",
       "      <td>-0.079157</td>\n",
       "      <td>0.015957</td>\n",
       "      <td>-0.080778</td>\n",
       "      <td>-0.059253</td>\n",
       "      <td>1.000000</td>\n",
       "    </tr>\n",
       "  </tbody>\n",
       "</table>\n",
       "</div>"
      ],
      "text/plain": [
       "               age   balance       day  duration  campaign     pdays  previous\n",
       "age       1.000000  0.107986 -0.009076 -0.014352  0.027013 -0.095399 -0.000063\n",
       "balance   0.107986  1.000000  0.011478  0.039312 -0.026666 -0.114346  0.048509\n",
       "day      -0.009076  0.011478  1.000000 -0.046895  0.157668 -0.089008 -0.079157\n",
       "duration -0.014352  0.039312 -0.046895  1.000000 -0.123555 -0.041321  0.015957\n",
       "campaign  0.027013 -0.026666  0.157668 -0.123555  1.000000  0.060956 -0.080778\n",
       "pdays    -0.095399 -0.114346 -0.089008 -0.041321  0.060956  1.000000 -0.059253\n",
       "previous -0.000063  0.048509 -0.079157  0.015957 -0.080778 -0.059253  1.000000"
      ]
     },
     "execution_count": 855,
     "metadata": {},
     "output_type": "execute_result"
    }
   ],
   "source": [
    "bankloan.corr()"
   ]
  },
  {
   "cell_type": "code",
   "execution_count": 856,
   "id": "d05eadc7",
   "metadata": {},
   "outputs": [
    {
     "name": "stdout",
     "output_type": "stream",
     "text": [
      "blue-collar      10678\n",
      "management       10427\n",
      "technician        8365\n",
      "admin.            5649\n",
      "services          4571\n",
      "retired           2494\n",
      "self-employed     1762\n",
      "entrepreneur      1655\n",
      "unemployed        1431\n",
      "housemaid         1352\n",
      "student           1022\n",
      "unknown            326\n",
      "Name: job, dtype: int64\n",
      "married     30011\n",
      "single      13986\n",
      "divorced     5735\n",
      "Name: marital, dtype: int64\n",
      "secondary    25508\n",
      "tertiary     14651\n",
      "primary       7529\n",
      "unknown       2044\n",
      "Name: education, dtype: int64\n"
     ]
    },
    {
     "data": {
      "text/plain": [
       "<AxesSubplot:xlabel='education', ylabel='count'>"
      ]
     },
     "execution_count": 856,
     "metadata": {},
     "output_type": "execute_result"
    },
    {
     "data": {
      "image/png": "[encoded data removed]",
      "text/plain": [
       "<Figure size 1080x360 with 1 Axes>"
      ]
     },
     "metadata": {},
     "output_type": "display_data"
    },
    {
     "data": {
      "image/png": "[encoded data removed]",
      "text/plain": [
       "<Figure size 360x360 with 1 Axes>"
      ]
     },
     "metadata": {},
     "output_type": "display_data"
    },
    {
     "data": {
      "image/png": "[encoded data removed]",
      "text/plain": [
       "<Figure size 360x360 with 1 Axes>"
      ]
     },
     "metadata": {},
     "output_type": "display_data"
    }
   ],
   "source": [
    "## BY USING COUNTPLOT CHECKING THE COUNT AND DISTRIBUTION OF SOME CATEGORICAL VARIABLES\n",
    "## BY USING VALUECOUNTS FUNCTION GETTING THE COUNT OF THE VARIABLE\n",
    "print(bankloan['job'].value_counts())\n",
    "sns.set_style('whitegrid')\n",
    "plt.figure(figsize = (15,5))\n",
    "sns.countplot(x = 'job', data = bankloan, hue = 'y')\n",
    "\n",
    "## BY USING COUNTPLOT CHECKING THE COUNT AND DISTRIBUTION OF SOME CATEGORICAL VARIABLES\n",
    "## BY USING VALUECOUNTS FUNCTION GETTING THE COUNT OF THE VARIABLE\n",
    "print(bankloan['marital'].value_counts())\n",
    "sns.set_style('whitegrid')\n",
    "plt.figure(figsize = (5,5))\n",
    "sns.countplot(x ='marital', data = bankloan, hue = 'y')\n",
    "\n",
    "## BY USING COUNTPLOT CHECKING THE COUNT AND DISTRIBUTION OF SOME CATEGORICAL VARIABLES\n",
    "## BY USING VALUECOUNTS FUNCTION GETTING THE COUNT OF THE VARIABLE\n",
    "print(bankloan['education'].value_counts())\n",
    "sns.set_style('whitegrid')\n",
    "plt.figure(figsize = (5,5))\n",
    "sns.countplot(x ='education', data = bankloan, hue = 'y')"
   ]
  },
  {
   "cell_type": "markdown",
   "id": "5bc253b6",
   "metadata": {},
   "source": [
    "#### Final conlusion :\n",
    "\n",
    "* The people who are working at blue-collar, management and technicians are less intrested to subscribe for term deposit.\n",
    "\n",
    "* Married clients are not most subscribed to term diposit. \n",
    "* We have high count on married clients. So we can conclude that campaign should target the married people.\n",
    "\n",
    "* Secondary educated clients are not subscribed most to term deposit. \n",
    "* We have high count on secondary educated and tertiary clients than other. \n",
    "* So we can conclude that campaign should target the secodary and tertiary clients."
   ]
  }
 ],
 "metadata": {
  "kernelspec": {
   "display_name": "Python 3 (ipykernel)",
   "language": "python",
   "name": "python3"
  },
  "language_info": {
   "codemirror_mode": {
    "name": "ipython",
    "version": 3
   },
   "file_extension": ".py",
   "mimetype": "text/x-python",
   "name": "python",
   "nbconvert_exporter": "python",
   "pygments_lexer": "ipython3",
   "version": "3.9.7"
  }
 },
 "nbformat": 4,
 "nbformat_minor": 5
}
