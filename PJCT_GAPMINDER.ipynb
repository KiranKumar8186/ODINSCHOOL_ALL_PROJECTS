{
 "cells": [
  {
   "cell_type": "code",
   "execution_count": 1,
   "id": "06bb3ba5",
   "metadata": {},
   "outputs": [],
   "source": [
    "# importing the libraries\n",
    "\n",
    "import pandas as pd\n",
    "import numpy as np\n",
    "import seaborn as sns\n",
    "import matplotlib.pyplot as plt"
   ]
  },
  {
   "cell_type": "code",
   "execution_count": 2,
   "id": "fb8c8afd",
   "metadata": {},
   "outputs": [],
   "source": [
    "data_1 = pd.read_excel('Gapminder_key_1.xlsx')\n",
    "data_2 = pd.read_excel('Gapminder_key_2.xlsx')"
   ]
  },
  {
   "cell_type": "code",
   "execution_count": 3,
   "id": "cd0c0ef1",
   "metadata": {},
   "outputs": [
    {
     "data": {
      "text/html": [
       "<div>\n",
       "<style scoped>\n",
       "    .dataframe tbody tr th:only-of-type {\n",
       "        vertical-align: middle;\n",
       "    }\n",
       "\n",
       "    .dataframe tbody tr th {\n",
       "        vertical-align: top;\n",
       "    }\n",
       "\n",
       "    .dataframe thead th {\n",
       "        text-align: right;\n",
       "    }\n",
       "</style>\n",
       "<table border=\"1\" class=\"dataframe\">\n",
       "  <thead>\n",
       "    <tr style=\"text-align: right;\">\n",
       "      <th></th>\n",
       "      <th>country</th>\n",
       "      <th>year</th>\n",
       "      <th>population</th>\n",
       "      <th>continent</th>\n",
       "    </tr>\n",
       "  </thead>\n",
       "  <tbody>\n",
       "    <tr>\n",
       "      <th>0</th>\n",
       "      <td>Afghanistan</td>\n",
       "      <td>1952</td>\n",
       "      <td>8425333</td>\n",
       "      <td>Asia</td>\n",
       "    </tr>\n",
       "    <tr>\n",
       "      <th>1</th>\n",
       "      <td>Afghanistan</td>\n",
       "      <td>1957</td>\n",
       "      <td>9240934</td>\n",
       "      <td>Asia</td>\n",
       "    </tr>\n",
       "    <tr>\n",
       "      <th>2</th>\n",
       "      <td>Afghanistan</td>\n",
       "      <td>1962</td>\n",
       "      <td>10267083</td>\n",
       "      <td>Asia</td>\n",
       "    </tr>\n",
       "    <tr>\n",
       "      <th>3</th>\n",
       "      <td>Afghanistan</td>\n",
       "      <td>1967</td>\n",
       "      <td>11537966</td>\n",
       "      <td>Asia</td>\n",
       "    </tr>\n",
       "    <tr>\n",
       "      <th>4</th>\n",
       "      <td>Afghanistan</td>\n",
       "      <td>1972</td>\n",
       "      <td>13079460</td>\n",
       "      <td>Asia</td>\n",
       "    </tr>\n",
       "    <tr>\n",
       "      <th>...</th>\n",
       "      <td>...</td>\n",
       "      <td>...</td>\n",
       "      <td>...</td>\n",
       "      <td>...</td>\n",
       "    </tr>\n",
       "    <tr>\n",
       "      <th>1699</th>\n",
       "      <td>Zimbabwe</td>\n",
       "      <td>1987</td>\n",
       "      <td>9216418</td>\n",
       "      <td>Africa</td>\n",
       "    </tr>\n",
       "    <tr>\n",
       "      <th>1700</th>\n",
       "      <td>Zimbabwe</td>\n",
       "      <td>1992</td>\n",
       "      <td>10704340</td>\n",
       "      <td>Africa</td>\n",
       "    </tr>\n",
       "    <tr>\n",
       "      <th>1701</th>\n",
       "      <td>Zimbabwe</td>\n",
       "      <td>1997</td>\n",
       "      <td>11404948</td>\n",
       "      <td>Africa</td>\n",
       "    </tr>\n",
       "    <tr>\n",
       "      <th>1702</th>\n",
       "      <td>Zimbabwe</td>\n",
       "      <td>2002</td>\n",
       "      <td>11926563</td>\n",
       "      <td>Africa</td>\n",
       "    </tr>\n",
       "    <tr>\n",
       "      <th>1703</th>\n",
       "      <td>Zimbabwe</td>\n",
       "      <td>2007</td>\n",
       "      <td>12311143</td>\n",
       "      <td>Africa</td>\n",
       "    </tr>\n",
       "  </tbody>\n",
       "</table>\n",
       "<p>1704 rows × 4 columns</p>\n",
       "</div>"
      ],
      "text/plain": [
       "          country  year  population continent\n",
       "0     Afghanistan  1952     8425333      Asia\n",
       "1     Afghanistan  1957     9240934      Asia\n",
       "2     Afghanistan  1962    10267083      Asia\n",
       "3     Afghanistan  1967    11537966      Asia\n",
       "4     Afghanistan  1972    13079460      Asia\n",
       "...           ...   ...         ...       ...\n",
       "1699     Zimbabwe  1987     9216418    Africa\n",
       "1700     Zimbabwe  1992    10704340    Africa\n",
       "1701     Zimbabwe  1997    11404948    Africa\n",
       "1702     Zimbabwe  2002    11926563    Africa\n",
       "1703     Zimbabwe  2007    12311143    Africa\n",
       "\n",
       "[1704 rows x 4 columns]"
      ]
     },
     "execution_count": 3,
     "metadata": {},
     "output_type": "execute_result"
    }
   ],
   "source": [
    "data_1"
   ]
  },
  {
   "cell_type": "code",
   "execution_count": 4,
   "id": "630c87b9",
   "metadata": {},
   "outputs": [
    {
     "data": {
      "text/html": [
       "<div>\n",
       "<style scoped>\n",
       "    .dataframe tbody tr th:only-of-type {\n",
       "        vertical-align: middle;\n",
       "    }\n",
       "\n",
       "    .dataframe tbody tr th {\n",
       "        vertical-align: top;\n",
       "    }\n",
       "\n",
       "    .dataframe thead th {\n",
       "        text-align: right;\n",
       "    }\n",
       "</style>\n",
       "<table border=\"1\" class=\"dataframe\">\n",
       "  <thead>\n",
       "    <tr style=\"text-align: right;\">\n",
       "      <th></th>\n",
       "      <th>country</th>\n",
       "      <th>year</th>\n",
       "      <th>life_exp</th>\n",
       "      <th>gdp_cap</th>\n",
       "    </tr>\n",
       "  </thead>\n",
       "  <tbody>\n",
       "    <tr>\n",
       "      <th>0</th>\n",
       "      <td>Afghanistan</td>\n",
       "      <td>1952</td>\n",
       "      <td>28.801</td>\n",
       "      <td>779.445314</td>\n",
       "    </tr>\n",
       "    <tr>\n",
       "      <th>1</th>\n",
       "      <td>Afghanistan</td>\n",
       "      <td>1957</td>\n",
       "      <td>30.332</td>\n",
       "      <td>820.853030</td>\n",
       "    </tr>\n",
       "    <tr>\n",
       "      <th>2</th>\n",
       "      <td>Afghanistan</td>\n",
       "      <td>1962</td>\n",
       "      <td>31.997</td>\n",
       "      <td>853.100710</td>\n",
       "    </tr>\n",
       "    <tr>\n",
       "      <th>3</th>\n",
       "      <td>Afghanistan</td>\n",
       "      <td>1967</td>\n",
       "      <td>34.020</td>\n",
       "      <td>836.197138</td>\n",
       "    </tr>\n",
       "    <tr>\n",
       "      <th>4</th>\n",
       "      <td>Afghanistan</td>\n",
       "      <td>1972</td>\n",
       "      <td>36.088</td>\n",
       "      <td>739.981106</td>\n",
       "    </tr>\n",
       "    <tr>\n",
       "      <th>...</th>\n",
       "      <td>...</td>\n",
       "      <td>...</td>\n",
       "      <td>...</td>\n",
       "      <td>...</td>\n",
       "    </tr>\n",
       "    <tr>\n",
       "      <th>1699</th>\n",
       "      <td>Zimbabwe</td>\n",
       "      <td>1987</td>\n",
       "      <td>62.351</td>\n",
       "      <td>706.157306</td>\n",
       "    </tr>\n",
       "    <tr>\n",
       "      <th>1700</th>\n",
       "      <td>Zimbabwe</td>\n",
       "      <td>1992</td>\n",
       "      <td>60.377</td>\n",
       "      <td>693.420786</td>\n",
       "    </tr>\n",
       "    <tr>\n",
       "      <th>1701</th>\n",
       "      <td>Zimbabwe</td>\n",
       "      <td>1997</td>\n",
       "      <td>46.809</td>\n",
       "      <td>792.449960</td>\n",
       "    </tr>\n",
       "    <tr>\n",
       "      <th>1702</th>\n",
       "      <td>Zimbabwe</td>\n",
       "      <td>2002</td>\n",
       "      <td>39.989</td>\n",
       "      <td>672.038623</td>\n",
       "    </tr>\n",
       "    <tr>\n",
       "      <th>1703</th>\n",
       "      <td>Zimbabwe</td>\n",
       "      <td>2007</td>\n",
       "      <td>43.487</td>\n",
       "      <td>469.709298</td>\n",
       "    </tr>\n",
       "  </tbody>\n",
       "</table>\n",
       "<p>1704 rows × 4 columns</p>\n",
       "</div>"
      ],
      "text/plain": [
       "          country  year  life_exp     gdp_cap\n",
       "0     Afghanistan  1952    28.801  779.445314\n",
       "1     Afghanistan  1957    30.332  820.853030\n",
       "2     Afghanistan  1962    31.997  853.100710\n",
       "3     Afghanistan  1967    34.020  836.197138\n",
       "4     Afghanistan  1972    36.088  739.981106\n",
       "...           ...   ...       ...         ...\n",
       "1699     Zimbabwe  1987    62.351  706.157306\n",
       "1700     Zimbabwe  1992    60.377  693.420786\n",
       "1701     Zimbabwe  1997    46.809  792.449960\n",
       "1702     Zimbabwe  2002    39.989  672.038623\n",
       "1703     Zimbabwe  2007    43.487  469.709298\n",
       "\n",
       "[1704 rows x 4 columns]"
      ]
     },
     "execution_count": 4,
     "metadata": {},
     "output_type": "execute_result"
    }
   ],
   "source": [
    "data_2"
   ]
  },
  {
   "cell_type": "code",
   "execution_count": 5,
   "id": "1b880451",
   "metadata": {},
   "outputs": [
    {
     "name": "stdout",
     "output_type": "stream",
     "text": [
      "<class 'pandas.core.frame.DataFrame'>\n",
      "RangeIndex: 1704 entries, 0 to 1703\n",
      "Data columns (total 4 columns):\n",
      " #   Column      Non-Null Count  Dtype \n",
      "---  ------      --------------  ----- \n",
      " 0   country     1704 non-null   object\n",
      " 1   year        1704 non-null   int64 \n",
      " 2   population  1704 non-null   int64 \n",
      " 3   continent   1704 non-null   object\n",
      "dtypes: int64(2), object(2)\n",
      "memory usage: 53.4+ KB\n",
      "<class 'pandas.core.frame.DataFrame'>\n",
      "RangeIndex: 1704 entries, 0 to 1703\n",
      "Data columns (total 4 columns):\n",
      " #   Column    Non-Null Count  Dtype  \n",
      "---  ------    --------------  -----  \n",
      " 0   country   1704 non-null   object \n",
      " 1   year      1704 non-null   int64  \n",
      " 2   life_exp  1704 non-null   float64\n",
      " 3   gdp_cap   1704 non-null   float64\n",
      "dtypes: float64(2), int64(1), object(1)\n",
      "memory usage: 53.4+ KB\n"
     ]
    }
   ],
   "source": [
    "data_1.info()\n",
    "data_2.info()"
   ]
  },
  {
   "cell_type": "code",
   "execution_count": 6,
   "id": "77d354bd",
   "metadata": {},
   "outputs": [
    {
     "data": {
      "text/html": [
       "<div>\n",
       "<style scoped>\n",
       "    .dataframe tbody tr th:only-of-type {\n",
       "        vertical-align: middle;\n",
       "    }\n",
       "\n",
       "    .dataframe tbody tr th {\n",
       "        vertical-align: top;\n",
       "    }\n",
       "\n",
       "    .dataframe thead th {\n",
       "        text-align: right;\n",
       "    }\n",
       "</style>\n",
       "<table border=\"1\" class=\"dataframe\">\n",
       "  <thead>\n",
       "    <tr style=\"text-align: right;\">\n",
       "      <th></th>\n",
       "      <th>country</th>\n",
       "      <th>year</th>\n",
       "      <th>population</th>\n",
       "      <th>continent</th>\n",
       "    </tr>\n",
       "  </thead>\n",
       "  <tbody>\n",
       "    <tr>\n",
       "      <th>0</th>\n",
       "      <td>Afghanistan</td>\n",
       "      <td>1952</td>\n",
       "      <td>8425333</td>\n",
       "      <td>Asia</td>\n",
       "    </tr>\n",
       "    <tr>\n",
       "      <th>1</th>\n",
       "      <td>Afghanistan</td>\n",
       "      <td>1957</td>\n",
       "      <td>9240934</td>\n",
       "      <td>Asia</td>\n",
       "    </tr>\n",
       "    <tr>\n",
       "      <th>2</th>\n",
       "      <td>Afghanistan</td>\n",
       "      <td>1962</td>\n",
       "      <td>10267083</td>\n",
       "      <td>Asia</td>\n",
       "    </tr>\n",
       "    <tr>\n",
       "      <th>3</th>\n",
       "      <td>Afghanistan</td>\n",
       "      <td>1967</td>\n",
       "      <td>11537966</td>\n",
       "      <td>Asia</td>\n",
       "    </tr>\n",
       "    <tr>\n",
       "      <th>4</th>\n",
       "      <td>Afghanistan</td>\n",
       "      <td>1972</td>\n",
       "      <td>13079460</td>\n",
       "      <td>Asia</td>\n",
       "    </tr>\n",
       "  </tbody>\n",
       "</table>\n",
       "</div>"
      ],
      "text/plain": [
       "       country  year  population continent\n",
       "0  Afghanistan  1952     8425333      Asia\n",
       "1  Afghanistan  1957     9240934      Asia\n",
       "2  Afghanistan  1962    10267083      Asia\n",
       "3  Afghanistan  1967    11537966      Asia\n",
       "4  Afghanistan  1972    13079460      Asia"
      ]
     },
     "execution_count": 6,
     "metadata": {},
     "output_type": "execute_result"
    }
   ],
   "source": [
    "data_1.head()"
   ]
  },
  {
   "cell_type": "code",
   "execution_count": 7,
   "id": "d2e3f7ba",
   "metadata": {},
   "outputs": [
    {
     "data": {
      "text/html": [
       "<div>\n",
       "<style scoped>\n",
       "    .dataframe tbody tr th:only-of-type {\n",
       "        vertical-align: middle;\n",
       "    }\n",
       "\n",
       "    .dataframe tbody tr th {\n",
       "        vertical-align: top;\n",
       "    }\n",
       "\n",
       "    .dataframe thead th {\n",
       "        text-align: right;\n",
       "    }\n",
       "</style>\n",
       "<table border=\"1\" class=\"dataframe\">\n",
       "  <thead>\n",
       "    <tr style=\"text-align: right;\">\n",
       "      <th></th>\n",
       "      <th>country</th>\n",
       "      <th>year</th>\n",
       "      <th>life_exp</th>\n",
       "      <th>gdp_cap</th>\n",
       "    </tr>\n",
       "  </thead>\n",
       "  <tbody>\n",
       "    <tr>\n",
       "      <th>1699</th>\n",
       "      <td>Zimbabwe</td>\n",
       "      <td>1987</td>\n",
       "      <td>62.351</td>\n",
       "      <td>706.157306</td>\n",
       "    </tr>\n",
       "    <tr>\n",
       "      <th>1700</th>\n",
       "      <td>Zimbabwe</td>\n",
       "      <td>1992</td>\n",
       "      <td>60.377</td>\n",
       "      <td>693.420786</td>\n",
       "    </tr>\n",
       "    <tr>\n",
       "      <th>1701</th>\n",
       "      <td>Zimbabwe</td>\n",
       "      <td>1997</td>\n",
       "      <td>46.809</td>\n",
       "      <td>792.449960</td>\n",
       "    </tr>\n",
       "    <tr>\n",
       "      <th>1702</th>\n",
       "      <td>Zimbabwe</td>\n",
       "      <td>2002</td>\n",
       "      <td>39.989</td>\n",
       "      <td>672.038623</td>\n",
       "    </tr>\n",
       "    <tr>\n",
       "      <th>1703</th>\n",
       "      <td>Zimbabwe</td>\n",
       "      <td>2007</td>\n",
       "      <td>43.487</td>\n",
       "      <td>469.709298</td>\n",
       "    </tr>\n",
       "  </tbody>\n",
       "</table>\n",
       "</div>"
      ],
      "text/plain": [
       "       country  year  life_exp     gdp_cap\n",
       "1699  Zimbabwe  1987    62.351  706.157306\n",
       "1700  Zimbabwe  1992    60.377  693.420786\n",
       "1701  Zimbabwe  1997    46.809  792.449960\n",
       "1702  Zimbabwe  2002    39.989  672.038623\n",
       "1703  Zimbabwe  2007    43.487  469.709298"
      ]
     },
     "execution_count": 7,
     "metadata": {},
     "output_type": "execute_result"
    }
   ],
   "source": [
    "data_2.tail()"
   ]
  },
  {
   "cell_type": "code",
   "execution_count": 8,
   "id": "a85a5140",
   "metadata": {
    "scrolled": true
   },
   "outputs": [
    {
     "data": {
      "text/html": [
       "<div>\n",
       "<style scoped>\n",
       "    .dataframe tbody tr th:only-of-type {\n",
       "        vertical-align: middle;\n",
       "    }\n",
       "\n",
       "    .dataframe tbody tr th {\n",
       "        vertical-align: top;\n",
       "    }\n",
       "\n",
       "    .dataframe thead th {\n",
       "        text-align: right;\n",
       "    }\n",
       "</style>\n",
       "<table border=\"1\" class=\"dataframe\">\n",
       "  <thead>\n",
       "    <tr style=\"text-align: right;\">\n",
       "      <th></th>\n",
       "      <th>country</th>\n",
       "      <th>year</th>\n",
       "      <th>population</th>\n",
       "      <th>continent</th>\n",
       "      <th>life_exp</th>\n",
       "      <th>gdp_cap</th>\n",
       "    </tr>\n",
       "  </thead>\n",
       "  <tbody>\n",
       "    <tr>\n",
       "      <th>0</th>\n",
       "      <td>Afghanistan</td>\n",
       "      <td>1952</td>\n",
       "      <td>8425333</td>\n",
       "      <td>Asia</td>\n",
       "      <td>28.801</td>\n",
       "      <td>779.445314</td>\n",
       "    </tr>\n",
       "    <tr>\n",
       "      <th>1</th>\n",
       "      <td>Afghanistan</td>\n",
       "      <td>1957</td>\n",
       "      <td>9240934</td>\n",
       "      <td>Asia</td>\n",
       "      <td>30.332</td>\n",
       "      <td>820.853030</td>\n",
       "    </tr>\n",
       "    <tr>\n",
       "      <th>2</th>\n",
       "      <td>Afghanistan</td>\n",
       "      <td>1962</td>\n",
       "      <td>10267083</td>\n",
       "      <td>Asia</td>\n",
       "      <td>31.997</td>\n",
       "      <td>853.100710</td>\n",
       "    </tr>\n",
       "    <tr>\n",
       "      <th>3</th>\n",
       "      <td>Afghanistan</td>\n",
       "      <td>1967</td>\n",
       "      <td>11537966</td>\n",
       "      <td>Asia</td>\n",
       "      <td>34.020</td>\n",
       "      <td>836.197138</td>\n",
       "    </tr>\n",
       "    <tr>\n",
       "      <th>4</th>\n",
       "      <td>Afghanistan</td>\n",
       "      <td>1972</td>\n",
       "      <td>13079460</td>\n",
       "      <td>Asia</td>\n",
       "      <td>36.088</td>\n",
       "      <td>739.981106</td>\n",
       "    </tr>\n",
       "    <tr>\n",
       "      <th>...</th>\n",
       "      <td>...</td>\n",
       "      <td>...</td>\n",
       "      <td>...</td>\n",
       "      <td>...</td>\n",
       "      <td>...</td>\n",
       "      <td>...</td>\n",
       "    </tr>\n",
       "    <tr>\n",
       "      <th>1699</th>\n",
       "      <td>Zimbabwe</td>\n",
       "      <td>1987</td>\n",
       "      <td>9216418</td>\n",
       "      <td>Africa</td>\n",
       "      <td>62.351</td>\n",
       "      <td>706.157306</td>\n",
       "    </tr>\n",
       "    <tr>\n",
       "      <th>1700</th>\n",
       "      <td>Zimbabwe</td>\n",
       "      <td>1992</td>\n",
       "      <td>10704340</td>\n",
       "      <td>Africa</td>\n",
       "      <td>60.377</td>\n",
       "      <td>693.420786</td>\n",
       "    </tr>\n",
       "    <tr>\n",
       "      <th>1701</th>\n",
       "      <td>Zimbabwe</td>\n",
       "      <td>1997</td>\n",
       "      <td>11404948</td>\n",
       "      <td>Africa</td>\n",
       "      <td>46.809</td>\n",
       "      <td>792.449960</td>\n",
       "    </tr>\n",
       "    <tr>\n",
       "      <th>1702</th>\n",
       "      <td>Zimbabwe</td>\n",
       "      <td>2002</td>\n",
       "      <td>11926563</td>\n",
       "      <td>Africa</td>\n",
       "      <td>39.989</td>\n",
       "      <td>672.038623</td>\n",
       "    </tr>\n",
       "    <tr>\n",
       "      <th>1703</th>\n",
       "      <td>Zimbabwe</td>\n",
       "      <td>2007</td>\n",
       "      <td>12311143</td>\n",
       "      <td>Africa</td>\n",
       "      <td>43.487</td>\n",
       "      <td>469.709298</td>\n",
       "    </tr>\n",
       "  </tbody>\n",
       "</table>\n",
       "<p>1704 rows × 6 columns</p>\n",
       "</div>"
      ],
      "text/plain": [
       "          country  year  population continent  life_exp     gdp_cap\n",
       "0     Afghanistan  1952     8425333      Asia    28.801  779.445314\n",
       "1     Afghanistan  1957     9240934      Asia    30.332  820.853030\n",
       "2     Afghanistan  1962    10267083      Asia    31.997  853.100710\n",
       "3     Afghanistan  1967    11537966      Asia    34.020  836.197138\n",
       "4     Afghanistan  1972    13079460      Asia    36.088  739.981106\n",
       "...           ...   ...         ...       ...       ...         ...\n",
       "1699     Zimbabwe  1987     9216418    Africa    62.351  706.157306\n",
       "1700     Zimbabwe  1992    10704340    Africa    60.377  693.420786\n",
       "1701     Zimbabwe  1997    11404948    Africa    46.809  792.449960\n",
       "1702     Zimbabwe  2002    11926563    Africa    39.989  672.038623\n",
       "1703     Zimbabwe  2007    12311143    Africa    43.487  469.709298\n",
       "\n",
       "[1704 rows x 6 columns]"
      ]
     },
     "execution_count": 8,
     "metadata": {},
     "output_type": "execute_result"
    }
   ],
   "source": [
    "New_data = data_1.merge(data_2, on = ['country', 'year'], how='outer')\n",
    "New_data"
   ]
  },
  {
   "cell_type": "code",
   "execution_count": 9,
   "id": "48a38040",
   "metadata": {},
   "outputs": [
    {
     "data": {
      "text/plain": [
       "(1704, 4)"
      ]
     },
     "execution_count": 9,
     "metadata": {},
     "output_type": "execute_result"
    }
   ],
   "source": [
    "np.shape(data_1)"
   ]
  },
  {
   "cell_type": "code",
   "execution_count": 10,
   "id": "3b19f2bc",
   "metadata": {},
   "outputs": [
    {
     "data": {
      "text/plain": [
       "(1704, 4)"
      ]
     },
     "execution_count": 10,
     "metadata": {},
     "output_type": "execute_result"
    }
   ],
   "source": [
    "np.shape(data_2)"
   ]
  },
  {
   "cell_type": "code",
   "execution_count": 11,
   "id": "fff46c16",
   "metadata": {},
   "outputs": [
    {
     "data": {
      "text/plain": [
       "(1704, 6)"
      ]
     },
     "execution_count": 11,
     "metadata": {},
     "output_type": "execute_result"
    }
   ],
   "source": [
    "np.shape(New_data)"
   ]
  },
  {
   "cell_type": "code",
   "execution_count": 12,
   "id": "1420512e",
   "metadata": {},
   "outputs": [
    {
     "data": {
      "text/html": [
       "<div>\n",
       "<style scoped>\n",
       "    .dataframe tbody tr th:only-of-type {\n",
       "        vertical-align: middle;\n",
       "    }\n",
       "\n",
       "    .dataframe tbody tr th {\n",
       "        vertical-align: top;\n",
       "    }\n",
       "\n",
       "    .dataframe thead th {\n",
       "        text-align: right;\n",
       "    }\n",
       "</style>\n",
       "<table border=\"1\" class=\"dataframe\">\n",
       "  <thead>\n",
       "    <tr style=\"text-align: right;\">\n",
       "      <th></th>\n",
       "      <th>year</th>\n",
       "      <th>population</th>\n",
       "      <th>life_exp</th>\n",
       "      <th>gdp_cap</th>\n",
       "    </tr>\n",
       "  </thead>\n",
       "  <tbody>\n",
       "    <tr>\n",
       "      <th>count</th>\n",
       "      <td>1704.00000</td>\n",
       "      <td>1.704000e+03</td>\n",
       "      <td>1704.000000</td>\n",
       "      <td>1704.000000</td>\n",
       "    </tr>\n",
       "    <tr>\n",
       "      <th>mean</th>\n",
       "      <td>1979.50000</td>\n",
       "      <td>2.960121e+07</td>\n",
       "      <td>59.474439</td>\n",
       "      <td>7215.327081</td>\n",
       "    </tr>\n",
       "    <tr>\n",
       "      <th>std</th>\n",
       "      <td>17.26533</td>\n",
       "      <td>1.061579e+08</td>\n",
       "      <td>12.917107</td>\n",
       "      <td>9857.454543</td>\n",
       "    </tr>\n",
       "    <tr>\n",
       "      <th>min</th>\n",
       "      <td>1952.00000</td>\n",
       "      <td>6.001100e+04</td>\n",
       "      <td>23.599000</td>\n",
       "      <td>241.165876</td>\n",
       "    </tr>\n",
       "    <tr>\n",
       "      <th>25%</th>\n",
       "      <td>1965.75000</td>\n",
       "      <td>2.793664e+06</td>\n",
       "      <td>48.198000</td>\n",
       "      <td>1202.060309</td>\n",
       "    </tr>\n",
       "    <tr>\n",
       "      <th>50%</th>\n",
       "      <td>1979.50000</td>\n",
       "      <td>7.023596e+06</td>\n",
       "      <td>60.712500</td>\n",
       "      <td>3531.846988</td>\n",
       "    </tr>\n",
       "    <tr>\n",
       "      <th>75%</th>\n",
       "      <td>1993.25000</td>\n",
       "      <td>1.958522e+07</td>\n",
       "      <td>70.845500</td>\n",
       "      <td>9325.462346</td>\n",
       "    </tr>\n",
       "    <tr>\n",
       "      <th>max</th>\n",
       "      <td>2007.00000</td>\n",
       "      <td>1.318683e+09</td>\n",
       "      <td>82.603000</td>\n",
       "      <td>113523.132900</td>\n",
       "    </tr>\n",
       "  </tbody>\n",
       "</table>\n",
       "</div>"
      ],
      "text/plain": [
       "             year    population     life_exp        gdp_cap\n",
       "count  1704.00000  1.704000e+03  1704.000000    1704.000000\n",
       "mean   1979.50000  2.960121e+07    59.474439    7215.327081\n",
       "std      17.26533  1.061579e+08    12.917107    9857.454543\n",
       "min    1952.00000  6.001100e+04    23.599000     241.165876\n",
       "25%    1965.75000  2.793664e+06    48.198000    1202.060309\n",
       "50%    1979.50000  7.023596e+06    60.712500    3531.846988\n",
       "75%    1993.25000  1.958522e+07    70.845500    9325.462346\n",
       "max    2007.00000  1.318683e+09    82.603000  113523.132900"
      ]
     },
     "execution_count": 12,
     "metadata": {},
     "output_type": "execute_result"
    }
   ],
   "source": [
    "New_data.describe()"
   ]
  },
  {
   "cell_type": "markdown",
   "id": "2e099fca",
   "metadata": {},
   "source": [
    "## Q1: Country and continent are string data type. Please convert them into categorical data type using programming constructs.\n"
   ]
  },
  {
   "cell_type": "code",
   "execution_count": 13,
   "id": "904fb6e9",
   "metadata": {},
   "outputs": [
    {
     "name": "stdout",
     "output_type": "stream",
     "text": [
      "<class 'pandas.core.frame.DataFrame'>\n",
      "Int64Index: 1704 entries, 0 to 1703\n",
      "Data columns (total 6 columns):\n",
      " #   Column      Non-Null Count  Dtype   \n",
      "---  ------      --------------  -----   \n",
      " 0   country     1704 non-null   category\n",
      " 1   year        1704 non-null   int64   \n",
      " 2   population  1704 non-null   int64   \n",
      " 3   continent   1704 non-null   category\n",
      " 4   life_exp    1704 non-null   float64 \n",
      " 5   gdp_cap     1704 non-null   float64 \n",
      "dtypes: category(2), float64(2), int64(2)\n",
      "memory usage: 76.9 KB\n"
     ]
    }
   ],
   "source": [
    "New_data = New_data.astype({'country':'category', 'continent':'category'})\n",
    "New_data.info()"
   ]
  },
  {
   "cell_type": "markdown",
   "id": "626131c0",
   "metadata": {},
   "source": [
    "## Q2: Count the number of countries in this dataset.\n"
   ]
  },
  {
   "cell_type": "code",
   "execution_count": 14,
   "id": "4490bb21",
   "metadata": {},
   "outputs": [
    {
     "data": {
      "text/plain": [
       "<bound method IndexOpsMixin.nunique of 0       Afghanistan\n",
       "1       Afghanistan\n",
       "2       Afghanistan\n",
       "3       Afghanistan\n",
       "4       Afghanistan\n",
       "           ...     \n",
       "1699       Zimbabwe\n",
       "1700       Zimbabwe\n",
       "1701       Zimbabwe\n",
       "1702       Zimbabwe\n",
       "1703       Zimbabwe\n",
       "Name: country, Length: 1704, dtype: category\n",
       "Categories (142, object): ['Afghanistan', 'Albania', 'Algeria', 'Angola', ..., 'West Bank and Gaza', 'Yemen, Rep.', 'Zambia', 'Zimbabwe']>"
      ]
     },
     "execution_count": 14,
     "metadata": {},
     "output_type": "execute_result"
    }
   ],
   "source": [
    "New_data[\"country\"].nunique"
   ]
  },
  {
   "cell_type": "markdown",
   "id": "3de7676b",
   "metadata": {},
   "source": [
    "## Q3: Which country had the lowest life expectancy in 2007?\n"
   ]
  },
  {
   "cell_type": "code",
   "execution_count": 15,
   "id": "3bfd7e64",
   "metadata": {},
   "outputs": [
    {
     "data": {
      "text/html": [
       "<div>\n",
       "<style scoped>\n",
       "    .dataframe tbody tr th:only-of-type {\n",
       "        vertical-align: middle;\n",
       "    }\n",
       "\n",
       "    .dataframe tbody tr th {\n",
       "        vertical-align: top;\n",
       "    }\n",
       "\n",
       "    .dataframe thead th {\n",
       "        text-align: right;\n",
       "    }\n",
       "</style>\n",
       "<table border=\"1\" class=\"dataframe\">\n",
       "  <thead>\n",
       "    <tr style=\"text-align: right;\">\n",
       "      <th></th>\n",
       "      <th>country</th>\n",
       "      <th>year</th>\n",
       "      <th>population</th>\n",
       "      <th>continent</th>\n",
       "      <th>life_exp</th>\n",
       "      <th>gdp_cap</th>\n",
       "    </tr>\n",
       "  </thead>\n",
       "  <tbody>\n",
       "    <tr>\n",
       "      <th>1463</th>\n",
       "      <td>Swaziland</td>\n",
       "      <td>2007</td>\n",
       "      <td>1133066</td>\n",
       "      <td>Africa</td>\n",
       "      <td>39.613</td>\n",
       "      <td>4513.480643</td>\n",
       "    </tr>\n",
       "  </tbody>\n",
       "</table>\n",
       "</div>"
      ],
      "text/plain": [
       "        country  year  population continent  life_exp      gdp_cap\n",
       "1463  Swaziland  2007     1133066    Africa    39.613  4513.480643"
      ]
     },
     "execution_count": 15,
     "metadata": {},
     "output_type": "execute_result"
    }
   ],
   "source": [
    "New_data_2007 = New_data[New_data[\"year\"]==2007]\n",
    "New_data_2007[New_data_2007.life_exp == New_data_2007.life_exp.min()]"
   ]
  },
  {
   "cell_type": "markdown",
   "id": "d1fc0f00",
   "metadata": {},
   "source": [
    "## Q4: Which country had the highest GDP per capita in 2007?\n"
   ]
  },
  {
   "cell_type": "code",
   "execution_count": 16,
   "id": "9956ac22",
   "metadata": {},
   "outputs": [
    {
     "data": {
      "text/html": [
       "<div>\n",
       "<style scoped>\n",
       "    .dataframe tbody tr th:only-of-type {\n",
       "        vertical-align: middle;\n",
       "    }\n",
       "\n",
       "    .dataframe tbody tr th {\n",
       "        vertical-align: top;\n",
       "    }\n",
       "\n",
       "    .dataframe thead th {\n",
       "        text-align: right;\n",
       "    }\n",
       "</style>\n",
       "<table border=\"1\" class=\"dataframe\">\n",
       "  <thead>\n",
       "    <tr style=\"text-align: right;\">\n",
       "      <th></th>\n",
       "      <th>country</th>\n",
       "      <th>year</th>\n",
       "      <th>population</th>\n",
       "      <th>continent</th>\n",
       "      <th>life_exp</th>\n",
       "      <th>gdp_cap</th>\n",
       "    </tr>\n",
       "  </thead>\n",
       "  <tbody>\n",
       "    <tr>\n",
       "      <th>1151</th>\n",
       "      <td>Norway</td>\n",
       "      <td>2007</td>\n",
       "      <td>4627926</td>\n",
       "      <td>Europe</td>\n",
       "      <td>80.196</td>\n",
       "      <td>49357.19017</td>\n",
       "    </tr>\n",
       "  </tbody>\n",
       "</table>\n",
       "</div>"
      ],
      "text/plain": [
       "     country  year  population continent  life_exp      gdp_cap\n",
       "1151  Norway  2007     4627926    Europe    80.196  49357.19017"
      ]
     },
     "execution_count": 16,
     "metadata": {},
     "output_type": "execute_result"
    }
   ],
   "source": [
    "New_data_2007[New_data_2007.gdp_cap == New_data_2007.gdp_cap.max()]"
   ]
  },
  {
   "cell_type": "markdown",
   "id": "427b273e",
   "metadata": {},
   "source": [
    "### Q5: Which country had the highest GDP in 2007?\n"
   ]
  },
  {
   "cell_type": "code",
   "execution_count": 17,
   "id": "b6c45f9f",
   "metadata": {},
   "outputs": [
    {
     "data": {
      "text/html": [
       "<div>\n",
       "<style scoped>\n",
       "    .dataframe tbody tr th:only-of-type {\n",
       "        vertical-align: middle;\n",
       "    }\n",
       "\n",
       "    .dataframe tbody tr th {\n",
       "        vertical-align: top;\n",
       "    }\n",
       "\n",
       "    .dataframe thead th {\n",
       "        text-align: right;\n",
       "    }\n",
       "</style>\n",
       "<table border=\"1\" class=\"dataframe\">\n",
       "  <thead>\n",
       "    <tr style=\"text-align: right;\">\n",
       "      <th></th>\n",
       "      <th>country</th>\n",
       "      <th>year</th>\n",
       "      <th>population</th>\n",
       "      <th>continent</th>\n",
       "      <th>life_exp</th>\n",
       "      <th>gdp_cap</th>\n",
       "      <th>gdp</th>\n",
       "    </tr>\n",
       "  </thead>\n",
       "  <tbody>\n",
       "    <tr>\n",
       "      <th>1619</th>\n",
       "      <td>United States</td>\n",
       "      <td>2007</td>\n",
       "      <td>301139947</td>\n",
       "      <td>Americas</td>\n",
       "      <td>78.242</td>\n",
       "      <td>42951.65309</td>\n",
       "      <td>1.293446e+13</td>\n",
       "    </tr>\n",
       "  </tbody>\n",
       "</table>\n",
       "</div>"
      ],
      "text/plain": [
       "            country  year  population continent  life_exp      gdp_cap  \\\n",
       "1619  United States  2007   301139947  Americas    78.242  42951.65309   \n",
       "\n",
       "               gdp  \n",
       "1619  1.293446e+13  "
      ]
     },
     "execution_count": 17,
     "metadata": {},
     "output_type": "execute_result"
    }
   ],
   "source": [
    "New_data['gdp']=New_data.gdp_cap*New_data.population \n",
    "New_data_2007= New_data[New_data['year']==2007] \n",
    "New_data_2007 [New_data_2007.gdp== New_data_2007.gdp.max()]"
   ]
  },
  {
   "cell_type": "markdown",
   "id": "9a3d2919",
   "metadata": {},
   "source": [
    "### Q6: Is there any change in the trend from 1952 to 2007 in life expectancy\n"
   ]
  },
  {
   "cell_type": "code",
   "execution_count": 18,
   "id": "fcfdca9b",
   "metadata": {},
   "outputs": [
    {
     "data": {
      "text/plain": [
       "<AxesSubplot:xlabel='year', ylabel='life_exp'>"
      ]
     },
     "execution_count": 18,
     "metadata": {},
     "output_type": "execute_result"
    },
    {
     "data": {
      "image/png": "[encoded data removed]",
      "text/plain": [
       "<Figure size 432x288 with 1 Axes>"
      ]
     },
     "metadata": {
      "needs_background": "light"
     },
     "output_type": "display_data"
    }
   ],
   "source": [
    "sns.boxplot(x='year',y='life_exp', data=New_data)"
   ]
  },
  {
   "cell_type": "markdown",
   "id": "c68615d4",
   "metadata": {},
   "source": [
    "### Q7: Which continent has the lowest life expectancy in 2007?\n"
   ]
  },
  {
   "cell_type": "code",
   "execution_count": 19,
   "id": "c7e212ca",
   "metadata": {},
   "outputs": [
    {
     "data": {
      "image/png": "[encoded data removed]",
      "text/plain": [
       "<Figure size 432x288 with 1 Axes>"
      ]
     },
     "metadata": {
      "needs_background": "light"
     },
     "output_type": "display_data"
    }
   ],
   "source": [
    "ax = sns.barplot(x='continent',y='life_exp', data=New_data)"
   ]
  },
  {
   "cell_type": "markdown",
   "id": "6ca16d5c",
   "metadata": {},
   "source": [
    "### Q8: What was the average life expectancy, GDP and gdp per capita in 2007?\n"
   ]
  },
  {
   "cell_type": "code",
   "execution_count": 28,
   "id": "3ec039fc",
   "metadata": {},
   "outputs": [
    {
     "data": {
      "text/html": [
       "<div>\n",
       "<style scoped>\n",
       "    .dataframe tbody tr th:only-of-type {\n",
       "        vertical-align: middle;\n",
       "    }\n",
       "\n",
       "    .dataframe tbody tr th {\n",
       "        vertical-align: top;\n",
       "    }\n",
       "\n",
       "    .dataframe thead th {\n",
       "        text-align: right;\n",
       "    }\n",
       "</style>\n",
       "<table border=\"1\" class=\"dataframe\">\n",
       "  <thead>\n",
       "    <tr style=\"text-align: right;\">\n",
       "      <th></th>\n",
       "      <th>year</th>\n",
       "      <th>population</th>\n",
       "      <th>life_exp</th>\n",
       "      <th>gdp_cap</th>\n",
       "      <th>gdp</th>\n",
       "    </tr>\n",
       "  </thead>\n",
       "  <tbody>\n",
       "    <tr>\n",
       "      <th>count</th>\n",
       "      <td>142.0</td>\n",
       "      <td>1.420000e+02</td>\n",
       "      <td>142.000000</td>\n",
       "      <td>142.000000</td>\n",
       "      <td>1.420000e+02</td>\n",
       "    </tr>\n",
       "    <tr>\n",
       "      <th>mean</th>\n",
       "      <td>2007.0</td>\n",
       "      <td>4.402122e+07</td>\n",
       "      <td>67.007423</td>\n",
       "      <td>11680.071820</td>\n",
       "      <td>4.092207e+11</td>\n",
       "    </tr>\n",
       "    <tr>\n",
       "      <th>std</th>\n",
       "      <td>0.0</td>\n",
       "      <td>1.476214e+08</td>\n",
       "      <td>12.073021</td>\n",
       "      <td>12859.937337</td>\n",
       "      <td>1.311852e+12</td>\n",
       "    </tr>\n",
       "    <tr>\n",
       "      <th>min</th>\n",
       "      <td>2007.0</td>\n",
       "      <td>1.995790e+05</td>\n",
       "      <td>39.613000</td>\n",
       "      <td>277.551859</td>\n",
       "      <td>3.190141e+08</td>\n",
       "    </tr>\n",
       "    <tr>\n",
       "      <th>25%</th>\n",
       "      <td>2007.0</td>\n",
       "      <td>4.508034e+06</td>\n",
       "      <td>57.160250</td>\n",
       "      <td>1624.842248</td>\n",
       "      <td>1.743849e+10</td>\n",
       "    </tr>\n",
       "    <tr>\n",
       "      <th>50%</th>\n",
       "      <td>2007.0</td>\n",
       "      <td>1.051753e+07</td>\n",
       "      <td>71.935500</td>\n",
       "      <td>6124.371108</td>\n",
       "      <td>5.786906e+10</td>\n",
       "    </tr>\n",
       "    <tr>\n",
       "      <th>75%</th>\n",
       "      <td>2007.0</td>\n",
       "      <td>3.121004e+07</td>\n",
       "      <td>76.413250</td>\n",
       "      <td>18008.835640</td>\n",
       "      <td>2.759600e+11</td>\n",
       "    </tr>\n",
       "    <tr>\n",
       "      <th>max</th>\n",
       "      <td>2007.0</td>\n",
       "      <td>1.318683e+09</td>\n",
       "      <td>82.603000</td>\n",
       "      <td>49357.190170</td>\n",
       "      <td>1.293446e+13</td>\n",
       "    </tr>\n",
       "  </tbody>\n",
       "</table>\n",
       "</div>"
      ],
      "text/plain": [
       "         year    population    life_exp       gdp_cap           gdp\n",
       "count   142.0  1.420000e+02  142.000000    142.000000  1.420000e+02\n",
       "mean   2007.0  4.402122e+07   67.007423  11680.071820  4.092207e+11\n",
       "std       0.0  1.476214e+08   12.073021  12859.937337  1.311852e+12\n",
       "min    2007.0  1.995790e+05   39.613000    277.551859  3.190141e+08\n",
       "25%    2007.0  4.508034e+06   57.160250   1624.842248  1.743849e+10\n",
       "50%    2007.0  1.051753e+07   71.935500   6124.371108  5.786906e+10\n",
       "75%    2007.0  3.121004e+07   76.413250  18008.835640  2.759600e+11\n",
       "max    2007.0  1.318683e+09   82.603000  49357.190170  1.293446e+13"
      ]
     },
     "execution_count": 28,
     "metadata": {},
     "output_type": "execute_result"
    }
   ],
   "source": [
    "year_2007 = New_data[New_data['year']==2007]\n",
    "year_2007.describe()\n",
    "\n",
    "## HERE AVERAGE IN THE SENCE MEAN"
   ]
  },
  {
   "cell_type": "markdown",
   "id": "677c1107",
   "metadata": {},
   "source": [
    "### Q9: Is there any relationship between life expectancy and gdp per capita? Please show each data point by continent.\n",
    "\n"
   ]
  },
  {
   "cell_type": "code",
   "execution_count": 25,
   "id": "0450f41d",
   "metadata": {},
   "outputs": [
    {
     "data": {
      "text/plain": [
       "Text(0, 0.5, 'Life Expectancy [in years]')"
      ]
     },
     "execution_count": 25,
     "metadata": {},
     "output_type": "execute_result"
    },
    {
     "data": {
      "image/png": "[encoded data removed]",
      "text/plain": [
       "<Figure size 432x288 with 1 Axes>"
      ]
     },
     "metadata": {
      "needs_background": "light"
     },
     "output_type": "display_data"
    }
   ],
   "source": [
    "sns.scatterplot (x=\"gdp_cap\",\n",
    "                 y=\"life_exp\",\n",
    "                 hue=\"continent\",\n",
    "                 data=New_data_2007)\n",
    "\n",
    "plt.xlabel('GDP per Capita [in USD]')\n",
    "\n",
    "plt.ylabel('Life Expectancy [in years]')"
   ]
  },
  {
   "cell_type": "markdown",
   "id": "39870a89",
   "metadata": {},
   "source": [
    "### Q10: What can be done to see the relationship better between life expectancy and gdp percapita?\n"
   ]
  },
  {
   "cell_type": "code",
   "execution_count": 24,
   "id": "53d8bdab",
   "metadata": {},
   "outputs": [
    {
     "data": {
      "text/plain": [
       "Text(0, 0.5, 'Life Expectancy [in years]')"
      ]
     },
     "execution_count": 24,
     "metadata": {},
     "output_type": "execute_result"
    },
    {
     "data": {
      "image/png": "[encoded data removed]",
      "text/plain": [
       "<Figure size 432x288 with 1 Axes>"
      ]
     },
     "metadata": {
      "needs_background": "light"
     },
     "output_type": "display_data"
    }
   ],
   "source": [
    "sns.scatterplot (x=\"gdp_cap\",\n",
    "                 y=\"life_exp\",\n",
    "                 data=New_data_2007)\n",
    "\n",
    "plt.xlabel('GDP per Capita [in USD]')\n",
    "\n",
    "plt.ylabel('Life Expectancy [in years]')"
   ]
  },
  {
   "cell_type": "markdown",
   "id": "8047d2a5",
   "metadata": {},
   "source": [
    "## Q11: What is the trend of life expectancy in India from 1952 - 2007?\n"
   ]
  },
  {
   "cell_type": "code",
   "execution_count": 21,
   "id": "ad7d2a99",
   "metadata": {},
   "outputs": [
    {
     "data": {
      "text/plain": [
       "<AxesSubplot:xlabel='year', ylabel='life_exp'>"
      ]
     },
     "execution_count": 21,
     "metadata": {},
     "output_type": "execute_result"
    },
    {
     "data": {
      "image/png": "[encoded data removed]",
      "text/plain": [
       "<Figure size 432x288 with 1 Axes>"
      ]
     },
     "metadata": {
      "needs_background": "light"
     },
     "output_type": "display_data"
    }
   ],
   "source": [
    "sns.lineplot(x='year',y='life_exp', data=New_data)"
   ]
  },
  {
   "cell_type": "markdown",
   "id": "90b2d832",
   "metadata": {},
   "source": [
    "## Q12: What is the trend of GDP per capita in India from 1952 - 2007?\n"
   ]
  },
  {
   "cell_type": "code",
   "execution_count": 22,
   "id": "5bf62ed7",
   "metadata": {},
   "outputs": [
    {
     "data": {
      "text/plain": [
       "<AxesSubplot:xlabel='year', ylabel='gdp_cap'>"
      ]
     },
     "execution_count": 22,
     "metadata": {},
     "output_type": "execute_result"
    },
    {
     "data": {
      "image/png": "[encoded data removed]",
      "text/plain": [
       "<Figure size 432x288 with 1 Axes>"
      ]
     },
     "metadata": {
      "needs_background": "light"
     },
     "output_type": "display_data"
    }
   ],
   "source": [
    "sns.lineplot(x='year',y='gdp_cap', data=New_data)"
   ]
  },
  {
   "cell_type": "markdown",
   "id": "0b0bc250",
   "metadata": {},
   "source": [
    "## Q13: What is the median age of each continent by year?\n"
   ]
  },
  {
   "cell_type": "code",
   "execution_count": 23,
   "id": "ccf03b35",
   "metadata": {},
   "outputs": [
    {
     "data": {
      "text/plain": [
       "year  continent\n",
       "1952  Africa       38.8330\n",
       "      Americas     54.7450\n",
       "      Asia         44.8690\n",
       "      Europe       65.9000\n",
       "      Oceania      69.2550\n",
       "1957  Africa       40.5925\n",
       "      Americas     56.0740\n",
       "      Asia         48.2840\n",
       "      Europe       67.6500\n",
       "      Oceania      70.2950\n",
       "1962  Africa       42.6305\n",
       "      Americas     58.2990\n",
       "      Asia         49.3250\n",
       "      Europe       69.5250\n",
       "      Oceania      71.0850\n",
       "1967  Africa       44.6985\n",
       "      Americas     60.5230\n",
       "      Asia         53.6550\n",
       "      Europe       70.6100\n",
       "      Oceania      71.3100\n",
       "1972  Africa       47.0315\n",
       "      Americas     63.4410\n",
       "      Asia         56.9500\n",
       "      Europe       70.8850\n",
       "      Oceania      71.9100\n",
       "1977  Africa       49.2725\n",
       "      Americas     66.3530\n",
       "      Asia         60.7650\n",
       "      Europe       72.3350\n",
       "      Oceania      72.8550\n",
       "1982  Africa       50.7560\n",
       "      Americas     67.4050\n",
       "      Asia         63.7390\n",
       "      Europe       73.4900\n",
       "      Oceania      74.2900\n",
       "1987  Africa       51.6395\n",
       "      Americas     69.4980\n",
       "      Asia         66.2950\n",
       "      Europe       74.8150\n",
       "      Oceania      75.3200\n",
       "1992  Africa       52.4290\n",
       "      Americas     69.8620\n",
       "      Asia         68.6900\n",
       "      Europe       75.4510\n",
       "      Oceania      76.9450\n",
       "1997  Africa       52.7590\n",
       "      Americas     72.1460\n",
       "      Asia         70.2650\n",
       "      Europe       76.1160\n",
       "      Oceania      78.1900\n",
       "2002  Africa       51.2355\n",
       "      Americas     72.0470\n",
       "      Asia         71.0280\n",
       "      Europe       77.5365\n",
       "      Oceania      79.7400\n",
       "2007  Africa       52.9265\n",
       "      Americas     72.8990\n",
       "      Asia         72.3960\n",
       "      Europe       78.6085\n",
       "      Oceania      80.7195\n",
       "Name: life_exp, dtype: float64"
      ]
     },
     "execution_count": 23,
     "metadata": {},
     "output_type": "execute_result"
    }
   ],
   "source": [
    "New_data_year_cont = New_data.groupby (['year', 'continent'])['life_exp'].median() \n",
    "New_data_year_cont"
   ]
  }
 ],
 "metadata": {
  "kernelspec": {
   "display_name": "Python 3 (ipykernel)",
   "language": "python",
   "name": "python3"
  },
  "language_info": {
   "codemirror_mode": {
    "name": "ipython",
    "version": 3
   },
   "file_extension": ".py",
   "mimetype": "text/x-python",
   "name": "python",
   "nbconvert_exporter": "python",
   "pygments_lexer": "ipython3",
   "version": "3.9.7"
  }
 },
 "nbformat": 4,
 "nbformat_minor": 5
}
